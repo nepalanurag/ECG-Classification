{
 "cells": [
  {
   "cell_type": "code",
   "execution_count": 1,
   "metadata": {
    "execution": {
     "iopub.execute_input": "2022-12-18T12:03:53.541418Z",
     "iopub.status.busy": "2022-12-18T12:03:53.540663Z",
     "iopub.status.idle": "2022-12-18T12:03:58.464777Z",
     "shell.execute_reply": "2022-12-18T12:03:58.465949Z",
     "shell.execute_reply.started": "2022-12-18T11:00:45.309500Z"
    },
    "id": "01sGdCKfa-vn",
    "papermill": {
     "duration": 4.953828,
     "end_time": "2022-12-18T12:03:58.466363",
     "exception": false,
     "start_time": "2022-12-18T12:03:53.512535",
     "status": "completed"
    },
    "tags": []
   },
   "outputs": [],
   "source": [
    "import pandas as pd\n",
    "import matplotlib.pyplot as plt\n",
    "import numpy as np\n",
    "from tensorflow.keras import Sequential,utils\n",
    "from tensorflow.keras.layers import Flatten, Dense, Conv1D, MaxPool1D, Dropout\n",
    "import seaborn as sns\n",
    "from sklearn.metrics import confusion_matrix, accuracy_score\n",
    "from sklearn.model_selection import train_test_split"
   ]
  },
  {
   "cell_type": "code",
   "execution_count": 2,
   "metadata": {
    "execution": {
     "iopub.execute_input": "2022-12-18T12:03:58.542702Z",
     "iopub.status.busy": "2022-12-18T12:03:58.541509Z",
     "iopub.status.idle": "2022-12-18T12:04:08.306723Z",
     "shell.execute_reply": "2022-12-18T12:04:08.306060Z",
     "shell.execute_reply.started": "2022-12-18T11:48:55.057247Z"
    },
    "id": "QRrR1cIraVfe",
    "papermill": {
     "duration": 9.808113,
     "end_time": "2022-12-18T12:04:08.306888",
     "exception": false,
     "start_time": "2022-12-18T12:03:58.498775",
     "status": "completed"
    },
    "tags": []
   },
   "outputs": [],
   "source": [
    "df_train = pd.read_csv(\"/kaggle/input/heartbeat/mitbih_train.csv\", header=None)\n",
    "df_test = pd.read_csv(\"/kaggle/input/heartbeat/mitbih_test.csv\", header=None)"
   ]
  },
  {
   "cell_type": "code",
   "execution_count": 3,
   "metadata": {
    "execution": {
     "iopub.execute_input": "2022-12-18T12:04:08.357371Z",
     "iopub.status.busy": "2022-12-18T12:04:08.356258Z",
     "iopub.status.idle": "2022-12-18T12:04:08.411557Z",
     "shell.execute_reply": "2022-12-18T12:04:08.411070Z",
     "shell.execute_reply.started": "2022-12-18T11:48:58.398676Z"
    },
    "id": "vD2CxlXaa7_Y",
    "outputId": "062f6ec5-2fa0-437d-cf5c-53f647c78b0b",
    "papermill": {
     "duration": 0.081549,
     "end_time": "2022-12-18T12:04:08.411697",
     "exception": false,
     "start_time": "2022-12-18T12:04:08.330148",
     "status": "completed"
    },
    "tags": []
   },
   "outputs": [],
   "source": [
    "df= pd.concat([df_train,df_test],ignore_index=True,sort=False)"
   ]
  },
  {
   "cell_type": "code",
   "execution_count": 4,
   "metadata": {
    "execution": {
     "iopub.execute_input": "2022-12-18T12:04:08.460540Z",
     "iopub.status.busy": "2022-12-18T12:04:08.459866Z",
     "iopub.status.idle": "2022-12-18T12:04:08.463535Z",
     "shell.execute_reply": "2022-12-18T12:04:08.463115Z",
     "shell.execute_reply.started": "2022-12-18T11:02:37.943185Z"
    },
    "papermill": {
     "duration": 0.030244,
     "end_time": "2022-12-18T12:04:08.463649",
     "exception": false,
     "start_time": "2022-12-18T12:04:08.433405",
     "status": "completed"
    },
    "tags": []
   },
   "outputs": [],
   "source": [
    "X=df.iloc[:,:-1]\n",
    "y=df.iloc[:,-1]"
   ]
  },
  {
   "cell_type": "code",
   "execution_count": 5,
   "metadata": {
    "execution": {
     "iopub.execute_input": "2022-12-18T12:04:08.513770Z",
     "iopub.status.busy": "2022-12-18T12:04:08.513258Z",
     "iopub.status.idle": "2022-12-18T12:04:08.682228Z",
     "shell.execute_reply": "2022-12-18T12:04:08.681652Z",
     "shell.execute_reply.started": "2022-12-18T11:02:48.479974Z"
    },
    "papermill": {
     "duration": 0.197282,
     "end_time": "2022-12-18T12:04:08.682372",
     "exception": false,
     "start_time": "2022-12-18T12:04:08.485090",
     "status": "completed"
    },
    "tags": []
   },
   "outputs": [],
   "source": [
    "X_train, X_test, y_train, y_test = train_test_split(X, y, test_size=0.3, random_state=28)"
   ]
  },
  {
   "cell_type": "code",
   "execution_count": 6,
   "metadata": {
    "execution": {
     "iopub.execute_input": "2022-12-18T12:04:08.730376Z",
     "iopub.status.busy": "2022-12-18T12:04:08.729673Z",
     "iopub.status.idle": "2022-12-18T12:04:08.938096Z",
     "shell.execute_reply": "2022-12-18T12:04:08.937605Z",
     "shell.execute_reply.started": "2022-12-18T11:03:09.991682Z"
    },
    "papermill": {
     "duration": 0.233525,
     "end_time": "2022-12-18T12:04:08.938244",
     "exception": false,
     "start_time": "2022-12-18T12:04:08.704719",
     "status": "completed"
    },
    "tags": []
   },
   "outputs": [],
   "source": [
    "import imblearn\n",
    "from imblearn.over_sampling import SMOTE"
   ]
  },
  {
   "cell_type": "code",
   "execution_count": 7,
   "metadata": {
    "execution": {
     "iopub.execute_input": "2022-12-18T12:04:08.985983Z",
     "iopub.status.busy": "2022-12-18T12:04:08.985282Z",
     "iopub.status.idle": "2022-12-18T12:04:18.479540Z",
     "shell.execute_reply": "2022-12-18T12:04:18.479028Z",
     "shell.execute_reply.started": "2022-12-18T11:03:19.300670Z"
    },
    "papermill": {
     "duration": 9.519688,
     "end_time": "2022-12-18T12:04:18.479683",
     "exception": false,
     "start_time": "2022-12-18T12:04:08.959995",
     "status": "completed"
    },
    "tags": []
   },
   "outputs": [],
   "source": [
    "smote=SMOTE()\n",
    "X_oversampled,y_oversampled=smote.fit_resample(X_train,y_train)"
   ]
  },
  {
   "cell_type": "code",
   "execution_count": 8,
   "metadata": {
    "execution": {
     "iopub.execute_input": "2022-12-18T12:04:18.528956Z",
     "iopub.status.busy": "2022-12-18T12:04:18.527745Z",
     "iopub.status.idle": "2022-12-18T12:04:18.590526Z",
     "shell.execute_reply": "2022-12-18T12:04:18.590034Z",
     "shell.execute_reply.started": "2022-12-18T11:04:29.129587Z"
    },
    "id": "lJMBCc19epAN",
    "papermill": {
     "duration": 0.088764,
     "end_time": "2022-12-18T12:04:18.590656",
     "exception": false,
     "start_time": "2022-12-18T12:04:18.501892",
     "status": "completed"
    },
    "tags": []
   },
   "outputs": [],
   "source": [
    "X_train = np.array(X_train).reshape(X_train.shape[0], X_train.shape[1], 1)\n",
    "X_test = np.array(X_test).reshape(X_test.shape[0], X_test.shape[1], 1)"
   ]
  },
  {
   "cell_type": "code",
   "execution_count": 9,
   "metadata": {
    "execution": {
     "iopub.execute_input": "2022-12-18T12:04:18.640489Z",
     "iopub.status.busy": "2022-12-18T12:04:18.639866Z",
     "iopub.status.idle": "2022-12-18T12:04:20.934396Z",
     "shell.execute_reply": "2022-12-18T12:04:20.933274Z",
     "shell.execute_reply.started": "2022-12-18T11:06:02.114553Z"
    },
    "id": "YcQ72ZBseWcG",
    "papermill": {
     "duration": 2.322194,
     "end_time": "2022-12-18T12:04:20.934555",
     "exception": false,
     "start_time": "2022-12-18T12:04:18.612361",
     "status": "completed"
    },
    "tags": []
   },
   "outputs": [],
   "source": [
    "model = Sequential()\n",
    "\n",
    "model.add(Conv1D(filters=32, kernel_size=(3,), padding='same', activation='relu', input_shape = (X_train.shape[1],1)))\n",
    "model.add(Conv1D(filters=64, kernel_size=(3,), padding='same', activation='relu')) \n",
    "model.add(Conv1D(filters=128, kernel_size=(5,), padding='same', activation='relu'))    \n",
    "\n",
    "model.add(MaxPool1D(pool_size=(3,), strides=2, padding='same'))\n",
    "model.add(Dropout(0.6))\n",
    "\n",
    "model.add(Flatten())\n",
    "\n",
    "model.add(Dense(units = 512, activation='relu'))\n",
    "model.add(Dense(units = 1024, activation='relu'))\n",
    "model.add(Dense(units = 5, activation='softmax'))\n",
    "\n",
    "model.compile(optimizer='adam', loss = 'sparse_categorical_crossentropy', metrics=['accuracy'])"
   ]
  },
  {
   "cell_type": "code",
   "execution_count": 10,
   "metadata": {
    "execution": {
     "iopub.execute_input": "2022-12-18T12:04:20.982888Z",
     "iopub.status.busy": "2022-12-18T12:04:20.982249Z",
     "iopub.status.idle": "2022-12-18T12:05:14.092996Z",
     "shell.execute_reply": "2022-12-18T12:05:14.092376Z",
     "shell.execute_reply.started": "2022-12-18T11:28:32.702231Z"
    },
    "id": "9U3mvEQyhDyi",
    "outputId": "5e54418f-97c9-4d15-d42a-700a789beaa5",
    "papermill": {
     "duration": 53.136678,
     "end_time": "2022-12-18T12:05:14.093152",
     "exception": false,
     "start_time": "2022-12-18T12:04:20.956474",
     "status": "completed"
    },
    "tags": []
   },
   "outputs": [
    {
     "name": "stdout",
     "output_type": "stream",
     "text": [
      "Epoch 1/10\n",
      "958/958 [==============================] - 9s 6ms/step - loss: 0.3286 - accuracy: 0.9084 - val_loss: 0.1100 - val_accuracy: 0.9702\n",
      "Epoch 2/10\n",
      "958/958 [==============================] - 5s 5ms/step - loss: 0.1167 - accuracy: 0.9674 - val_loss: 0.0946 - val_accuracy: 0.9751\n",
      "Epoch 3/10\n",
      "958/958 [==============================] - 5s 5ms/step - loss: 0.0900 - accuracy: 0.9739 - val_loss: 0.0757 - val_accuracy: 0.9793\n",
      "Epoch 4/10\n",
      "958/958 [==============================] - 5s 5ms/step - loss: 0.0749 - accuracy: 0.9768 - val_loss: 0.0620 - val_accuracy: 0.9821\n",
      "Epoch 5/10\n",
      "958/958 [==============================] - 5s 5ms/step - loss: 0.0649 - accuracy: 0.9796 - val_loss: 0.0601 - val_accuracy: 0.9830\n",
      "Epoch 6/10\n",
      "958/958 [==============================] - 5s 5ms/step - loss: 0.0533 - accuracy: 0.9836 - val_loss: 0.0616 - val_accuracy: 0.9825\n",
      "Epoch 7/10\n",
      "958/958 [==============================] - 5s 5ms/step - loss: 0.0480 - accuracy: 0.9843 - val_loss: 0.0660 - val_accuracy: 0.9812\n",
      "Epoch 8/10\n",
      "958/958 [==============================] - 5s 5ms/step - loss: 0.0425 - accuracy: 0.9864 - val_loss: 0.0587 - val_accuracy: 0.9828\n",
      "Epoch 9/10\n",
      "958/958 [==============================] - 5s 5ms/step - loss: 0.0384 - accuracy: 0.9883 - val_loss: 0.0711 - val_accuracy: 0.9830\n",
      "Epoch 10/10\n",
      "958/958 [==============================] - 5s 5ms/step - loss: 0.0333 - accuracy: 0.9891 - val_loss: 0.0613 - val_accuracy: 0.9849\n"
     ]
    }
   ],
   "source": [
    "history = model.fit(X_train, y_train, epochs=10,validation_split=0.2,batch_size=64,verbose=1)"
   ]
  },
  {
   "cell_type": "code",
   "execution_count": 11,
   "metadata": {
    "execution": {
     "iopub.execute_input": "2022-12-18T12:05:14.532383Z",
     "iopub.status.busy": "2022-12-18T12:05:14.531443Z",
     "iopub.status.idle": "2022-12-18T12:05:15.618321Z",
     "shell.execute_reply": "2022-12-18T12:05:15.618802Z",
     "shell.execute_reply.started": "2022-12-18T11:29:26.303719Z"
    },
    "id": "VF-sULyChUB8",
    "papermill": {
     "duration": 1.308447,
     "end_time": "2022-12-18T12:05:15.618990",
     "exception": false,
     "start_time": "2022-12-18T12:05:14.310543",
     "status": "completed"
    },
    "tags": []
   },
   "outputs": [],
   "source": [
    "pred = model.predict(X_test)"
   ]
  },
  {
   "cell_type": "code",
   "execution_count": 12,
   "metadata": {
    "execution": {
     "iopub.execute_input": "2022-12-18T12:05:16.116673Z",
     "iopub.status.busy": "2022-12-18T12:05:16.115669Z",
     "iopub.status.idle": "2022-12-18T12:05:16.118345Z",
     "shell.execute_reply": "2022-12-18T12:05:16.118794Z",
     "shell.execute_reply.started": "2022-12-18T11:29:27.267435Z"
    },
    "papermill": {
     "duration": 0.243754,
     "end_time": "2022-12-18T12:05:16.118975",
     "exception": false,
     "start_time": "2022-12-18T12:05:15.875221",
     "status": "completed"
    },
    "tags": []
   },
   "outputs": [],
   "source": [
    "y_pred=np.argmax(pred,axis=1)"
   ]
  },
  {
   "cell_type": "code",
   "execution_count": 13,
   "metadata": {
    "execution": {
     "iopub.execute_input": "2022-12-18T12:05:16.613624Z",
     "iopub.status.busy": "2022-12-18T12:05:16.612800Z",
     "iopub.status.idle": "2022-12-18T12:05:16.667165Z",
     "shell.execute_reply": "2022-12-18T12:05:16.667825Z",
     "shell.execute_reply.started": "2022-12-18T11:29:30.592905Z"
    },
    "papermill": {
     "duration": 0.303833,
     "end_time": "2022-12-18T12:05:16.668051",
     "exception": false,
     "start_time": "2022-12-18T12:05:16.364218",
     "status": "completed"
    },
    "tags": []
   },
   "outputs": [
    {
     "name": "stdout",
     "output_type": "stream",
     "text": [
      "Accuracy with CNN is: 0.985959675945666\n",
      "              precision    recall  f1-score   support\n",
      "\n",
      "         0.0       0.99      1.00      0.99     27096\n",
      "         1.0       0.93      0.78      0.85       852\n",
      "         2.0       0.98      0.95      0.97      2161\n",
      "         3.0       0.94      0.70      0.80       232\n",
      "         4.0       0.99      0.99      0.99      2493\n",
      "\n",
      "    accuracy                           0.99     32834\n",
      "   macro avg       0.97      0.88      0.92     32834\n",
      "weighted avg       0.99      0.99      0.99     32834\n",
      "\n"
     ]
    }
   ],
   "source": [
    "from sklearn.metrics import classification_report\n",
    "print(\"Accuracy with CNN is:\", accuracy_score(y_test,y_pred))\n",
    "print(classification_report(y_test,y_pred))"
   ]
  },
  {
   "cell_type": "code",
   "execution_count": 14,
   "metadata": {
    "execution": {
     "iopub.execute_input": "2022-12-18T12:05:17.140471Z",
     "iopub.status.busy": "2022-12-18T12:05:17.135031Z",
     "iopub.status.idle": "2022-12-18T12:05:17.496188Z",
     "shell.execute_reply": "2022-12-18T12:05:17.496608Z",
     "shell.execute_reply.started": "2022-12-18T11:30:24.506347Z"
    },
    "papermill": {
     "duration": 0.597206,
     "end_time": "2022-12-18T12:05:17.496771",
     "exception": false,
     "start_time": "2022-12-18T12:05:16.899565",
     "status": "completed"
    },
    "tags": []
   },
   "outputs": [
    {
     "data": {
      "image/png": "[encoded data removed]",
      "text/plain": [
       "<Figure size 2160x720 with 2 Axes>"
      ]
     },
     "metadata": {
      "needs_background": "light"
     },
     "output_type": "display_data"
    }
   ],
   "source": [
    "acc = history.history['accuracy']\n",
    "val_acc = history.history['val_accuracy']\n",
    "\n",
    "loss = history.history['loss']\n",
    "val_loss = history.history['val_loss']\n",
    "\n",
    "epochs_range = range(10)\n",
    "\n",
    "plt.figure(figsize=(30, 10))\n",
    "plt.subplot(1, 2, 1)\n",
    "plt.plot(epochs_range, acc, label='Training Accuracy')\n",
    "plt.plot(epochs_range, val_acc, label='Validation Accuracy')\n",
    "plt.legend(loc='lower right')\n",
    "plt.title('Training and Validation Accuracy')\n",
    "\n",
    "plt.subplot(1, 2, 2)\n",
    "plt.plot(epochs_range, loss, label='Training Loss')\n",
    "plt.plot(epochs_range, val_loss, label='Validation Loss')\n",
    "plt.legend(loc='upper right')\n",
    "plt.title('Training and Validation Loss')\n",
    "plt.show()"
   ]
  },
  {
   "cell_type": "code",
   "execution_count": 15,
   "metadata": {
    "execution": {
     "iopub.execute_input": "2022-12-18T12:05:18.009695Z",
     "iopub.status.busy": "2022-12-18T12:05:18.008934Z",
     "iopub.status.idle": "2022-12-18T12:05:18.053927Z",
     "shell.execute_reply": "2022-12-18T12:05:18.054864Z",
     "shell.execute_reply.started": "2022-12-18T11:30:59.970048Z"
    },
    "papermill": {
     "duration": 0.336223,
     "end_time": "2022-12-18T12:05:18.055068",
     "exception": false,
     "start_time": "2022-12-18T12:05:17.718845",
     "status": "completed"
    },
    "tags": []
   },
   "outputs": [
    {
     "name": "stdout",
     "output_type": "stream",
     "text": [
      "[[27025    43    18     2     8]\n",
      " [  182   666     3     0     1]\n",
      " [   89     3  2057     8     4]\n",
      " [   50     0    19   163     0]\n",
      " [   26     1     4     0  2462]]\n"
     ]
    }
   ],
   "source": [
    "cf_matrix = confusion_matrix(y_test, y_pred)\n",
    "print(cf_matrix)"
   ]
  },
  {
   "cell_type": "code",
   "execution_count": 16,
   "metadata": {
    "execution": {
     "iopub.execute_input": "2022-12-18T12:05:18.640011Z",
     "iopub.status.busy": "2022-12-18T12:05:18.638135Z",
     "iopub.status.idle": "2022-12-18T12:05:18.640581Z",
     "shell.execute_reply": "2022-12-18T12:05:18.641021Z",
     "shell.execute_reply.started": "2022-12-18T11:31:21.661660Z"
    },
    "papermill": {
     "duration": 0.261689,
     "end_time": "2022-12-18T12:05:18.641169",
     "exception": false,
     "start_time": "2022-12-18T12:05:18.379480",
     "status": "completed"
    },
    "tags": []
   },
   "outputs": [],
   "source": [
    "import numpy as np\n",
    "\n",
    "\n",
    "def plot_confusion_matrix(cm,\n",
    "                          target_names,\n",
    "                          title='Confusion matrix',\n",
    "                          cmap=None,\n",
    "                          normalize=True):\n",
    "    \"\"\"\n",
    "    given a sklearn confusion matrix (cm), make a nice plot\n",
    "\n",
    "    Arguments\n",
    "    ---------\n",
    "    cm:           confusion matrix from sklearn.metrics.confusion_matrix\n",
    "\n",
    "    target_names: given classification classes such as [0, 1, 2]\n",
    "                  the class names, for example: ['high', 'medium', 'low']\n",
    "\n",
    "    title:        the text to display at the top of the matrix\n",
    "\n",
    "    cmap:         the gradient of the values displayed from matplotlib.pyplot.cm\n",
    "                  see http://matplotlib.org/examples/color/colormaps_reference.html\n",
    "                  plt.get_cmap('jet') or plt.cm.Blues\n",
    "\n",
    "    normalize:    If False, plot the raw numbers\n",
    "                  If True, plot the proportions\n",
    "\n",
    "    Usage\n",
    "    -----\n",
    "    plot_confusion_matrix(cm           = cm,                  # confusion matrix created by\n",
    "                                                              # sklearn.metrics.confusion_matrix\n",
    "                          normalize    = True,                # show proportions\n",
    "                          target_names = y_labels_vals,       # list of names of the classes\n",
    "                          title        = best_estimator_name) # title of graph\n",
    "\n",
    "    Citiation\n",
    "    ---------\n",
    "    http://scikit-learn.org/stable/auto_examples/model_selection/plot_confusion_matrix.html\n",
    "\n",
    "    \"\"\"\n",
    "    import matplotlib.pyplot as plt\n",
    "    import numpy as np\n",
    "    import itertools\n",
    "\n",
    "    accuracy = np.trace(cm) / float(np.sum(cm))\n",
    "    misclass = 1 - accuracy\n",
    "\n",
    "    if cmap is None:\n",
    "        cmap = plt.get_cmap('Blues')\n",
    "\n",
    "    plt.figure(figsize=(12, 8))\n",
    "    plt.imshow(cm, interpolation='nearest', cmap=cmap)\n",
    "    plt.title(title)\n",
    "    plt.colorbar()\n",
    "\n",
    "    if target_names is not None:\n",
    "        tick_marks = np.arange(len(target_names))\n",
    "        plt.xticks(tick_marks, target_names, rotation=45)\n",
    "        plt.yticks(tick_marks, target_names)\n",
    "\n",
    "    if normalize:\n",
    "        cm = cm.astype('float') / cm.sum(axis=1)[:, np.newaxis]\n",
    "\n",
    "\n",
    "    thresh = cm.max() / 1.5 if normalize else cm.max() / 2\n",
    "    for i, j in itertools.product(range(cm.shape[0]), range(cm.shape[1])):\n",
    "        if normalize:\n",
    "            plt.text(j, i, \"{:0.4f}\".format(cm[i, j]),\n",
    "                     horizontalalignment=\"center\",\n",
    "                     color=\"white\" if cm[i, j] > thresh else \"black\")\n",
    "        else:\n",
    "            plt.text(j, i, \"{:,}\".format(cm[i, j]),\n",
    "                     horizontalalignment=\"center\",\n",
    "                     color=\"white\" if cm[i, j] > thresh else \"black\")\n",
    "\n",
    "\n",
    "    plt.tight_layout()\n",
    "    plt.ylabel('True label')\n",
    "    plt.xlabel('Predicted label\\naccuracy={:0.4f}; misclass={:0.4f}'.format(accuracy, misclass))\n",
    "    plt.show()"
   ]
  },
  {
   "cell_type": "code",
   "execution_count": 17,
   "metadata": {
    "execution": {
     "iopub.execute_input": "2022-12-18T12:05:19.110390Z",
     "iopub.status.busy": "2022-12-18T12:05:19.109851Z",
     "iopub.status.idle": "2022-12-18T12:05:19.453399Z",
     "shell.execute_reply": "2022-12-18T12:05:19.453862Z",
     "shell.execute_reply.started": "2022-12-18T11:31:31.099015Z"
    },
    "papermill": {
     "duration": 0.594747,
     "end_time": "2022-12-18T12:05:19.454037",
     "exception": false,
     "start_time": "2022-12-18T12:05:18.859290",
     "status": "completed"
    },
    "tags": []
   },
   "outputs": [
    {
     "data": {
      "image/png": "[encoded data removed]",
      "text/plain": [
       "<Figure size 864x576 with 2 Axes>"
      ]
     },
     "metadata": {
      "needs_background": "light"
     },
     "output_type": "display_data"
    }
   ],
   "source": [
    "plot_confusion_matrix(cf_matrix,\n",
    "                      normalize    = False,\n",
    "                      target_names = [\"Normal Beat (N:0)\",\n",
    "                                         \"Supraventricular (S:1)\",\n",
    "                                         \"Ventricular (V:2)\",\n",
    "                                         \"Fusion (F:3)\",\n",
    "                                         \"Unknown (Q:4)\"],\n",
    "                      title        = \"Confusion Matrix\")"
   ]
  },
  {
   "cell_type": "markdown",
   "metadata": {
    "papermill": {
     "duration": 0.222389,
     "end_time": "2022-12-18T12:05:19.897555",
     "exception": false,
     "start_time": "2022-12-18T12:05:19.675166",
     "status": "completed"
    },
    "tags": []
   },
   "source": [
    "CNN peformed better so we use this same model and turn this problem into a binary classification problem\n",
    "Normal beat as 0 and rest of the beats as 1"
   ]
  },
  {
   "cell_type": "code",
   "execution_count": 18,
   "metadata": {
    "execution": {
     "iopub.execute_input": "2022-12-18T12:05:20.342389Z",
     "iopub.status.busy": "2022-12-18T12:05:20.341214Z",
     "iopub.status.idle": "2022-12-18T12:05:20.376294Z",
     "shell.execute_reply": "2022-12-18T12:05:20.376715Z",
     "shell.execute_reply.started": "2022-12-18T11:32:57.677583Z"
    },
    "papermill": {
     "duration": 0.26062,
     "end_time": "2022-12-18T12:05:20.376866",
     "exception": false,
     "start_time": "2022-12-18T12:05:20.116246",
     "status": "completed"
    },
    "tags": []
   },
   "outputs": [
    {
     "data": {
      "text/html": [
       "<div>\n",
       "<style scoped>\n",
       "    .dataframe tbody tr th:only-of-type {\n",
       "        vertical-align: middle;\n",
       "    }\n",
       "\n",
       "    .dataframe tbody tr th {\n",
       "        vertical-align: top;\n",
       "    }\n",
       "\n",
       "    .dataframe thead th {\n",
       "        text-align: right;\n",
       "    }\n",
       "</style>\n",
       "<table border=\"1\" class=\"dataframe\">\n",
       "  <thead>\n",
       "    <tr style=\"text-align: right;\">\n",
       "      <th></th>\n",
       "      <th>0</th>\n",
       "      <th>1</th>\n",
       "      <th>2</th>\n",
       "      <th>3</th>\n",
       "      <th>4</th>\n",
       "      <th>5</th>\n",
       "      <th>6</th>\n",
       "      <th>7</th>\n",
       "      <th>8</th>\n",
       "      <th>9</th>\n",
       "      <th>...</th>\n",
       "      <th>178</th>\n",
       "      <th>179</th>\n",
       "      <th>180</th>\n",
       "      <th>181</th>\n",
       "      <th>182</th>\n",
       "      <th>183</th>\n",
       "      <th>184</th>\n",
       "      <th>185</th>\n",
       "      <th>186</th>\n",
       "      <th>187</th>\n",
       "    </tr>\n",
       "  </thead>\n",
       "  <tbody>\n",
       "    <tr>\n",
       "      <th>0</th>\n",
       "      <td>0.977941</td>\n",
       "      <td>0.926471</td>\n",
       "      <td>0.681373</td>\n",
       "      <td>0.245098</td>\n",
       "      <td>0.154412</td>\n",
       "      <td>0.191176</td>\n",
       "      <td>0.151961</td>\n",
       "      <td>0.085784</td>\n",
       "      <td>0.058824</td>\n",
       "      <td>0.049020</td>\n",
       "      <td>...</td>\n",
       "      <td>0.0</td>\n",
       "      <td>0.0</td>\n",
       "      <td>0.0</td>\n",
       "      <td>0.0</td>\n",
       "      <td>0.0</td>\n",
       "      <td>0.0</td>\n",
       "      <td>0.0</td>\n",
       "      <td>0.0</td>\n",
       "      <td>0.0</td>\n",
       "      <td>0.0</td>\n",
       "    </tr>\n",
       "    <tr>\n",
       "      <th>1</th>\n",
       "      <td>0.960114</td>\n",
       "      <td>0.863248</td>\n",
       "      <td>0.461538</td>\n",
       "      <td>0.196581</td>\n",
       "      <td>0.094017</td>\n",
       "      <td>0.125356</td>\n",
       "      <td>0.099715</td>\n",
       "      <td>0.088319</td>\n",
       "      <td>0.074074</td>\n",
       "      <td>0.082621</td>\n",
       "      <td>...</td>\n",
       "      <td>0.0</td>\n",
       "      <td>0.0</td>\n",
       "      <td>0.0</td>\n",
       "      <td>0.0</td>\n",
       "      <td>0.0</td>\n",
       "      <td>0.0</td>\n",
       "      <td>0.0</td>\n",
       "      <td>0.0</td>\n",
       "      <td>0.0</td>\n",
       "      <td>0.0</td>\n",
       "    </tr>\n",
       "    <tr>\n",
       "      <th>2</th>\n",
       "      <td>1.000000</td>\n",
       "      <td>0.659459</td>\n",
       "      <td>0.186486</td>\n",
       "      <td>0.070270</td>\n",
       "      <td>0.070270</td>\n",
       "      <td>0.059459</td>\n",
       "      <td>0.056757</td>\n",
       "      <td>0.043243</td>\n",
       "      <td>0.054054</td>\n",
       "      <td>0.045946</td>\n",
       "      <td>...</td>\n",
       "      <td>0.0</td>\n",
       "      <td>0.0</td>\n",
       "      <td>0.0</td>\n",
       "      <td>0.0</td>\n",
       "      <td>0.0</td>\n",
       "      <td>0.0</td>\n",
       "      <td>0.0</td>\n",
       "      <td>0.0</td>\n",
       "      <td>0.0</td>\n",
       "      <td>0.0</td>\n",
       "    </tr>\n",
       "    <tr>\n",
       "      <th>3</th>\n",
       "      <td>0.925414</td>\n",
       "      <td>0.665746</td>\n",
       "      <td>0.541436</td>\n",
       "      <td>0.276243</td>\n",
       "      <td>0.196133</td>\n",
       "      <td>0.077348</td>\n",
       "      <td>0.071823</td>\n",
       "      <td>0.060773</td>\n",
       "      <td>0.066298</td>\n",
       "      <td>0.058011</td>\n",
       "      <td>...</td>\n",
       "      <td>0.0</td>\n",
       "      <td>0.0</td>\n",
       "      <td>0.0</td>\n",
       "      <td>0.0</td>\n",
       "      <td>0.0</td>\n",
       "      <td>0.0</td>\n",
       "      <td>0.0</td>\n",
       "      <td>0.0</td>\n",
       "      <td>0.0</td>\n",
       "      <td>0.0</td>\n",
       "    </tr>\n",
       "    <tr>\n",
       "      <th>4</th>\n",
       "      <td>0.967136</td>\n",
       "      <td>1.000000</td>\n",
       "      <td>0.830986</td>\n",
       "      <td>0.586854</td>\n",
       "      <td>0.356808</td>\n",
       "      <td>0.248826</td>\n",
       "      <td>0.145540</td>\n",
       "      <td>0.089202</td>\n",
       "      <td>0.117371</td>\n",
       "      <td>0.150235</td>\n",
       "      <td>...</td>\n",
       "      <td>0.0</td>\n",
       "      <td>0.0</td>\n",
       "      <td>0.0</td>\n",
       "      <td>0.0</td>\n",
       "      <td>0.0</td>\n",
       "      <td>0.0</td>\n",
       "      <td>0.0</td>\n",
       "      <td>0.0</td>\n",
       "      <td>0.0</td>\n",
       "      <td>0.0</td>\n",
       "    </tr>\n",
       "    <tr>\n",
       "      <th>...</th>\n",
       "      <td>...</td>\n",
       "      <td>...</td>\n",
       "      <td>...</td>\n",
       "      <td>...</td>\n",
       "      <td>...</td>\n",
       "      <td>...</td>\n",
       "      <td>...</td>\n",
       "      <td>...</td>\n",
       "      <td>...</td>\n",
       "      <td>...</td>\n",
       "      <td>...</td>\n",
       "      <td>...</td>\n",
       "      <td>...</td>\n",
       "      <td>...</td>\n",
       "      <td>...</td>\n",
       "      <td>...</td>\n",
       "      <td>...</td>\n",
       "      <td>...</td>\n",
       "      <td>...</td>\n",
       "      <td>...</td>\n",
       "      <td>...</td>\n",
       "    </tr>\n",
       "    <tr>\n",
       "      <th>109441</th>\n",
       "      <td>0.928736</td>\n",
       "      <td>0.871264</td>\n",
       "      <td>0.804598</td>\n",
       "      <td>0.742529</td>\n",
       "      <td>0.650575</td>\n",
       "      <td>0.535632</td>\n",
       "      <td>0.394253</td>\n",
       "      <td>0.250575</td>\n",
       "      <td>0.140230</td>\n",
       "      <td>0.102299</td>\n",
       "      <td>...</td>\n",
       "      <td>0.0</td>\n",
       "      <td>0.0</td>\n",
       "      <td>0.0</td>\n",
       "      <td>0.0</td>\n",
       "      <td>0.0</td>\n",
       "      <td>0.0</td>\n",
       "      <td>0.0</td>\n",
       "      <td>0.0</td>\n",
       "      <td>0.0</td>\n",
       "      <td>4.0</td>\n",
       "    </tr>\n",
       "    <tr>\n",
       "      <th>109442</th>\n",
       "      <td>0.802691</td>\n",
       "      <td>0.692078</td>\n",
       "      <td>0.587444</td>\n",
       "      <td>0.446936</td>\n",
       "      <td>0.318386</td>\n",
       "      <td>0.189836</td>\n",
       "      <td>0.118087</td>\n",
       "      <td>0.077728</td>\n",
       "      <td>0.112108</td>\n",
       "      <td>0.152466</td>\n",
       "      <td>...</td>\n",
       "      <td>0.0</td>\n",
       "      <td>0.0</td>\n",
       "      <td>0.0</td>\n",
       "      <td>0.0</td>\n",
       "      <td>0.0</td>\n",
       "      <td>0.0</td>\n",
       "      <td>0.0</td>\n",
       "      <td>0.0</td>\n",
       "      <td>0.0</td>\n",
       "      <td>4.0</td>\n",
       "    </tr>\n",
       "    <tr>\n",
       "      <th>109443</th>\n",
       "      <td>1.000000</td>\n",
       "      <td>0.967359</td>\n",
       "      <td>0.620178</td>\n",
       "      <td>0.347181</td>\n",
       "      <td>0.139466</td>\n",
       "      <td>0.089021</td>\n",
       "      <td>0.103858</td>\n",
       "      <td>0.100890</td>\n",
       "      <td>0.106825</td>\n",
       "      <td>0.100890</td>\n",
       "      <td>...</td>\n",
       "      <td>0.0</td>\n",
       "      <td>0.0</td>\n",
       "      <td>0.0</td>\n",
       "      <td>0.0</td>\n",
       "      <td>0.0</td>\n",
       "      <td>0.0</td>\n",
       "      <td>0.0</td>\n",
       "      <td>0.0</td>\n",
       "      <td>0.0</td>\n",
       "      <td>4.0</td>\n",
       "    </tr>\n",
       "    <tr>\n",
       "      <th>109444</th>\n",
       "      <td>0.984127</td>\n",
       "      <td>0.567460</td>\n",
       "      <td>0.607143</td>\n",
       "      <td>0.583333</td>\n",
       "      <td>0.607143</td>\n",
       "      <td>0.575397</td>\n",
       "      <td>0.575397</td>\n",
       "      <td>0.488095</td>\n",
       "      <td>0.392857</td>\n",
       "      <td>0.238095</td>\n",
       "      <td>...</td>\n",
       "      <td>0.0</td>\n",
       "      <td>0.0</td>\n",
       "      <td>0.0</td>\n",
       "      <td>0.0</td>\n",
       "      <td>0.0</td>\n",
       "      <td>0.0</td>\n",
       "      <td>0.0</td>\n",
       "      <td>0.0</td>\n",
       "      <td>0.0</td>\n",
       "      <td>4.0</td>\n",
       "    </tr>\n",
       "    <tr>\n",
       "      <th>109445</th>\n",
       "      <td>0.973970</td>\n",
       "      <td>0.913232</td>\n",
       "      <td>0.865510</td>\n",
       "      <td>0.823210</td>\n",
       "      <td>0.746204</td>\n",
       "      <td>0.642082</td>\n",
       "      <td>0.547722</td>\n",
       "      <td>0.426247</td>\n",
       "      <td>0.325380</td>\n",
       "      <td>0.279826</td>\n",
       "      <td>...</td>\n",
       "      <td>0.0</td>\n",
       "      <td>0.0</td>\n",
       "      <td>0.0</td>\n",
       "      <td>0.0</td>\n",
       "      <td>0.0</td>\n",
       "      <td>0.0</td>\n",
       "      <td>0.0</td>\n",
       "      <td>0.0</td>\n",
       "      <td>0.0</td>\n",
       "      <td>4.0</td>\n",
       "    </tr>\n",
       "  </tbody>\n",
       "</table>\n",
       "<p>109446 rows × 188 columns</p>\n",
       "</div>"
      ],
      "text/plain": [
       "             0         1         2         3         4         5         6    \\\n",
       "0       0.977941  0.926471  0.681373  0.245098  0.154412  0.191176  0.151961   \n",
       "1       0.960114  0.863248  0.461538  0.196581  0.094017  0.125356  0.099715   \n",
       "2       1.000000  0.659459  0.186486  0.070270  0.070270  0.059459  0.056757   \n",
       "3       0.925414  0.665746  0.541436  0.276243  0.196133  0.077348  0.071823   \n",
       "4       0.967136  1.000000  0.830986  0.586854  0.356808  0.248826  0.145540   \n",
       "...          ...       ...       ...       ...       ...       ...       ...   \n",
       "109441  0.928736  0.871264  0.804598  0.742529  0.650575  0.535632  0.394253   \n",
       "109442  0.802691  0.692078  0.587444  0.446936  0.318386  0.189836  0.118087   \n",
       "109443  1.000000  0.967359  0.620178  0.347181  0.139466  0.089021  0.103858   \n",
       "109444  0.984127  0.567460  0.607143  0.583333  0.607143  0.575397  0.575397   \n",
       "109445  0.973970  0.913232  0.865510  0.823210  0.746204  0.642082  0.547722   \n",
       "\n",
       "             7         8         9    ...  178  179  180  181  182  183  184  \\\n",
       "0       0.085784  0.058824  0.049020  ...  0.0  0.0  0.0  0.0  0.0  0.0  0.0   \n",
       "1       0.088319  0.074074  0.082621  ...  0.0  0.0  0.0  0.0  0.0  0.0  0.0   \n",
       "2       0.043243  0.054054  0.045946  ...  0.0  0.0  0.0  0.0  0.0  0.0  0.0   \n",
       "3       0.060773  0.066298  0.058011  ...  0.0  0.0  0.0  0.0  0.0  0.0  0.0   \n",
       "4       0.089202  0.117371  0.150235  ...  0.0  0.0  0.0  0.0  0.0  0.0  0.0   \n",
       "...          ...       ...       ...  ...  ...  ...  ...  ...  ...  ...  ...   \n",
       "109441  0.250575  0.140230  0.102299  ...  0.0  0.0  0.0  0.0  0.0  0.0  0.0   \n",
       "109442  0.077728  0.112108  0.152466  ...  0.0  0.0  0.0  0.0  0.0  0.0  0.0   \n",
       "109443  0.100890  0.106825  0.100890  ...  0.0  0.0  0.0  0.0  0.0  0.0  0.0   \n",
       "109444  0.488095  0.392857  0.238095  ...  0.0  0.0  0.0  0.0  0.0  0.0  0.0   \n",
       "109445  0.426247  0.325380  0.279826  ...  0.0  0.0  0.0  0.0  0.0  0.0  0.0   \n",
       "\n",
       "        185  186  187  \n",
       "0       0.0  0.0  0.0  \n",
       "1       0.0  0.0  0.0  \n",
       "2       0.0  0.0  0.0  \n",
       "3       0.0  0.0  0.0  \n",
       "4       0.0  0.0  0.0  \n",
       "...     ...  ...  ...  \n",
       "109441  0.0  0.0  4.0  \n",
       "109442  0.0  0.0  4.0  \n",
       "109443  0.0  0.0  4.0  \n",
       "109444  0.0  0.0  4.0  \n",
       "109445  0.0  0.0  4.0  \n",
       "\n",
       "[109446 rows x 188 columns]"
      ]
     },
     "execution_count": 18,
     "metadata": {},
     "output_type": "execute_result"
    }
   ],
   "source": [
    "df"
   ]
  },
  {
   "cell_type": "code",
   "execution_count": 19,
   "metadata": {
    "execution": {
     "iopub.execute_input": "2022-12-18T12:05:20.822666Z",
     "iopub.status.busy": "2022-12-18T12:05:20.821871Z",
     "iopub.status.idle": "2022-12-18T12:05:20.829291Z",
     "shell.execute_reply": "2022-12-18T12:05:20.828841Z",
     "shell.execute_reply.started": "2022-12-18T11:49:04.260478Z"
    },
    "papermill": {
     "duration": 0.232686,
     "end_time": "2022-12-18T12:05:20.829415",
     "exception": false,
     "start_time": "2022-12-18T12:05:20.596729",
     "status": "completed"
    },
    "tags": []
   },
   "outputs": [
    {
     "data": {
      "text/plain": [
       "0.0    90589\n",
       "4.0     8039\n",
       "2.0     7236\n",
       "1.0     2779\n",
       "3.0      803\n",
       "Name: 187, dtype: int64"
      ]
     },
     "execution_count": 19,
     "metadata": {},
     "output_type": "execute_result"
    }
   ],
   "source": [
    "df[187].value_counts()"
   ]
  },
  {
   "cell_type": "code",
   "execution_count": 20,
   "metadata": {
    "execution": {
     "iopub.execute_input": "2022-12-18T12:05:21.277506Z",
     "iopub.status.busy": "2022-12-18T12:05:21.276695Z",
     "iopub.status.idle": "2022-12-18T12:05:21.282471Z",
     "shell.execute_reply": "2022-12-18T12:05:21.282056Z",
     "shell.execute_reply.started": "2022-12-18T11:49:15.239019Z"
    },
    "papermill": {
     "duration": 0.231356,
     "end_time": "2022-12-18T12:05:21.282594",
     "exception": false,
     "start_time": "2022-12-18T12:05:21.051238",
     "status": "completed"
    },
    "tags": []
   },
   "outputs": [],
   "source": [
    "df[187]=df[187].map({4.0:1,2.0:1,3.0:1})"
   ]
  },
  {
   "cell_type": "code",
   "execution_count": 21,
   "metadata": {
    "execution": {
     "iopub.execute_input": "2022-12-18T12:05:21.729477Z",
     "iopub.status.busy": "2022-12-18T12:05:21.728656Z",
     "iopub.status.idle": "2022-12-18T12:05:21.735798Z",
     "shell.execute_reply": "2022-12-18T12:05:21.736208Z",
     "shell.execute_reply.started": "2022-12-18T11:49:22.472556Z"
    },
    "papermill": {
     "duration": 0.232441,
     "end_time": "2022-12-18T12:05:21.736370",
     "exception": false,
     "start_time": "2022-12-18T12:05:21.503929",
     "status": "completed"
    },
    "tags": []
   },
   "outputs": [
    {
     "data": {
      "text/plain": [
       "1.0    16078\n",
       "Name: 187, dtype: int64"
      ]
     },
     "execution_count": 21,
     "metadata": {},
     "output_type": "execute_result"
    }
   ],
   "source": [
    "df[187].value_counts()"
   ]
  },
  {
   "cell_type": "code",
   "execution_count": 22,
   "metadata": {
    "execution": {
     "iopub.execute_input": "2022-12-18T12:05:22.189237Z",
     "iopub.status.busy": "2022-12-18T12:05:22.188361Z",
     "iopub.status.idle": "2022-12-18T12:05:22.276998Z",
     "shell.execute_reply": "2022-12-18T12:05:22.276480Z",
     "shell.execute_reply.started": "2022-12-18T11:49:37.753027Z"
    },
    "papermill": {
     "duration": 0.316182,
     "end_time": "2022-12-18T12:05:22.277141",
     "exception": false,
     "start_time": "2022-12-18T12:05:21.960959",
     "status": "completed"
    },
    "tags": []
   },
   "outputs": [],
   "source": [
    "df=df.fillna(0)"
   ]
  },
  {
   "cell_type": "code",
   "execution_count": 23,
   "metadata": {
    "execution": {
     "iopub.execute_input": "2022-12-18T12:05:22.724318Z",
     "iopub.status.busy": "2022-12-18T12:05:22.723494Z",
     "iopub.status.idle": "2022-12-18T12:05:22.828213Z",
     "shell.execute_reply": "2022-12-18T12:05:22.827711Z",
     "shell.execute_reply.started": "2022-12-18T11:49:41.223479Z"
    },
    "papermill": {
     "duration": 0.330699,
     "end_time": "2022-12-18T12:05:22.828353",
     "exception": false,
     "start_time": "2022-12-18T12:05:22.497654",
     "status": "completed"
    },
    "tags": []
   },
   "outputs": [
    {
     "name": "stdout",
     "output_type": "stream",
     "text": [
      "class distribution\n"
     ]
    },
    {
     "data": {
      "text/plain": [
       "<AxesSubplot:>"
      ]
     },
     "execution_count": 23,
     "metadata": {},
     "output_type": "execute_result"
    },
    {
     "data": {
      "image/png": "[encoded data removed]",
      "text/plain": [
       "<Figure size 432x288 with 1 Axes>"
      ]
     },
     "metadata": {
      "needs_background": "light"
     },
     "output_type": "display_data"
    }
   ],
   "source": [
    "print('class distribution')\n",
    "df[187].value_counts().plot(kind='bar')"
   ]
  },
  {
   "cell_type": "code",
   "execution_count": 24,
   "metadata": {
    "execution": {
     "iopub.execute_input": "2022-12-18T12:05:23.281144Z",
     "iopub.status.busy": "2022-12-18T12:05:23.280431Z",
     "iopub.status.idle": "2022-12-18T12:05:23.283738Z",
     "shell.execute_reply": "2022-12-18T12:05:23.283275Z",
     "shell.execute_reply.started": "2022-12-18T11:49:45.015600Z"
    },
    "papermill": {
     "duration": 0.232841,
     "end_time": "2022-12-18T12:05:23.283869",
     "exception": false,
     "start_time": "2022-12-18T12:05:23.051028",
     "status": "completed"
    },
    "tags": []
   },
   "outputs": [],
   "source": [
    "X=df.iloc[:,:-1]\n",
    "y=df.iloc[:,-1]"
   ]
  },
  {
   "cell_type": "code",
   "execution_count": 25,
   "metadata": {
    "execution": {
     "iopub.execute_input": "2022-12-18T12:05:23.737282Z",
     "iopub.status.busy": "2022-12-18T12:05:23.736527Z",
     "iopub.status.idle": "2022-12-18T12:05:23.902170Z",
     "shell.execute_reply": "2022-12-18T12:05:23.901602Z",
     "shell.execute_reply.started": "2022-12-18T11:49:45.331770Z"
    },
    "papermill": {
     "duration": 0.396656,
     "end_time": "2022-12-18T12:05:23.902319",
     "exception": false,
     "start_time": "2022-12-18T12:05:23.505663",
     "status": "completed"
    },
    "tags": []
   },
   "outputs": [],
   "source": [
    "X_train, X_test, y_train, y_test = train_test_split(X, y, test_size=0.3, random_state=28)"
   ]
  },
  {
   "cell_type": "code",
   "execution_count": 26,
   "metadata": {
    "execution": {
     "iopub.execute_input": "2022-12-18T12:05:24.352985Z",
     "iopub.status.busy": "2022-12-18T12:05:24.352416Z",
     "iopub.status.idle": "2022-12-18T12:05:24.356460Z",
     "shell.execute_reply": "2022-12-18T12:05:24.356045Z",
     "shell.execute_reply.started": "2022-12-18T11:49:45.699445Z"
    },
    "papermill": {
     "duration": 0.23224,
     "end_time": "2022-12-18T12:05:24.356583",
     "exception": false,
     "start_time": "2022-12-18T12:05:24.124343",
     "status": "completed"
    },
    "tags": []
   },
   "outputs": [],
   "source": [
    "import imblearn\n",
    "from imblearn.over_sampling import SMOTE"
   ]
  },
  {
   "cell_type": "code",
   "execution_count": 27,
   "metadata": {
    "execution": {
     "iopub.execute_input": "2022-12-18T12:05:24.844361Z",
     "iopub.status.busy": "2022-12-18T12:05:24.843532Z",
     "iopub.status.idle": "2022-12-18T12:05:37.057485Z",
     "shell.execute_reply": "2022-12-18T12:05:37.056930Z",
     "shell.execute_reply.started": "2022-12-18T11:49:46.252522Z"
    },
    "papermill": {
     "duration": 12.441886,
     "end_time": "2022-12-18T12:05:37.057642",
     "exception": false,
     "start_time": "2022-12-18T12:05:24.615756",
     "status": "completed"
    },
    "tags": []
   },
   "outputs": [],
   "source": [
    "smote=SMOTE()\n",
    "X_oversampled,y_oversampled=smote.fit_resample(X_train,y_train)"
   ]
  },
  {
   "cell_type": "code",
   "execution_count": 28,
   "metadata": {
    "execution": {
     "iopub.execute_input": "2022-12-18T12:05:37.505455Z",
     "iopub.status.busy": "2022-12-18T12:05:37.504182Z",
     "iopub.status.idle": "2022-12-18T12:05:37.570854Z",
     "shell.execute_reply": "2022-12-18T12:05:37.570281Z",
     "shell.execute_reply.started": "2022-12-18T11:50:13.456413Z"
    },
    "papermill": {
     "duration": 0.292154,
     "end_time": "2022-12-18T12:05:37.571005",
     "exception": false,
     "start_time": "2022-12-18T12:05:37.278851",
     "status": "completed"
    },
    "tags": []
   },
   "outputs": [],
   "source": [
    "X_train = np.array(X_train).reshape(X_train.shape[0], X_train.shape[1], 1)\n",
    "X_test = np.array(X_test).reshape(X_test.shape[0], X_test.shape[1], 1)"
   ]
  },
  {
   "cell_type": "code",
   "execution_count": 29,
   "metadata": {
    "execution": {
     "iopub.execute_input": "2022-12-18T12:05:38.021226Z",
     "iopub.status.busy": "2022-12-18T12:05:38.020201Z",
     "iopub.status.idle": "2022-12-18T12:06:27.015668Z",
     "shell.execute_reply": "2022-12-18T12:06:27.014784Z",
     "shell.execute_reply.started": "2022-12-18T11:50:34.270179Z"
    },
    "papermill": {
     "duration": 49.22175,
     "end_time": "2022-12-18T12:06:27.015821",
     "exception": false,
     "start_time": "2022-12-18T12:05:37.794071",
     "status": "completed"
    },
    "tags": []
   },
   "outputs": [
    {
     "name": "stdout",
     "output_type": "stream",
     "text": [
      "Epoch 1/10\n",
      "958/958 [==============================] - 5s 5ms/step - loss: 0.0411 - accuracy: 0.9876 - val_loss: 0.0231 - val_accuracy: 0.9928\n",
      "Epoch 2/10\n",
      "958/958 [==============================] - 5s 5ms/step - loss: 0.0147 - accuracy: 0.9951 - val_loss: 0.0265 - val_accuracy: 0.9920\n",
      "Epoch 3/10\n",
      "958/958 [==============================] - 5s 5ms/step - loss: 0.0137 - accuracy: 0.9954 - val_loss: 0.0335 - val_accuracy: 0.9914\n",
      "Epoch 4/10\n",
      "958/958 [==============================] - 5s 5ms/step - loss: 0.0125 - accuracy: 0.9958 - val_loss: 0.0233 - val_accuracy: 0.9933\n",
      "Epoch 5/10\n",
      "958/958 [==============================] - 5s 5ms/step - loss: 0.0130 - accuracy: 0.9957 - val_loss: 0.0231 - val_accuracy: 0.9932\n",
      "Epoch 6/10\n",
      "958/958 [==============================] - 5s 5ms/step - loss: 0.0101 - accuracy: 0.9967 - val_loss: 0.0252 - val_accuracy: 0.9931\n",
      "Epoch 7/10\n",
      "958/958 [==============================] - 5s 5ms/step - loss: 0.0100 - accuracy: 0.9969 - val_loss: 0.0272 - val_accuracy: 0.9926\n",
      "Epoch 8/10\n",
      "958/958 [==============================] - 5s 5ms/step - loss: 0.0087 - accuracy: 0.9973 - val_loss: 0.0286 - val_accuracy: 0.9930\n",
      "Epoch 9/10\n",
      "958/958 [==============================] - 5s 5ms/step - loss: 0.0109 - accuracy: 0.9967 - val_loss: 0.0232 - val_accuracy: 0.9928\n",
      "Epoch 10/10\n",
      "958/958 [==============================] - 5s 5ms/step - loss: 0.0071 - accuracy: 0.9978 - val_loss: 0.0251 - val_accuracy: 0.9935\n"
     ]
    }
   ],
   "source": [
    "history2 = model.fit(X_train, y_train, epochs=10,validation_split=0.2,batch_size=64,verbose=1)"
   ]
  },
  {
   "cell_type": "code",
   "execution_count": 30,
   "metadata": {
    "execution": {
     "iopub.execute_input": "2022-12-18T12:06:27.852046Z",
     "iopub.status.busy": "2022-12-18T12:06:27.851246Z",
     "iopub.status.idle": "2022-12-18T12:06:28.801200Z",
     "shell.execute_reply": "2022-12-18T12:06:28.800701Z",
     "shell.execute_reply.started": "2022-12-18T11:52:04.154591Z"
    },
    "papermill": {
     "duration": 1.367949,
     "end_time": "2022-12-18T12:06:28.801353",
     "exception": false,
     "start_time": "2022-12-18T12:06:27.433404",
     "status": "completed"
    },
    "tags": []
   },
   "outputs": [],
   "source": [
    "pred_value=model.predict(X_test)"
   ]
  },
  {
   "cell_type": "code",
   "execution_count": 31,
   "metadata": {
    "execution": {
     "iopub.execute_input": "2022-12-18T12:06:29.642481Z",
     "iopub.status.busy": "2022-12-18T12:06:29.641865Z",
     "iopub.status.idle": "2022-12-18T12:06:29.646244Z",
     "shell.execute_reply": "2022-12-18T12:06:29.645785Z",
     "shell.execute_reply.started": "2022-12-18T11:52:31.988932Z"
    },
    "papermill": {
     "duration": 0.420689,
     "end_time": "2022-12-18T12:06:29.646373",
     "exception": false,
     "start_time": "2022-12-18T12:06:29.225684",
     "status": "completed"
    },
    "tags": []
   },
   "outputs": [],
   "source": [
    "y_pred=np.argmax(pred_value,axis=1)"
   ]
  },
  {
   "cell_type": "code",
   "execution_count": 32,
   "metadata": {
    "execution": {
     "iopub.execute_input": "2022-12-18T12:06:30.485164Z",
     "iopub.status.busy": "2022-12-18T12:06:30.484362Z",
     "iopub.status.idle": "2022-12-18T12:06:30.543060Z",
     "shell.execute_reply": "2022-12-18T12:06:30.543475Z",
     "shell.execute_reply.started": "2022-12-18T11:52:51.947621Z"
    },
    "papermill": {
     "duration": 0.479646,
     "end_time": "2022-12-18T12:06:30.543624",
     "exception": false,
     "start_time": "2022-12-18T12:06:30.063978",
     "status": "completed"
    },
    "tags": []
   },
   "outputs": [
    {
     "name": "stdout",
     "output_type": "stream",
     "text": [
      "Accuracy with CNN (Binary) is: 0.9948833526222818\n",
      "              precision    recall  f1-score   support\n",
      "\n",
      "         0.0       1.00      1.00      1.00     27948\n",
      "         1.0       0.99      0.98      0.98      4886\n",
      "\n",
      "    accuracy                           0.99     32834\n",
      "   macro avg       0.99      0.99      0.99     32834\n",
      "weighted avg       0.99      0.99      0.99     32834\n",
      "\n"
     ]
    }
   ],
   "source": [
    "from sklearn.metrics import classification_report\n",
    "print(\"Accuracy with CNN (Binary) is:\", accuracy_score(y_test,y_pred))\n",
    "print(classification_report(y_test,y_pred))"
   ]
  },
  {
   "cell_type": "code",
   "execution_count": 33,
   "metadata": {
    "execution": {
     "iopub.execute_input": "2022-12-18T12:06:31.399460Z",
     "iopub.status.busy": "2022-12-18T12:06:31.398509Z",
     "iopub.status.idle": "2022-12-18T12:06:31.707065Z",
     "shell.execute_reply": "2022-12-18T12:06:31.706590Z",
     "shell.execute_reply.started": "2022-12-18T11:54:17.227034Z"
    },
    "papermill": {
     "duration": 0.747655,
     "end_time": "2022-12-18T12:06:31.707203",
     "exception": false,
     "start_time": "2022-12-18T12:06:30.959548",
     "status": "completed"
    },
    "tags": []
   },
   "outputs": [
    {
     "data": {
      "image/png": "[encoded data removed]",
      "text/plain": [
       "<Figure size 2160x720 with 2 Axes>"
      ]
     },
     "metadata": {
      "needs_background": "light"
     },
     "output_type": "display_data"
    }
   ],
   "source": [
    "acc = history2.history['accuracy']\n",
    "val_acc = history2.history['val_accuracy']\n",
    "\n",
    "loss = history2.history['loss']\n",
    "val_loss = history2.history['val_loss']\n",
    "\n",
    "epochs_range = range(10)\n",
    "\n",
    "plt.figure(figsize=(30, 10))\n",
    "plt.subplot(1, 2, 1)\n",
    "plt.plot(epochs_range, acc, label='Training Accuracy')\n",
    "plt.plot(epochs_range, val_acc, label='Validation Accuracy')\n",
    "plt.legend(loc='lower right')\n",
    "plt.title('Training and Validation Accuracy')\n",
    "\n",
    "plt.subplot(1, 2, 2)\n",
    "plt.plot(epochs_range, loss, label='Training Loss')\n",
    "plt.plot(epochs_range, val_loss, label='Validation Loss')\n",
    "plt.legend(loc='upper right')\n",
    "plt.title('Training and Validation Loss')\n",
    "plt.show()"
   ]
  },
  {
   "cell_type": "code",
   "execution_count": 34,
   "metadata": {
    "execution": {
     "iopub.execute_input": "2022-12-18T12:06:32.559392Z",
     "iopub.status.busy": "2022-12-18T12:06:32.558192Z",
     "iopub.status.idle": "2022-12-18T12:06:32.588984Z",
     "shell.execute_reply": "2022-12-18T12:06:32.589563Z",
     "shell.execute_reply.started": "2022-12-18T11:54:52.087645Z"
    },
    "papermill": {
     "duration": 0.459023,
     "end_time": "2022-12-18T12:06:32.589754",
     "exception": false,
     "start_time": "2022-12-18T12:06:32.130731",
     "status": "completed"
    },
    "tags": []
   },
   "outputs": [
    {
     "name": "stdout",
     "output_type": "stream",
     "text": [
      "[[27886    62]\n",
      " [  106  4780]]\n"
     ]
    }
   ],
   "source": [
    "cf_matrix = confusion_matrix(y_test, y_pred)\n",
    "print(cf_matrix)"
   ]
  },
  {
   "cell_type": "code",
   "execution_count": 35,
   "metadata": {
    "execution": {
     "iopub.execute_input": "2022-12-18T12:06:33.446431Z",
     "iopub.status.busy": "2022-12-18T12:06:33.444654Z",
     "iopub.status.idle": "2022-12-18T12:06:33.703573Z",
     "shell.execute_reply": "2022-12-18T12:06:33.702751Z",
     "shell.execute_reply.started": "2022-12-18T11:55:38.543615Z"
    },
    "papermill": {
     "duration": 0.694624,
     "end_time": "2022-12-18T12:06:33.703704",
     "exception": false,
     "start_time": "2022-12-18T12:06:33.009080",
     "status": "completed"
    },
    "tags": []
   },
   "outputs": [
    {
     "data": {
      "image/png": "[encoded data removed]",
      "text/plain": [
       "<Figure size 864x576 with 2 Axes>"
      ]
     },
     "metadata": {
      "needs_background": "light"
     },
     "output_type": "display_data"
    }
   ],
   "source": [
    "plot_confusion_matrix(cf_matrix,\n",
    "                      normalize    = False,\n",
    "                      target_names = [\"Normal Beat (N:0)\",\n",
    "                                        \"Abnormal Beat (1)\"],\n",
    "                      title        = \"Confusion Matrix\")"
   ]
  },
  {
   "cell_type": "code",
   "execution_count": 36,
   "metadata": {
    "execution": {
     "iopub.execute_input": "2022-12-18T12:06:34.552650Z",
     "iopub.status.busy": "2022-12-18T12:06:34.551751Z",
     "iopub.status.idle": "2022-12-18T12:06:34.554234Z",
     "shell.execute_reply": "2022-12-18T12:06:34.553776Z",
     "shell.execute_reply.started": "2022-12-18T11:57:07.583622Z"
    },
    "papermill": {
     "duration": 0.427339,
     "end_time": "2022-12-18T12:06:34.554363",
     "exception": false,
     "start_time": "2022-12-18T12:06:34.127024",
     "status": "completed"
    },
    "tags": []
   },
   "outputs": [],
   "source": [
    "def plot_roc_curve(fpr, tpr):\n",
    "    plt.plot(fpr, tpr, color='orange', label='ROC')\n",
    "    plt.plot([0, 1], [0, 1], color='darkblue', linestyle='--')\n",
    "    plt.xlabel('False Positive Rate')\n",
    "    plt.ylabel('True Positive Rate')\n",
    "    plt.title('Receiver Operating Characteristic (ROC) Curve')\n",
    "    plt.legend()\n",
    "    plt.show()"
   ]
  },
  {
   "cell_type": "code",
   "execution_count": 37,
   "metadata": {
    "execution": {
     "iopub.execute_input": "2022-12-18T12:06:35.662841Z",
     "iopub.status.busy": "2022-12-18T12:06:35.662055Z",
     "iopub.status.idle": "2022-12-18T12:06:35.670510Z",
     "shell.execute_reply": "2022-12-18T12:06:35.670094Z",
     "shell.execute_reply.started": "2022-12-18T12:02:12.353423Z"
    },
    "papermill": {
     "duration": 0.571236,
     "end_time": "2022-12-18T12:06:35.670634",
     "exception": false,
     "start_time": "2022-12-18T12:06:35.099398",
     "status": "completed"
    },
    "tags": []
   },
   "outputs": [
    {
     "data": {
      "text/plain": [
       "0.9880434783245489"
      ]
     },
     "execution_count": 37,
     "metadata": {},
     "output_type": "execute_result"
    }
   ],
   "source": [
    "from sklearn.metrics import roc_curve,auc\n",
    "fpr_keras, tpr_keras, thresholds = roc_curve(y_test.ravel(), y_pred.ravel())\n",
    "auc_keras = auc(fpr_keras, tpr_keras)\n",
    "auc_keras"
   ]
  },
  {
   "cell_type": "code",
   "execution_count": 38,
   "metadata": {
    "execution": {
     "iopub.execute_input": "2022-12-18T12:06:36.895674Z",
     "iopub.status.busy": "2022-12-18T12:06:36.894875Z",
     "iopub.status.idle": "2022-12-18T12:06:37.075625Z",
     "shell.execute_reply": "2022-12-18T12:06:37.076590Z",
     "shell.execute_reply.started": "2022-12-18T12:02:26.358198Z"
    },
    "papermill": {
     "duration": 0.844437,
     "end_time": "2022-12-18T12:06:37.076792",
     "exception": false,
     "start_time": "2022-12-18T12:06:36.232355",
     "status": "completed"
    },
    "tags": []
   },
   "outputs": [
    {
     "data": {
      "image/png": "[encoded data removed]",
      "text/plain": [
       "<Figure size 432x288 with 1 Axes>"
      ]
     },
     "metadata": {
      "needs_background": "light"
     },
     "output_type": "display_data"
    }
   ],
   "source": [
    "plot_roc_curve(fpr_keras, tpr_keras)"
   ]
  },
  {
   "cell_type": "code",
   "execution_count": null,
   "metadata": {
    "papermill": {
     "duration": 0.423476,
     "end_time": "2022-12-18T12:06:37.985191",
     "exception": false,
     "start_time": "2022-12-18T12:06:37.561715",
     "status": "completed"
    },
    "tags": []
   },
   "outputs": [],
   "source": []
  }
 ],
 "metadata": {
  "kernelspec": {
   "display_name": "Python 3",
   "language": "python",
   "name": "python3"
  },
  "language_info": {
   "codemirror_mode": {
    "name": "ipython",
    "version": 3
   },
   "file_extension": ".py",
   "mimetype": "text/x-python",
   "name": "python",
   "nbconvert_exporter": "python",
   "pygments_lexer": "ipython3",
   "version": "3.7.9"
  },
  "papermill": {
   "default_parameters": {},
   "duration": 171.770672,
   "end_time": "2022-12-18T12:06:40.852271",
   "environment_variables": {},
   "exception": null,
   "input_path": "__notebook__.ipynb",
   "output_path": "__notebook__.ipynb",
   "parameters": {},
   "start_time": "2022-12-18T12:03:49.081599",
   "version": "2.2.2"
  }
 },
 "nbformat": 4,
 "nbformat_minor": 4
}
