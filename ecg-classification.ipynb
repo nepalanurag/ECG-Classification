{
 "cells": [
  {
   "cell_type": "code",
   "execution_count": 90,
   "id": "e9a9d551",
   "metadata": {
    "_cell_guid": "b1076dfc-b9ad-4769-8c92-a6c4dae69d19",
    "_uuid": "8f2839f25d086af736a60e9eeb907d3b93b6e0e5",
    "execution": {
     "iopub.execute_input": "2022-12-18T10:55:41.871238Z",
     "iopub.status.busy": "2022-12-18T10:55:41.870667Z",
     "iopub.status.idle": "2022-12-18T10:55:41.881355Z",
     "shell.execute_reply": "2022-12-18T10:55:41.880558Z"
    },
    "papermill": {
     "duration": 0.025487,
     "end_time": "2022-12-18T10:55:41.883819",
     "exception": false,
     "start_time": "2022-12-18T10:55:41.858332",
     "status": "completed"
    },
    "tags": []
   },
   "outputs": [],
   "source": [
    "import numpy as np # linear algebra\n",
    "import pandas as pd # data processing, CSV file I/O (e.g. pd.read_csv)"
   ]
  },
  {
   "cell_type": "code",
   "execution_count": 91,
   "id": "0e59137e",
   "metadata": {
    "execution": {
     "iopub.execute_input": "2022-12-18T10:55:41.906912Z",
     "iopub.status.busy": "2022-12-18T10:55:41.906321Z",
     "iopub.status.idle": "2022-12-18T10:55:51.280085Z",
     "shell.execute_reply": "2022-12-18T10:55:51.278535Z"
    },
    "papermill": {
     "duration": 9.388896,
     "end_time": "2022-12-18T10:55:51.282479",
     "exception": false,
     "start_time": "2022-12-18T10:55:41.893583",
     "status": "completed"
    },
    "tags": []
   },
   "outputs": [],
   "source": [
    "df_train = pd.read_csv(\"mitbih_train.csv\", header=None)\n",
    "df_test = pd.read_csv(\"mitbih_test.csv\", header=None)"
   ]
  },
  {
   "cell_type": "code",
   "execution_count": 92,
   "id": "e780fb2a",
   "metadata": {
    "execution": {
     "iopub.execute_input": "2022-12-18T10:55:51.303598Z",
     "iopub.status.busy": "2022-12-18T10:55:51.303212Z",
     "iopub.status.idle": "2022-12-18T10:55:51.343905Z",
     "shell.execute_reply": "2022-12-18T10:55:51.342811Z"
    },
    "papermill": {
     "duration": 0.054002,
     "end_time": "2022-12-18T10:55:51.346218",
     "exception": false,
     "start_time": "2022-12-18T10:55:51.292216",
     "status": "completed"
    },
    "tags": []
   },
   "outputs": [
    {
     "data": {
      "text/html": [
       "<div>\n",
       "<style scoped>\n",
       "    .dataframe tbody tr th:only-of-type {\n",
       "        vertical-align: middle;\n",
       "    }\n",
       "\n",
       "    .dataframe tbody tr th {\n",
       "        vertical-align: top;\n",
       "    }\n",
       "\n",
       "    .dataframe thead th {\n",
       "        text-align: right;\n",
       "    }\n",
       "</style>\n",
       "<table border=\"1\" class=\"dataframe\">\n",
       "  <thead>\n",
       "    <tr style=\"text-align: right;\">\n",
       "      <th></th>\n",
       "      <th>0</th>\n",
       "      <th>1</th>\n",
       "      <th>2</th>\n",
       "      <th>3</th>\n",
       "      <th>4</th>\n",
       "      <th>5</th>\n",
       "      <th>6</th>\n",
       "      <th>7</th>\n",
       "      <th>8</th>\n",
       "      <th>9</th>\n",
       "      <th>...</th>\n",
       "      <th>178</th>\n",
       "      <th>179</th>\n",
       "      <th>180</th>\n",
       "      <th>181</th>\n",
       "      <th>182</th>\n",
       "      <th>183</th>\n",
       "      <th>184</th>\n",
       "      <th>185</th>\n",
       "      <th>186</th>\n",
       "      <th>187</th>\n",
       "    </tr>\n",
       "  </thead>\n",
       "  <tbody>\n",
       "    <tr>\n",
       "      <th>87549</th>\n",
       "      <td>0.807018</td>\n",
       "      <td>0.494737</td>\n",
       "      <td>0.536842</td>\n",
       "      <td>0.529825</td>\n",
       "      <td>0.491228</td>\n",
       "      <td>0.484211</td>\n",
       "      <td>0.456140</td>\n",
       "      <td>0.396491</td>\n",
       "      <td>0.284211</td>\n",
       "      <td>0.136842</td>\n",
       "      <td>...</td>\n",
       "      <td>0.0</td>\n",
       "      <td>0.0</td>\n",
       "      <td>0.0</td>\n",
       "      <td>0.0</td>\n",
       "      <td>0.0</td>\n",
       "      <td>0.0</td>\n",
       "      <td>0.0</td>\n",
       "      <td>0.0</td>\n",
       "      <td>0.0</td>\n",
       "      <td>4.0</td>\n",
       "    </tr>\n",
       "    <tr>\n",
       "      <th>87550</th>\n",
       "      <td>0.718333</td>\n",
       "      <td>0.605000</td>\n",
       "      <td>0.486667</td>\n",
       "      <td>0.361667</td>\n",
       "      <td>0.231667</td>\n",
       "      <td>0.120000</td>\n",
       "      <td>0.051667</td>\n",
       "      <td>0.001667</td>\n",
       "      <td>0.000000</td>\n",
       "      <td>0.013333</td>\n",
       "      <td>...</td>\n",
       "      <td>0.0</td>\n",
       "      <td>0.0</td>\n",
       "      <td>0.0</td>\n",
       "      <td>0.0</td>\n",
       "      <td>0.0</td>\n",
       "      <td>0.0</td>\n",
       "      <td>0.0</td>\n",
       "      <td>0.0</td>\n",
       "      <td>0.0</td>\n",
       "      <td>4.0</td>\n",
       "    </tr>\n",
       "    <tr>\n",
       "      <th>87551</th>\n",
       "      <td>0.906122</td>\n",
       "      <td>0.624490</td>\n",
       "      <td>0.595918</td>\n",
       "      <td>0.575510</td>\n",
       "      <td>0.530612</td>\n",
       "      <td>0.481633</td>\n",
       "      <td>0.444898</td>\n",
       "      <td>0.387755</td>\n",
       "      <td>0.322449</td>\n",
       "      <td>0.191837</td>\n",
       "      <td>...</td>\n",
       "      <td>0.0</td>\n",
       "      <td>0.0</td>\n",
       "      <td>0.0</td>\n",
       "      <td>0.0</td>\n",
       "      <td>0.0</td>\n",
       "      <td>0.0</td>\n",
       "      <td>0.0</td>\n",
       "      <td>0.0</td>\n",
       "      <td>0.0</td>\n",
       "      <td>4.0</td>\n",
       "    </tr>\n",
       "    <tr>\n",
       "      <th>87552</th>\n",
       "      <td>0.858228</td>\n",
       "      <td>0.645570</td>\n",
       "      <td>0.845570</td>\n",
       "      <td>0.248101</td>\n",
       "      <td>0.167089</td>\n",
       "      <td>0.131646</td>\n",
       "      <td>0.121519</td>\n",
       "      <td>0.121519</td>\n",
       "      <td>0.118987</td>\n",
       "      <td>0.103797</td>\n",
       "      <td>...</td>\n",
       "      <td>0.0</td>\n",
       "      <td>0.0</td>\n",
       "      <td>0.0</td>\n",
       "      <td>0.0</td>\n",
       "      <td>0.0</td>\n",
       "      <td>0.0</td>\n",
       "      <td>0.0</td>\n",
       "      <td>0.0</td>\n",
       "      <td>0.0</td>\n",
       "      <td>4.0</td>\n",
       "    </tr>\n",
       "    <tr>\n",
       "      <th>87553</th>\n",
       "      <td>0.901506</td>\n",
       "      <td>0.845886</td>\n",
       "      <td>0.800695</td>\n",
       "      <td>0.748552</td>\n",
       "      <td>0.687138</td>\n",
       "      <td>0.599073</td>\n",
       "      <td>0.512167</td>\n",
       "      <td>0.427578</td>\n",
       "      <td>0.395133</td>\n",
       "      <td>0.402086</td>\n",
       "      <td>...</td>\n",
       "      <td>0.0</td>\n",
       "      <td>0.0</td>\n",
       "      <td>0.0</td>\n",
       "      <td>0.0</td>\n",
       "      <td>0.0</td>\n",
       "      <td>0.0</td>\n",
       "      <td>0.0</td>\n",
       "      <td>0.0</td>\n",
       "      <td>0.0</td>\n",
       "      <td>4.0</td>\n",
       "    </tr>\n",
       "  </tbody>\n",
       "</table>\n",
       "<p>5 rows × 188 columns</p>\n",
       "</div>"
      ],
      "text/plain": [
       "            0         1         2         3         4         5         6    \\\n",
       "87549  0.807018  0.494737  0.536842  0.529825  0.491228  0.484211  0.456140   \n",
       "87550  0.718333  0.605000  0.486667  0.361667  0.231667  0.120000  0.051667   \n",
       "87551  0.906122  0.624490  0.595918  0.575510  0.530612  0.481633  0.444898   \n",
       "87552  0.858228  0.645570  0.845570  0.248101  0.167089  0.131646  0.121519   \n",
       "87553  0.901506  0.845886  0.800695  0.748552  0.687138  0.599073  0.512167   \n",
       "\n",
       "            7         8         9    ...  178  179  180  181  182  183  184  \\\n",
       "87549  0.396491  0.284211  0.136842  ...  0.0  0.0  0.0  0.0  0.0  0.0  0.0   \n",
       "87550  0.001667  0.000000  0.013333  ...  0.0  0.0  0.0  0.0  0.0  0.0  0.0   \n",
       "87551  0.387755  0.322449  0.191837  ...  0.0  0.0  0.0  0.0  0.0  0.0  0.0   \n",
       "87552  0.121519  0.118987  0.103797  ...  0.0  0.0  0.0  0.0  0.0  0.0  0.0   \n",
       "87553  0.427578  0.395133  0.402086  ...  0.0  0.0  0.0  0.0  0.0  0.0  0.0   \n",
       "\n",
       "       185  186  187  \n",
       "87549  0.0  0.0  4.0  \n",
       "87550  0.0  0.0  4.0  \n",
       "87551  0.0  0.0  4.0  \n",
       "87552  0.0  0.0  4.0  \n",
       "87553  0.0  0.0  4.0  \n",
       "\n",
       "[5 rows x 188 columns]"
      ]
     },
     "execution_count": 92,
     "metadata": {},
     "output_type": "execute_result"
    }
   ],
   "source": [
    "df_train.tail(5)"
   ]
  },
  {
   "cell_type": "code",
   "execution_count": 93,
   "id": "5f09b1e2",
   "metadata": {
    "execution": {
     "iopub.execute_input": "2022-12-18T10:55:51.368250Z",
     "iopub.status.busy": "2022-12-18T10:55:51.367008Z",
     "iopub.status.idle": "2022-12-18T10:55:51.391288Z",
     "shell.execute_reply": "2022-12-18T10:55:51.390226Z"
    },
    "papermill": {
     "duration": 0.037209,
     "end_time": "2022-12-18T10:55:51.393388",
     "exception": false,
     "start_time": "2022-12-18T10:55:51.356179",
     "status": "completed"
    },
    "tags": []
   },
   "outputs": [
    {
     "data": {
      "text/html": [
       "<div>\n",
       "<style scoped>\n",
       "    .dataframe tbody tr th:only-of-type {\n",
       "        vertical-align: middle;\n",
       "    }\n",
       "\n",
       "    .dataframe tbody tr th {\n",
       "        vertical-align: top;\n",
       "    }\n",
       "\n",
       "    .dataframe thead th {\n",
       "        text-align: right;\n",
       "    }\n",
       "</style>\n",
       "<table border=\"1\" class=\"dataframe\">\n",
       "  <thead>\n",
       "    <tr style=\"text-align: right;\">\n",
       "      <th></th>\n",
       "      <th>0</th>\n",
       "      <th>1</th>\n",
       "      <th>2</th>\n",
       "      <th>3</th>\n",
       "      <th>4</th>\n",
       "      <th>5</th>\n",
       "      <th>6</th>\n",
       "      <th>7</th>\n",
       "      <th>8</th>\n",
       "      <th>9</th>\n",
       "      <th>...</th>\n",
       "      <th>178</th>\n",
       "      <th>179</th>\n",
       "      <th>180</th>\n",
       "      <th>181</th>\n",
       "      <th>182</th>\n",
       "      <th>183</th>\n",
       "      <th>184</th>\n",
       "      <th>185</th>\n",
       "      <th>186</th>\n",
       "      <th>187</th>\n",
       "    </tr>\n",
       "  </thead>\n",
       "  <tbody>\n",
       "    <tr>\n",
       "      <th>21887</th>\n",
       "      <td>0.928736</td>\n",
       "      <td>0.871264</td>\n",
       "      <td>0.804598</td>\n",
       "      <td>0.742529</td>\n",
       "      <td>0.650575</td>\n",
       "      <td>0.535632</td>\n",
       "      <td>0.394253</td>\n",
       "      <td>0.250575</td>\n",
       "      <td>0.140230</td>\n",
       "      <td>0.102299</td>\n",
       "      <td>...</td>\n",
       "      <td>0.0</td>\n",
       "      <td>0.0</td>\n",
       "      <td>0.0</td>\n",
       "      <td>0.0</td>\n",
       "      <td>0.0</td>\n",
       "      <td>0.0</td>\n",
       "      <td>0.0</td>\n",
       "      <td>0.0</td>\n",
       "      <td>0.0</td>\n",
       "      <td>4.0</td>\n",
       "    </tr>\n",
       "    <tr>\n",
       "      <th>21888</th>\n",
       "      <td>0.802691</td>\n",
       "      <td>0.692078</td>\n",
       "      <td>0.587444</td>\n",
       "      <td>0.446936</td>\n",
       "      <td>0.318386</td>\n",
       "      <td>0.189836</td>\n",
       "      <td>0.118087</td>\n",
       "      <td>0.077728</td>\n",
       "      <td>0.112108</td>\n",
       "      <td>0.152466</td>\n",
       "      <td>...</td>\n",
       "      <td>0.0</td>\n",
       "      <td>0.0</td>\n",
       "      <td>0.0</td>\n",
       "      <td>0.0</td>\n",
       "      <td>0.0</td>\n",
       "      <td>0.0</td>\n",
       "      <td>0.0</td>\n",
       "      <td>0.0</td>\n",
       "      <td>0.0</td>\n",
       "      <td>4.0</td>\n",
       "    </tr>\n",
       "    <tr>\n",
       "      <th>21889</th>\n",
       "      <td>1.000000</td>\n",
       "      <td>0.967359</td>\n",
       "      <td>0.620178</td>\n",
       "      <td>0.347181</td>\n",
       "      <td>0.139466</td>\n",
       "      <td>0.089021</td>\n",
       "      <td>0.103858</td>\n",
       "      <td>0.100890</td>\n",
       "      <td>0.106825</td>\n",
       "      <td>0.100890</td>\n",
       "      <td>...</td>\n",
       "      <td>0.0</td>\n",
       "      <td>0.0</td>\n",
       "      <td>0.0</td>\n",
       "      <td>0.0</td>\n",
       "      <td>0.0</td>\n",
       "      <td>0.0</td>\n",
       "      <td>0.0</td>\n",
       "      <td>0.0</td>\n",
       "      <td>0.0</td>\n",
       "      <td>4.0</td>\n",
       "    </tr>\n",
       "    <tr>\n",
       "      <th>21890</th>\n",
       "      <td>0.984127</td>\n",
       "      <td>0.567460</td>\n",
       "      <td>0.607143</td>\n",
       "      <td>0.583333</td>\n",
       "      <td>0.607143</td>\n",
       "      <td>0.575397</td>\n",
       "      <td>0.575397</td>\n",
       "      <td>0.488095</td>\n",
       "      <td>0.392857</td>\n",
       "      <td>0.238095</td>\n",
       "      <td>...</td>\n",
       "      <td>0.0</td>\n",
       "      <td>0.0</td>\n",
       "      <td>0.0</td>\n",
       "      <td>0.0</td>\n",
       "      <td>0.0</td>\n",
       "      <td>0.0</td>\n",
       "      <td>0.0</td>\n",
       "      <td>0.0</td>\n",
       "      <td>0.0</td>\n",
       "      <td>4.0</td>\n",
       "    </tr>\n",
       "    <tr>\n",
       "      <th>21891</th>\n",
       "      <td>0.973970</td>\n",
       "      <td>0.913232</td>\n",
       "      <td>0.865510</td>\n",
       "      <td>0.823210</td>\n",
       "      <td>0.746204</td>\n",
       "      <td>0.642082</td>\n",
       "      <td>0.547722</td>\n",
       "      <td>0.426247</td>\n",
       "      <td>0.325380</td>\n",
       "      <td>0.279826</td>\n",
       "      <td>...</td>\n",
       "      <td>0.0</td>\n",
       "      <td>0.0</td>\n",
       "      <td>0.0</td>\n",
       "      <td>0.0</td>\n",
       "      <td>0.0</td>\n",
       "      <td>0.0</td>\n",
       "      <td>0.0</td>\n",
       "      <td>0.0</td>\n",
       "      <td>0.0</td>\n",
       "      <td>4.0</td>\n",
       "    </tr>\n",
       "  </tbody>\n",
       "</table>\n",
       "<p>5 rows × 188 columns</p>\n",
       "</div>"
      ],
      "text/plain": [
       "            0         1         2         3         4         5         6    \\\n",
       "21887  0.928736  0.871264  0.804598  0.742529  0.650575  0.535632  0.394253   \n",
       "21888  0.802691  0.692078  0.587444  0.446936  0.318386  0.189836  0.118087   \n",
       "21889  1.000000  0.967359  0.620178  0.347181  0.139466  0.089021  0.103858   \n",
       "21890  0.984127  0.567460  0.607143  0.583333  0.607143  0.575397  0.575397   \n",
       "21891  0.973970  0.913232  0.865510  0.823210  0.746204  0.642082  0.547722   \n",
       "\n",
       "            7         8         9    ...  178  179  180  181  182  183  184  \\\n",
       "21887  0.250575  0.140230  0.102299  ...  0.0  0.0  0.0  0.0  0.0  0.0  0.0   \n",
       "21888  0.077728  0.112108  0.152466  ...  0.0  0.0  0.0  0.0  0.0  0.0  0.0   \n",
       "21889  0.100890  0.106825  0.100890  ...  0.0  0.0  0.0  0.0  0.0  0.0  0.0   \n",
       "21890  0.488095  0.392857  0.238095  ...  0.0  0.0  0.0  0.0  0.0  0.0  0.0   \n",
       "21891  0.426247  0.325380  0.279826  ...  0.0  0.0  0.0  0.0  0.0  0.0  0.0   \n",
       "\n",
       "       185  186  187  \n",
       "21887  0.0  0.0  4.0  \n",
       "21888  0.0  0.0  4.0  \n",
       "21889  0.0  0.0  4.0  \n",
       "21890  0.0  0.0  4.0  \n",
       "21891  0.0  0.0  4.0  \n",
       "\n",
       "[5 rows x 188 columns]"
      ]
     },
     "execution_count": 93,
     "metadata": {},
     "output_type": "execute_result"
    }
   ],
   "source": [
    "df_test.tail(5)"
   ]
  },
  {
   "cell_type": "code",
   "execution_count": 94,
   "id": "946f0256",
   "metadata": {
    "execution": {
     "iopub.execute_input": "2022-12-18T10:55:51.416132Z",
     "iopub.status.busy": "2022-12-18T10:55:51.414721Z",
     "iopub.status.idle": "2022-12-18T10:55:51.421429Z",
     "shell.execute_reply": "2022-12-18T10:55:51.420269Z"
    },
    "papermill": {
     "duration": 0.019711,
     "end_time": "2022-12-18T10:55:51.423219",
     "exception": false,
     "start_time": "2022-12-18T10:55:51.403508",
     "status": "completed"
    },
    "tags": []
   },
   "outputs": [
    {
     "data": {
      "text/plain": [
       "(87554, 188)"
      ]
     },
     "execution_count": 94,
     "metadata": {},
     "output_type": "execute_result"
    }
   ],
   "source": [
    "df_train.shape"
   ]
  },
  {
   "cell_type": "code",
   "execution_count": 95,
   "id": "9e6761b7",
   "metadata": {
    "execution": {
     "iopub.execute_input": "2022-12-18T10:55:51.445436Z",
     "iopub.status.busy": "2022-12-18T10:55:51.444338Z",
     "iopub.status.idle": "2022-12-18T10:55:51.451687Z",
     "shell.execute_reply": "2022-12-18T10:55:51.450994Z"
    },
    "papermill": {
     "duration": 0.020579,
     "end_time": "2022-12-18T10:55:51.453723",
     "exception": false,
     "start_time": "2022-12-18T10:55:51.433144",
     "status": "completed"
    },
    "tags": []
   },
   "outputs": [
    {
     "data": {
      "text/plain": [
       "(21892, 188)"
      ]
     },
     "execution_count": 95,
     "metadata": {},
     "output_type": "execute_result"
    }
   ],
   "source": [
    "df_test.shape"
   ]
  },
  {
   "cell_type": "code",
   "execution_count": 96,
   "id": "6bdf868b",
   "metadata": {
    "execution": {
     "iopub.execute_input": "2022-12-18T10:55:51.477607Z",
     "iopub.status.busy": "2022-12-18T10:55:51.476299Z",
     "iopub.status.idle": "2022-12-18T10:55:51.507365Z",
     "shell.execute_reply": "2022-12-18T10:55:51.506187Z"
    },
    "papermill": {
     "duration": 0.045253,
     "end_time": "2022-12-18T10:55:51.510003",
     "exception": false,
     "start_time": "2022-12-18T10:55:51.464750",
     "status": "completed"
    },
    "tags": []
   },
   "outputs": [],
   "source": [
    "df= pd.concat([df_train,df_test],ignore_index=True,sort=False)"
   ]
  },
  {
   "cell_type": "code",
   "execution_count": 97,
   "id": "dca775b4",
   "metadata": {
    "execution": {
     "iopub.execute_input": "2022-12-18T10:55:51.532152Z",
     "iopub.status.busy": "2022-12-18T10:55:51.531712Z",
     "iopub.status.idle": "2022-12-18T10:55:51.568705Z",
     "shell.execute_reply": "2022-12-18T10:55:51.567639Z"
    },
    "papermill": {
     "duration": 0.050552,
     "end_time": "2022-12-18T10:55:51.570985",
     "exception": false,
     "start_time": "2022-12-18T10:55:51.520433",
     "status": "completed"
    },
    "tags": []
   },
   "outputs": [
    {
     "data": {
      "text/html": [
       "<div>\n",
       "<style scoped>\n",
       "    .dataframe tbody tr th:only-of-type {\n",
       "        vertical-align: middle;\n",
       "    }\n",
       "\n",
       "    .dataframe tbody tr th {\n",
       "        vertical-align: top;\n",
       "    }\n",
       "\n",
       "    .dataframe thead th {\n",
       "        text-align: right;\n",
       "    }\n",
       "</style>\n",
       "<table border=\"1\" class=\"dataframe\">\n",
       "  <thead>\n",
       "    <tr style=\"text-align: right;\">\n",
       "      <th></th>\n",
       "      <th>0</th>\n",
       "      <th>1</th>\n",
       "      <th>2</th>\n",
       "      <th>3</th>\n",
       "      <th>4</th>\n",
       "      <th>5</th>\n",
       "      <th>6</th>\n",
       "      <th>7</th>\n",
       "      <th>8</th>\n",
       "      <th>9</th>\n",
       "      <th>...</th>\n",
       "      <th>178</th>\n",
       "      <th>179</th>\n",
       "      <th>180</th>\n",
       "      <th>181</th>\n",
       "      <th>182</th>\n",
       "      <th>183</th>\n",
       "      <th>184</th>\n",
       "      <th>185</th>\n",
       "      <th>186</th>\n",
       "      <th>187</th>\n",
       "    </tr>\n",
       "  </thead>\n",
       "  <tbody>\n",
       "    <tr>\n",
       "      <th>0</th>\n",
       "      <td>0.977941</td>\n",
       "      <td>0.926471</td>\n",
       "      <td>0.681373</td>\n",
       "      <td>0.245098</td>\n",
       "      <td>0.154412</td>\n",
       "      <td>0.191176</td>\n",
       "      <td>0.151961</td>\n",
       "      <td>0.085784</td>\n",
       "      <td>0.058824</td>\n",
       "      <td>0.049020</td>\n",
       "      <td>...</td>\n",
       "      <td>0.0</td>\n",
       "      <td>0.0</td>\n",
       "      <td>0.0</td>\n",
       "      <td>0.0</td>\n",
       "      <td>0.0</td>\n",
       "      <td>0.0</td>\n",
       "      <td>0.0</td>\n",
       "      <td>0.0</td>\n",
       "      <td>0.0</td>\n",
       "      <td>0.0</td>\n",
       "    </tr>\n",
       "    <tr>\n",
       "      <th>1</th>\n",
       "      <td>0.960114</td>\n",
       "      <td>0.863248</td>\n",
       "      <td>0.461538</td>\n",
       "      <td>0.196581</td>\n",
       "      <td>0.094017</td>\n",
       "      <td>0.125356</td>\n",
       "      <td>0.099715</td>\n",
       "      <td>0.088319</td>\n",
       "      <td>0.074074</td>\n",
       "      <td>0.082621</td>\n",
       "      <td>...</td>\n",
       "      <td>0.0</td>\n",
       "      <td>0.0</td>\n",
       "      <td>0.0</td>\n",
       "      <td>0.0</td>\n",
       "      <td>0.0</td>\n",
       "      <td>0.0</td>\n",
       "      <td>0.0</td>\n",
       "      <td>0.0</td>\n",
       "      <td>0.0</td>\n",
       "      <td>0.0</td>\n",
       "    </tr>\n",
       "    <tr>\n",
       "      <th>2</th>\n",
       "      <td>1.000000</td>\n",
       "      <td>0.659459</td>\n",
       "      <td>0.186486</td>\n",
       "      <td>0.070270</td>\n",
       "      <td>0.070270</td>\n",
       "      <td>0.059459</td>\n",
       "      <td>0.056757</td>\n",
       "      <td>0.043243</td>\n",
       "      <td>0.054054</td>\n",
       "      <td>0.045946</td>\n",
       "      <td>...</td>\n",
       "      <td>0.0</td>\n",
       "      <td>0.0</td>\n",
       "      <td>0.0</td>\n",
       "      <td>0.0</td>\n",
       "      <td>0.0</td>\n",
       "      <td>0.0</td>\n",
       "      <td>0.0</td>\n",
       "      <td>0.0</td>\n",
       "      <td>0.0</td>\n",
       "      <td>0.0</td>\n",
       "    </tr>\n",
       "    <tr>\n",
       "      <th>3</th>\n",
       "      <td>0.925414</td>\n",
       "      <td>0.665746</td>\n",
       "      <td>0.541436</td>\n",
       "      <td>0.276243</td>\n",
       "      <td>0.196133</td>\n",
       "      <td>0.077348</td>\n",
       "      <td>0.071823</td>\n",
       "      <td>0.060773</td>\n",
       "      <td>0.066298</td>\n",
       "      <td>0.058011</td>\n",
       "      <td>...</td>\n",
       "      <td>0.0</td>\n",
       "      <td>0.0</td>\n",
       "      <td>0.0</td>\n",
       "      <td>0.0</td>\n",
       "      <td>0.0</td>\n",
       "      <td>0.0</td>\n",
       "      <td>0.0</td>\n",
       "      <td>0.0</td>\n",
       "      <td>0.0</td>\n",
       "      <td>0.0</td>\n",
       "    </tr>\n",
       "    <tr>\n",
       "      <th>4</th>\n",
       "      <td>0.967136</td>\n",
       "      <td>1.000000</td>\n",
       "      <td>0.830986</td>\n",
       "      <td>0.586854</td>\n",
       "      <td>0.356808</td>\n",
       "      <td>0.248826</td>\n",
       "      <td>0.145540</td>\n",
       "      <td>0.089202</td>\n",
       "      <td>0.117371</td>\n",
       "      <td>0.150235</td>\n",
       "      <td>...</td>\n",
       "      <td>0.0</td>\n",
       "      <td>0.0</td>\n",
       "      <td>0.0</td>\n",
       "      <td>0.0</td>\n",
       "      <td>0.0</td>\n",
       "      <td>0.0</td>\n",
       "      <td>0.0</td>\n",
       "      <td>0.0</td>\n",
       "      <td>0.0</td>\n",
       "      <td>0.0</td>\n",
       "    </tr>\n",
       "    <tr>\n",
       "      <th>...</th>\n",
       "      <td>...</td>\n",
       "      <td>...</td>\n",
       "      <td>...</td>\n",
       "      <td>...</td>\n",
       "      <td>...</td>\n",
       "      <td>...</td>\n",
       "      <td>...</td>\n",
       "      <td>...</td>\n",
       "      <td>...</td>\n",
       "      <td>...</td>\n",
       "      <td>...</td>\n",
       "      <td>...</td>\n",
       "      <td>...</td>\n",
       "      <td>...</td>\n",
       "      <td>...</td>\n",
       "      <td>...</td>\n",
       "      <td>...</td>\n",
       "      <td>...</td>\n",
       "      <td>...</td>\n",
       "      <td>...</td>\n",
       "      <td>...</td>\n",
       "    </tr>\n",
       "    <tr>\n",
       "      <th>109441</th>\n",
       "      <td>0.928736</td>\n",
       "      <td>0.871264</td>\n",
       "      <td>0.804598</td>\n",
       "      <td>0.742529</td>\n",
       "      <td>0.650575</td>\n",
       "      <td>0.535632</td>\n",
       "      <td>0.394253</td>\n",
       "      <td>0.250575</td>\n",
       "      <td>0.140230</td>\n",
       "      <td>0.102299</td>\n",
       "      <td>...</td>\n",
       "      <td>0.0</td>\n",
       "      <td>0.0</td>\n",
       "      <td>0.0</td>\n",
       "      <td>0.0</td>\n",
       "      <td>0.0</td>\n",
       "      <td>0.0</td>\n",
       "      <td>0.0</td>\n",
       "      <td>0.0</td>\n",
       "      <td>0.0</td>\n",
       "      <td>4.0</td>\n",
       "    </tr>\n",
       "    <tr>\n",
       "      <th>109442</th>\n",
       "      <td>0.802691</td>\n",
       "      <td>0.692078</td>\n",
       "      <td>0.587444</td>\n",
       "      <td>0.446936</td>\n",
       "      <td>0.318386</td>\n",
       "      <td>0.189836</td>\n",
       "      <td>0.118087</td>\n",
       "      <td>0.077728</td>\n",
       "      <td>0.112108</td>\n",
       "      <td>0.152466</td>\n",
       "      <td>...</td>\n",
       "      <td>0.0</td>\n",
       "      <td>0.0</td>\n",
       "      <td>0.0</td>\n",
       "      <td>0.0</td>\n",
       "      <td>0.0</td>\n",
       "      <td>0.0</td>\n",
       "      <td>0.0</td>\n",
       "      <td>0.0</td>\n",
       "      <td>0.0</td>\n",
       "      <td>4.0</td>\n",
       "    </tr>\n",
       "    <tr>\n",
       "      <th>109443</th>\n",
       "      <td>1.000000</td>\n",
       "      <td>0.967359</td>\n",
       "      <td>0.620178</td>\n",
       "      <td>0.347181</td>\n",
       "      <td>0.139466</td>\n",
       "      <td>0.089021</td>\n",
       "      <td>0.103858</td>\n",
       "      <td>0.100890</td>\n",
       "      <td>0.106825</td>\n",
       "      <td>0.100890</td>\n",
       "      <td>...</td>\n",
       "      <td>0.0</td>\n",
       "      <td>0.0</td>\n",
       "      <td>0.0</td>\n",
       "      <td>0.0</td>\n",
       "      <td>0.0</td>\n",
       "      <td>0.0</td>\n",
       "      <td>0.0</td>\n",
       "      <td>0.0</td>\n",
       "      <td>0.0</td>\n",
       "      <td>4.0</td>\n",
       "    </tr>\n",
       "    <tr>\n",
       "      <th>109444</th>\n",
       "      <td>0.984127</td>\n",
       "      <td>0.567460</td>\n",
       "      <td>0.607143</td>\n",
       "      <td>0.583333</td>\n",
       "      <td>0.607143</td>\n",
       "      <td>0.575397</td>\n",
       "      <td>0.575397</td>\n",
       "      <td>0.488095</td>\n",
       "      <td>0.392857</td>\n",
       "      <td>0.238095</td>\n",
       "      <td>...</td>\n",
       "      <td>0.0</td>\n",
       "      <td>0.0</td>\n",
       "      <td>0.0</td>\n",
       "      <td>0.0</td>\n",
       "      <td>0.0</td>\n",
       "      <td>0.0</td>\n",
       "      <td>0.0</td>\n",
       "      <td>0.0</td>\n",
       "      <td>0.0</td>\n",
       "      <td>4.0</td>\n",
       "    </tr>\n",
       "    <tr>\n",
       "      <th>109445</th>\n",
       "      <td>0.973970</td>\n",
       "      <td>0.913232</td>\n",
       "      <td>0.865510</td>\n",
       "      <td>0.823210</td>\n",
       "      <td>0.746204</td>\n",
       "      <td>0.642082</td>\n",
       "      <td>0.547722</td>\n",
       "      <td>0.426247</td>\n",
       "      <td>0.325380</td>\n",
       "      <td>0.279826</td>\n",
       "      <td>...</td>\n",
       "      <td>0.0</td>\n",
       "      <td>0.0</td>\n",
       "      <td>0.0</td>\n",
       "      <td>0.0</td>\n",
       "      <td>0.0</td>\n",
       "      <td>0.0</td>\n",
       "      <td>0.0</td>\n",
       "      <td>0.0</td>\n",
       "      <td>0.0</td>\n",
       "      <td>4.0</td>\n",
       "    </tr>\n",
       "  </tbody>\n",
       "</table>\n",
       "<p>109446 rows × 188 columns</p>\n",
       "</div>"
      ],
      "text/plain": [
       "             0         1         2         3         4         5         6    \\\n",
       "0       0.977941  0.926471  0.681373  0.245098  0.154412  0.191176  0.151961   \n",
       "1       0.960114  0.863248  0.461538  0.196581  0.094017  0.125356  0.099715   \n",
       "2       1.000000  0.659459  0.186486  0.070270  0.070270  0.059459  0.056757   \n",
       "3       0.925414  0.665746  0.541436  0.276243  0.196133  0.077348  0.071823   \n",
       "4       0.967136  1.000000  0.830986  0.586854  0.356808  0.248826  0.145540   \n",
       "...          ...       ...       ...       ...       ...       ...       ...   \n",
       "109441  0.928736  0.871264  0.804598  0.742529  0.650575  0.535632  0.394253   \n",
       "109442  0.802691  0.692078  0.587444  0.446936  0.318386  0.189836  0.118087   \n",
       "109443  1.000000  0.967359  0.620178  0.347181  0.139466  0.089021  0.103858   \n",
       "109444  0.984127  0.567460  0.607143  0.583333  0.607143  0.575397  0.575397   \n",
       "109445  0.973970  0.913232  0.865510  0.823210  0.746204  0.642082  0.547722   \n",
       "\n",
       "             7         8         9    ...  178  179  180  181  182  183  184  \\\n",
       "0       0.085784  0.058824  0.049020  ...  0.0  0.0  0.0  0.0  0.0  0.0  0.0   \n",
       "1       0.088319  0.074074  0.082621  ...  0.0  0.0  0.0  0.0  0.0  0.0  0.0   \n",
       "2       0.043243  0.054054  0.045946  ...  0.0  0.0  0.0  0.0  0.0  0.0  0.0   \n",
       "3       0.060773  0.066298  0.058011  ...  0.0  0.0  0.0  0.0  0.0  0.0  0.0   \n",
       "4       0.089202  0.117371  0.150235  ...  0.0  0.0  0.0  0.0  0.0  0.0  0.0   \n",
       "...          ...       ...       ...  ...  ...  ...  ...  ...  ...  ...  ...   \n",
       "109441  0.250575  0.140230  0.102299  ...  0.0  0.0  0.0  0.0  0.0  0.0  0.0   \n",
       "109442  0.077728  0.112108  0.152466  ...  0.0  0.0  0.0  0.0  0.0  0.0  0.0   \n",
       "109443  0.100890  0.106825  0.100890  ...  0.0  0.0  0.0  0.0  0.0  0.0  0.0   \n",
       "109444  0.488095  0.392857  0.238095  ...  0.0  0.0  0.0  0.0  0.0  0.0  0.0   \n",
       "109445  0.426247  0.325380  0.279826  ...  0.0  0.0  0.0  0.0  0.0  0.0  0.0   \n",
       "\n",
       "        185  186  187  \n",
       "0       0.0  0.0  0.0  \n",
       "1       0.0  0.0  0.0  \n",
       "2       0.0  0.0  0.0  \n",
       "3       0.0  0.0  0.0  \n",
       "4       0.0  0.0  0.0  \n",
       "...     ...  ...  ...  \n",
       "109441  0.0  0.0  4.0  \n",
       "109442  0.0  0.0  4.0  \n",
       "109443  0.0  0.0  4.0  \n",
       "109444  0.0  0.0  4.0  \n",
       "109445  0.0  0.0  4.0  \n",
       "\n",
       "[109446 rows x 188 columns]"
      ]
     },
     "execution_count": 97,
     "metadata": {},
     "output_type": "execute_result"
    }
   ],
   "source": [
    "df"
   ]
  },
  {
   "cell_type": "code",
   "execution_count": 98,
   "id": "db332fd6",
   "metadata": {
    "execution": {
     "iopub.execute_input": "2022-12-18T10:55:51.594245Z",
     "iopub.status.busy": "2022-12-18T10:55:51.593028Z",
     "iopub.status.idle": "2022-12-18T10:55:51.619920Z",
     "shell.execute_reply": "2022-12-18T10:55:51.618541Z"
    },
    "papermill": {
     "duration": 0.040767,
     "end_time": "2022-12-18T10:55:51.622316",
     "exception": false,
     "start_time": "2022-12-18T10:55:51.581549",
     "status": "completed"
    },
    "tags": []
   },
   "outputs": [
    {
     "name": "stdout",
     "output_type": "stream",
     "text": [
      "<class 'pandas.core.frame.DataFrame'>\n",
      "RangeIndex: 109446 entries, 0 to 109445\n",
      "Columns: 188 entries, 0 to 187\n",
      "dtypes: float64(188)\n",
      "memory usage: 157.0 MB\n"
     ]
    }
   ],
   "source": [
    "df.info()"
   ]
  },
  {
   "cell_type": "code",
   "execution_count": 99,
   "id": "ed94f47e",
   "metadata": {
    "execution": {
     "iopub.execute_input": "2022-12-18T10:55:51.645107Z",
     "iopub.status.busy": "2022-12-18T10:55:51.644771Z",
     "iopub.status.idle": "2022-12-18T10:55:52.493891Z",
     "shell.execute_reply": "2022-12-18T10:55:52.492828Z"
    },
    "papermill": {
     "duration": 0.863173,
     "end_time": "2022-12-18T10:55:52.496376",
     "exception": false,
     "start_time": "2022-12-18T10:55:51.633203",
     "status": "completed"
    },
    "tags": []
   },
   "outputs": [
    {
     "data": {
      "text/html": [
       "<div>\n",
       "<style scoped>\n",
       "    .dataframe tbody tr th:only-of-type {\n",
       "        vertical-align: middle;\n",
       "    }\n",
       "\n",
       "    .dataframe tbody tr th {\n",
       "        vertical-align: top;\n",
       "    }\n",
       "\n",
       "    .dataframe thead th {\n",
       "        text-align: right;\n",
       "    }\n",
       "</style>\n",
       "<table border=\"1\" class=\"dataframe\">\n",
       "  <thead>\n",
       "    <tr style=\"text-align: right;\">\n",
       "      <th></th>\n",
       "      <th>0</th>\n",
       "      <th>1</th>\n",
       "      <th>2</th>\n",
       "      <th>3</th>\n",
       "      <th>4</th>\n",
       "      <th>5</th>\n",
       "      <th>6</th>\n",
       "      <th>7</th>\n",
       "      <th>8</th>\n",
       "      <th>9</th>\n",
       "      <th>...</th>\n",
       "      <th>178</th>\n",
       "      <th>179</th>\n",
       "      <th>180</th>\n",
       "      <th>181</th>\n",
       "      <th>182</th>\n",
       "      <th>183</th>\n",
       "      <th>184</th>\n",
       "      <th>185</th>\n",
       "      <th>186</th>\n",
       "      <th>187</th>\n",
       "    </tr>\n",
       "  </thead>\n",
       "  <tbody>\n",
       "    <tr>\n",
       "      <th>count</th>\n",
       "      <td>109446.000000</td>\n",
       "      <td>109446.000000</td>\n",
       "      <td>109446.000000</td>\n",
       "      <td>109446.000000</td>\n",
       "      <td>109446.000000</td>\n",
       "      <td>109446.000000</td>\n",
       "      <td>109446.000000</td>\n",
       "      <td>109446.000000</td>\n",
       "      <td>109446.000000</td>\n",
       "      <td>109446.000000</td>\n",
       "      <td>...</td>\n",
       "      <td>109446.000000</td>\n",
       "      <td>109446.000000</td>\n",
       "      <td>109446.000000</td>\n",
       "      <td>109446.000000</td>\n",
       "      <td>109446.000000</td>\n",
       "      <td>109446.000000</td>\n",
       "      <td>109446.000000</td>\n",
       "      <td>109446.000000</td>\n",
       "      <td>109446.000000</td>\n",
       "      <td>109446.000000</td>\n",
       "    </tr>\n",
       "    <tr>\n",
       "      <th>mean</th>\n",
       "      <td>0.891170</td>\n",
       "      <td>0.758909</td>\n",
       "      <td>0.424503</td>\n",
       "      <td>0.219602</td>\n",
       "      <td>0.201237</td>\n",
       "      <td>0.210298</td>\n",
       "      <td>0.205607</td>\n",
       "      <td>0.201617</td>\n",
       "      <td>0.198480</td>\n",
       "      <td>0.196610</td>\n",
       "      <td>...</td>\n",
       "      <td>0.004937</td>\n",
       "      <td>0.004568</td>\n",
       "      <td>0.004237</td>\n",
       "      <td>0.003914</td>\n",
       "      <td>0.003673</td>\n",
       "      <td>0.003469</td>\n",
       "      <td>0.003210</td>\n",
       "      <td>0.002956</td>\n",
       "      <td>0.002835</td>\n",
       "      <td>0.473439</td>\n",
       "    </tr>\n",
       "    <tr>\n",
       "      <th>std</th>\n",
       "      <td>0.239657</td>\n",
       "      <td>0.221190</td>\n",
       "      <td>0.227561</td>\n",
       "      <td>0.207248</td>\n",
       "      <td>0.177191</td>\n",
       "      <td>0.171965</td>\n",
       "      <td>0.178374</td>\n",
       "      <td>0.177020</td>\n",
       "      <td>0.171469</td>\n",
       "      <td>0.168028</td>\n",
       "      <td>...</td>\n",
       "      <td>0.043951</td>\n",
       "      <td>0.042109</td>\n",
       "      <td>0.040471</td>\n",
       "      <td>0.038801</td>\n",
       "      <td>0.037465</td>\n",
       "      <td>0.036552</td>\n",
       "      <td>0.035015</td>\n",
       "      <td>0.033413</td>\n",
       "      <td>0.032620</td>\n",
       "      <td>1.143232</td>\n",
       "    </tr>\n",
       "    <tr>\n",
       "      <th>min</th>\n",
       "      <td>0.000000</td>\n",
       "      <td>0.000000</td>\n",
       "      <td>0.000000</td>\n",
       "      <td>0.000000</td>\n",
       "      <td>0.000000</td>\n",
       "      <td>0.000000</td>\n",
       "      <td>0.000000</td>\n",
       "      <td>0.000000</td>\n",
       "      <td>0.000000</td>\n",
       "      <td>0.000000</td>\n",
       "      <td>...</td>\n",
       "      <td>0.000000</td>\n",
       "      <td>0.000000</td>\n",
       "      <td>0.000000</td>\n",
       "      <td>0.000000</td>\n",
       "      <td>0.000000</td>\n",
       "      <td>0.000000</td>\n",
       "      <td>0.000000</td>\n",
       "      <td>0.000000</td>\n",
       "      <td>0.000000</td>\n",
       "      <td>0.000000</td>\n",
       "    </tr>\n",
       "    <tr>\n",
       "      <th>25%</th>\n",
       "      <td>0.922252</td>\n",
       "      <td>0.682648</td>\n",
       "      <td>0.251014</td>\n",
       "      <td>0.048853</td>\n",
       "      <td>0.082418</td>\n",
       "      <td>0.088300</td>\n",
       "      <td>0.073171</td>\n",
       "      <td>0.066093</td>\n",
       "      <td>0.064893</td>\n",
       "      <td>0.068615</td>\n",
       "      <td>...</td>\n",
       "      <td>0.000000</td>\n",
       "      <td>0.000000</td>\n",
       "      <td>0.000000</td>\n",
       "      <td>0.000000</td>\n",
       "      <td>0.000000</td>\n",
       "      <td>0.000000</td>\n",
       "      <td>0.000000</td>\n",
       "      <td>0.000000</td>\n",
       "      <td>0.000000</td>\n",
       "      <td>0.000000</td>\n",
       "    </tr>\n",
       "    <tr>\n",
       "      <th>50%</th>\n",
       "      <td>0.991202</td>\n",
       "      <td>0.826560</td>\n",
       "      <td>0.430174</td>\n",
       "      <td>0.166355</td>\n",
       "      <td>0.147842</td>\n",
       "      <td>0.158640</td>\n",
       "      <td>0.145078</td>\n",
       "      <td>0.144465</td>\n",
       "      <td>0.150073</td>\n",
       "      <td>0.148849</td>\n",
       "      <td>...</td>\n",
       "      <td>0.000000</td>\n",
       "      <td>0.000000</td>\n",
       "      <td>0.000000</td>\n",
       "      <td>0.000000</td>\n",
       "      <td>0.000000</td>\n",
       "      <td>0.000000</td>\n",
       "      <td>0.000000</td>\n",
       "      <td>0.000000</td>\n",
       "      <td>0.000000</td>\n",
       "      <td>0.000000</td>\n",
       "    </tr>\n",
       "    <tr>\n",
       "      <th>75%</th>\n",
       "      <td>1.000000</td>\n",
       "      <td>0.910868</td>\n",
       "      <td>0.579832</td>\n",
       "      <td>0.342707</td>\n",
       "      <td>0.259045</td>\n",
       "      <td>0.287500</td>\n",
       "      <td>0.298343</td>\n",
       "      <td>0.295235</td>\n",
       "      <td>0.290623</td>\n",
       "      <td>0.283465</td>\n",
       "      <td>...</td>\n",
       "      <td>0.000000</td>\n",
       "      <td>0.000000</td>\n",
       "      <td>0.000000</td>\n",
       "      <td>0.000000</td>\n",
       "      <td>0.000000</td>\n",
       "      <td>0.000000</td>\n",
       "      <td>0.000000</td>\n",
       "      <td>0.000000</td>\n",
       "      <td>0.000000</td>\n",
       "      <td>0.000000</td>\n",
       "    </tr>\n",
       "    <tr>\n",
       "      <th>max</th>\n",
       "      <td>1.000000</td>\n",
       "      <td>1.000000</td>\n",
       "      <td>1.000000</td>\n",
       "      <td>1.000000</td>\n",
       "      <td>1.000000</td>\n",
       "      <td>1.000000</td>\n",
       "      <td>1.000000</td>\n",
       "      <td>1.000000</td>\n",
       "      <td>1.000000</td>\n",
       "      <td>1.000000</td>\n",
       "      <td>...</td>\n",
       "      <td>1.000000</td>\n",
       "      <td>1.000000</td>\n",
       "      <td>1.000000</td>\n",
       "      <td>1.000000</td>\n",
       "      <td>1.000000</td>\n",
       "      <td>1.000000</td>\n",
       "      <td>1.000000</td>\n",
       "      <td>1.000000</td>\n",
       "      <td>1.000000</td>\n",
       "      <td>4.000000</td>\n",
       "    </tr>\n",
       "  </tbody>\n",
       "</table>\n",
       "<p>8 rows × 188 columns</p>\n",
       "</div>"
      ],
      "text/plain": [
       "                 0              1              2              3    \\\n",
       "count  109446.000000  109446.000000  109446.000000  109446.000000   \n",
       "mean        0.891170       0.758909       0.424503       0.219602   \n",
       "std         0.239657       0.221190       0.227561       0.207248   \n",
       "min         0.000000       0.000000       0.000000       0.000000   \n",
       "25%         0.922252       0.682648       0.251014       0.048853   \n",
       "50%         0.991202       0.826560       0.430174       0.166355   \n",
       "75%         1.000000       0.910868       0.579832       0.342707   \n",
       "max         1.000000       1.000000       1.000000       1.000000   \n",
       "\n",
       "                 4              5              6              7    \\\n",
       "count  109446.000000  109446.000000  109446.000000  109446.000000   \n",
       "mean        0.201237       0.210298       0.205607       0.201617   \n",
       "std         0.177191       0.171965       0.178374       0.177020   \n",
       "min         0.000000       0.000000       0.000000       0.000000   \n",
       "25%         0.082418       0.088300       0.073171       0.066093   \n",
       "50%         0.147842       0.158640       0.145078       0.144465   \n",
       "75%         0.259045       0.287500       0.298343       0.295235   \n",
       "max         1.000000       1.000000       1.000000       1.000000   \n",
       "\n",
       "                 8              9    ...            178            179  \\\n",
       "count  109446.000000  109446.000000  ...  109446.000000  109446.000000   \n",
       "mean        0.198480       0.196610  ...       0.004937       0.004568   \n",
       "std         0.171469       0.168028  ...       0.043951       0.042109   \n",
       "min         0.000000       0.000000  ...       0.000000       0.000000   \n",
       "25%         0.064893       0.068615  ...       0.000000       0.000000   \n",
       "50%         0.150073       0.148849  ...       0.000000       0.000000   \n",
       "75%         0.290623       0.283465  ...       0.000000       0.000000   \n",
       "max         1.000000       1.000000  ...       1.000000       1.000000   \n",
       "\n",
       "                 180            181            182            183  \\\n",
       "count  109446.000000  109446.000000  109446.000000  109446.000000   \n",
       "mean        0.004237       0.003914       0.003673       0.003469   \n",
       "std         0.040471       0.038801       0.037465       0.036552   \n",
       "min         0.000000       0.000000       0.000000       0.000000   \n",
       "25%         0.000000       0.000000       0.000000       0.000000   \n",
       "50%         0.000000       0.000000       0.000000       0.000000   \n",
       "75%         0.000000       0.000000       0.000000       0.000000   \n",
       "max         1.000000       1.000000       1.000000       1.000000   \n",
       "\n",
       "                 184            185            186            187  \n",
       "count  109446.000000  109446.000000  109446.000000  109446.000000  \n",
       "mean        0.003210       0.002956       0.002835       0.473439  \n",
       "std         0.035015       0.033413       0.032620       1.143232  \n",
       "min         0.000000       0.000000       0.000000       0.000000  \n",
       "25%         0.000000       0.000000       0.000000       0.000000  \n",
       "50%         0.000000       0.000000       0.000000       0.000000  \n",
       "75%         0.000000       0.000000       0.000000       0.000000  \n",
       "max         1.000000       1.000000       1.000000       4.000000  \n",
       "\n",
       "[8 rows x 188 columns]"
      ]
     },
     "execution_count": 99,
     "metadata": {},
     "output_type": "execute_result"
    }
   ],
   "source": [
    "df.describe()"
   ]
  },
  {
   "cell_type": "code",
   "execution_count": 100,
   "id": "f2c9f393",
   "metadata": {
    "execution": {
     "iopub.execute_input": "2022-12-18T10:55:52.521147Z",
     "iopub.status.busy": "2022-12-18T10:55:52.520542Z",
     "iopub.status.idle": "2022-12-18T10:55:59.318185Z",
     "shell.execute_reply": "2022-12-18T10:55:59.316840Z"
    },
    "papermill": {
     "duration": 6.81347,
     "end_time": "2022-12-18T10:55:59.321205",
     "exception": false,
     "start_time": "2022-12-18T10:55:52.507735",
     "status": "completed"
    },
    "tags": []
   },
   "outputs": [
    {
     "data": {
      "text/html": [
       "<div>\n",
       "<style scoped>\n",
       "    .dataframe tbody tr th:only-of-type {\n",
       "        vertical-align: middle;\n",
       "    }\n",
       "\n",
       "    .dataframe tbody tr th {\n",
       "        vertical-align: top;\n",
       "    }\n",
       "\n",
       "    .dataframe thead th {\n",
       "        text-align: right;\n",
       "    }\n",
       "</style>\n",
       "<table border=\"1\" class=\"dataframe\">\n",
       "  <thead>\n",
       "    <tr style=\"text-align: right;\">\n",
       "      <th></th>\n",
       "      <th>0</th>\n",
       "      <th>1</th>\n",
       "      <th>2</th>\n",
       "      <th>3</th>\n",
       "      <th>4</th>\n",
       "      <th>5</th>\n",
       "      <th>6</th>\n",
       "      <th>7</th>\n",
       "      <th>8</th>\n",
       "      <th>9</th>\n",
       "      <th>...</th>\n",
       "      <th>178</th>\n",
       "      <th>179</th>\n",
       "      <th>180</th>\n",
       "      <th>181</th>\n",
       "      <th>182</th>\n",
       "      <th>183</th>\n",
       "      <th>184</th>\n",
       "      <th>185</th>\n",
       "      <th>186</th>\n",
       "      <th>187</th>\n",
       "    </tr>\n",
       "  </thead>\n",
       "  <tbody>\n",
       "    <tr>\n",
       "      <th>0</th>\n",
       "      <td>1.000000</td>\n",
       "      <td>0.776378</td>\n",
       "      <td>0.142675</td>\n",
       "      <td>-0.130667</td>\n",
       "      <td>-0.239685</td>\n",
       "      <td>-0.349050</td>\n",
       "      <td>-0.427408</td>\n",
       "      <td>-0.477762</td>\n",
       "      <td>-0.519645</td>\n",
       "      <td>-0.558296</td>\n",
       "      <td>...</td>\n",
       "      <td>-0.053454</td>\n",
       "      <td>-0.047539</td>\n",
       "      <td>-0.041829</td>\n",
       "      <td>-0.038567</td>\n",
       "      <td>-0.038517</td>\n",
       "      <td>-0.039591</td>\n",
       "      <td>-0.038347</td>\n",
       "      <td>-0.036757</td>\n",
       "      <td>-0.035826</td>\n",
       "      <td>-0.165686</td>\n",
       "    </tr>\n",
       "    <tr>\n",
       "      <th>1</th>\n",
       "      <td>0.776378</td>\n",
       "      <td>1.000000</td>\n",
       "      <td>0.504394</td>\n",
       "      <td>-0.019387</td>\n",
       "      <td>-0.143028</td>\n",
       "      <td>-0.159431</td>\n",
       "      <td>-0.229313</td>\n",
       "      <td>-0.281413</td>\n",
       "      <td>-0.319116</td>\n",
       "      <td>-0.338422</td>\n",
       "      <td>...</td>\n",
       "      <td>-0.021273</td>\n",
       "      <td>-0.016822</td>\n",
       "      <td>-0.012181</td>\n",
       "      <td>-0.010962</td>\n",
       "      <td>-0.011727</td>\n",
       "      <td>-0.013761</td>\n",
       "      <td>-0.012656</td>\n",
       "      <td>-0.012080</td>\n",
       "      <td>-0.012032</td>\n",
       "      <td>-0.181527</td>\n",
       "    </tr>\n",
       "    <tr>\n",
       "      <th>2</th>\n",
       "      <td>0.142675</td>\n",
       "      <td>0.504394</td>\n",
       "      <td>1.000000</td>\n",
       "      <td>0.674551</td>\n",
       "      <td>0.405695</td>\n",
       "      <td>0.347719</td>\n",
       "      <td>0.281982</td>\n",
       "      <td>0.206044</td>\n",
       "      <td>0.137553</td>\n",
       "      <td>0.075984</td>\n",
       "      <td>...</td>\n",
       "      <td>-0.019619</td>\n",
       "      <td>-0.021688</td>\n",
       "      <td>-0.023067</td>\n",
       "      <td>-0.027023</td>\n",
       "      <td>-0.029662</td>\n",
       "      <td>-0.031110</td>\n",
       "      <td>-0.031320</td>\n",
       "      <td>-0.032764</td>\n",
       "      <td>-0.034089</td>\n",
       "      <td>0.254649</td>\n",
       "    </tr>\n",
       "    <tr>\n",
       "      <th>3</th>\n",
       "      <td>-0.130667</td>\n",
       "      <td>-0.019387</td>\n",
       "      <td>0.674551</td>\n",
       "      <td>1.000000</td>\n",
       "      <td>0.820441</td>\n",
       "      <td>0.596377</td>\n",
       "      <td>0.474315</td>\n",
       "      <td>0.386567</td>\n",
       "      <td>0.289277</td>\n",
       "      <td>0.195681</td>\n",
       "      <td>...</td>\n",
       "      <td>-0.019088</td>\n",
       "      <td>-0.025189</td>\n",
       "      <td>-0.030843</td>\n",
       "      <td>-0.037572</td>\n",
       "      <td>-0.041533</td>\n",
       "      <td>-0.042543</td>\n",
       "      <td>-0.042900</td>\n",
       "      <td>-0.044553</td>\n",
       "      <td>-0.045436</td>\n",
       "      <td>0.509595</td>\n",
       "    </tr>\n",
       "    <tr>\n",
       "      <th>4</th>\n",
       "      <td>-0.239685</td>\n",
       "      <td>-0.143028</td>\n",
       "      <td>0.405695</td>\n",
       "      <td>0.820441</td>\n",
       "      <td>1.000000</td>\n",
       "      <td>0.881717</td>\n",
       "      <td>0.750069</td>\n",
       "      <td>0.662476</td>\n",
       "      <td>0.560822</td>\n",
       "      <td>0.445250</td>\n",
       "      <td>...</td>\n",
       "      <td>0.017078</td>\n",
       "      <td>0.008731</td>\n",
       "      <td>0.000371</td>\n",
       "      <td>-0.008441</td>\n",
       "      <td>-0.013908</td>\n",
       "      <td>-0.015925</td>\n",
       "      <td>-0.017221</td>\n",
       "      <td>-0.020801</td>\n",
       "      <td>-0.021703</td>\n",
       "      <td>0.509321</td>\n",
       "    </tr>\n",
       "    <tr>\n",
       "      <th>...</th>\n",
       "      <td>...</td>\n",
       "      <td>...</td>\n",
       "      <td>...</td>\n",
       "      <td>...</td>\n",
       "      <td>...</td>\n",
       "      <td>...</td>\n",
       "      <td>...</td>\n",
       "      <td>...</td>\n",
       "      <td>...</td>\n",
       "      <td>...</td>\n",
       "      <td>...</td>\n",
       "      <td>...</td>\n",
       "      <td>...</td>\n",
       "      <td>...</td>\n",
       "      <td>...</td>\n",
       "      <td>...</td>\n",
       "      <td>...</td>\n",
       "      <td>...</td>\n",
       "      <td>...</td>\n",
       "      <td>...</td>\n",
       "      <td>...</td>\n",
       "    </tr>\n",
       "    <tr>\n",
       "      <th>183</th>\n",
       "      <td>-0.039591</td>\n",
       "      <td>-0.013761</td>\n",
       "      <td>-0.031110</td>\n",
       "      <td>-0.042543</td>\n",
       "      <td>-0.015925</td>\n",
       "      <td>0.005693</td>\n",
       "      <td>0.006009</td>\n",
       "      <td>0.016363</td>\n",
       "      <td>0.024172</td>\n",
       "      <td>0.017949</td>\n",
       "      <td>...</td>\n",
       "      <td>0.747677</td>\n",
       "      <td>0.789429</td>\n",
       "      <td>0.839449</td>\n",
       "      <td>0.899827</td>\n",
       "      <td>0.960228</td>\n",
       "      <td>1.000000</td>\n",
       "      <td>0.947804</td>\n",
       "      <td>0.888950</td>\n",
       "      <td>0.854775</td>\n",
       "      <td>0.037439</td>\n",
       "    </tr>\n",
       "    <tr>\n",
       "      <th>184</th>\n",
       "      <td>-0.038347</td>\n",
       "      <td>-0.012656</td>\n",
       "      <td>-0.031320</td>\n",
       "      <td>-0.042900</td>\n",
       "      <td>-0.017221</td>\n",
       "      <td>0.003328</td>\n",
       "      <td>0.003494</td>\n",
       "      <td>0.013962</td>\n",
       "      <td>0.022347</td>\n",
       "      <td>0.015879</td>\n",
       "      <td>...</td>\n",
       "      <td>0.717941</td>\n",
       "      <td>0.754616</td>\n",
       "      <td>0.797072</td>\n",
       "      <td>0.845807</td>\n",
       "      <td>0.899384</td>\n",
       "      <td>0.947804</td>\n",
       "      <td>1.000000</td>\n",
       "      <td>0.950379</td>\n",
       "      <td>0.910361</td>\n",
       "      <td>0.037801</td>\n",
       "    </tr>\n",
       "    <tr>\n",
       "      <th>185</th>\n",
       "      <td>-0.036757</td>\n",
       "      <td>-0.012080</td>\n",
       "      <td>-0.032764</td>\n",
       "      <td>-0.044553</td>\n",
       "      <td>-0.020801</td>\n",
       "      <td>-0.001064</td>\n",
       "      <td>-0.000439</td>\n",
       "      <td>0.010669</td>\n",
       "      <td>0.020025</td>\n",
       "      <td>0.013493</td>\n",
       "      <td>...</td>\n",
       "      <td>0.695258</td>\n",
       "      <td>0.726812</td>\n",
       "      <td>0.764176</td>\n",
       "      <td>0.806033</td>\n",
       "      <td>0.848494</td>\n",
       "      <td>0.888950</td>\n",
       "      <td>0.950379</td>\n",
       "      <td>1.000000</td>\n",
       "      <td>0.969127</td>\n",
       "      <td>0.037403</td>\n",
       "    </tr>\n",
       "    <tr>\n",
       "      <th>186</th>\n",
       "      <td>-0.035826</td>\n",
       "      <td>-0.012032</td>\n",
       "      <td>-0.034089</td>\n",
       "      <td>-0.045436</td>\n",
       "      <td>-0.021703</td>\n",
       "      <td>-0.002450</td>\n",
       "      <td>-0.001696</td>\n",
       "      <td>0.009803</td>\n",
       "      <td>0.019711</td>\n",
       "      <td>0.013236</td>\n",
       "      <td>...</td>\n",
       "      <td>0.683091</td>\n",
       "      <td>0.712380</td>\n",
       "      <td>0.746616</td>\n",
       "      <td>0.783789</td>\n",
       "      <td>0.822067</td>\n",
       "      <td>0.854775</td>\n",
       "      <td>0.910361</td>\n",
       "      <td>0.969127</td>\n",
       "      <td>1.000000</td>\n",
       "      <td>0.036807</td>\n",
       "    </tr>\n",
       "    <tr>\n",
       "      <th>187</th>\n",
       "      <td>-0.165686</td>\n",
       "      <td>-0.181527</td>\n",
       "      <td>0.254649</td>\n",
       "      <td>0.509595</td>\n",
       "      <td>0.509321</td>\n",
       "      <td>0.409576</td>\n",
       "      <td>0.327166</td>\n",
       "      <td>0.247993</td>\n",
       "      <td>0.159335</td>\n",
       "      <td>0.058466</td>\n",
       "      <td>...</td>\n",
       "      <td>0.041289</td>\n",
       "      <td>0.040798</td>\n",
       "      <td>0.040535</td>\n",
       "      <td>0.038573</td>\n",
       "      <td>0.037666</td>\n",
       "      <td>0.037439</td>\n",
       "      <td>0.037801</td>\n",
       "      <td>0.037403</td>\n",
       "      <td>0.036807</td>\n",
       "      <td>1.000000</td>\n",
       "    </tr>\n",
       "  </tbody>\n",
       "</table>\n",
       "<p>188 rows × 188 columns</p>\n",
       "</div>"
      ],
      "text/plain": [
       "          0         1         2         3         4         5         6    \\\n",
       "0    1.000000  0.776378  0.142675 -0.130667 -0.239685 -0.349050 -0.427408   \n",
       "1    0.776378  1.000000  0.504394 -0.019387 -0.143028 -0.159431 -0.229313   \n",
       "2    0.142675  0.504394  1.000000  0.674551  0.405695  0.347719  0.281982   \n",
       "3   -0.130667 -0.019387  0.674551  1.000000  0.820441  0.596377  0.474315   \n",
       "4   -0.239685 -0.143028  0.405695  0.820441  1.000000  0.881717  0.750069   \n",
       "..        ...       ...       ...       ...       ...       ...       ...   \n",
       "183 -0.039591 -0.013761 -0.031110 -0.042543 -0.015925  0.005693  0.006009   \n",
       "184 -0.038347 -0.012656 -0.031320 -0.042900 -0.017221  0.003328  0.003494   \n",
       "185 -0.036757 -0.012080 -0.032764 -0.044553 -0.020801 -0.001064 -0.000439   \n",
       "186 -0.035826 -0.012032 -0.034089 -0.045436 -0.021703 -0.002450 -0.001696   \n",
       "187 -0.165686 -0.181527  0.254649  0.509595  0.509321  0.409576  0.327166   \n",
       "\n",
       "          7         8         9    ...       178       179       180  \\\n",
       "0   -0.477762 -0.519645 -0.558296  ... -0.053454 -0.047539 -0.041829   \n",
       "1   -0.281413 -0.319116 -0.338422  ... -0.021273 -0.016822 -0.012181   \n",
       "2    0.206044  0.137553  0.075984  ... -0.019619 -0.021688 -0.023067   \n",
       "3    0.386567  0.289277  0.195681  ... -0.019088 -0.025189 -0.030843   \n",
       "4    0.662476  0.560822  0.445250  ...  0.017078  0.008731  0.000371   \n",
       "..        ...       ...       ...  ...       ...       ...       ...   \n",
       "183  0.016363  0.024172  0.017949  ...  0.747677  0.789429  0.839449   \n",
       "184  0.013962  0.022347  0.015879  ...  0.717941  0.754616  0.797072   \n",
       "185  0.010669  0.020025  0.013493  ...  0.695258  0.726812  0.764176   \n",
       "186  0.009803  0.019711  0.013236  ...  0.683091  0.712380  0.746616   \n",
       "187  0.247993  0.159335  0.058466  ...  0.041289  0.040798  0.040535   \n",
       "\n",
       "          181       182       183       184       185       186       187  \n",
       "0   -0.038567 -0.038517 -0.039591 -0.038347 -0.036757 -0.035826 -0.165686  \n",
       "1   -0.010962 -0.011727 -0.013761 -0.012656 -0.012080 -0.012032 -0.181527  \n",
       "2   -0.027023 -0.029662 -0.031110 -0.031320 -0.032764 -0.034089  0.254649  \n",
       "3   -0.037572 -0.041533 -0.042543 -0.042900 -0.044553 -0.045436  0.509595  \n",
       "4   -0.008441 -0.013908 -0.015925 -0.017221 -0.020801 -0.021703  0.509321  \n",
       "..        ...       ...       ...       ...       ...       ...       ...  \n",
       "183  0.899827  0.960228  1.000000  0.947804  0.888950  0.854775  0.037439  \n",
       "184  0.845807  0.899384  0.947804  1.000000  0.950379  0.910361  0.037801  \n",
       "185  0.806033  0.848494  0.888950  0.950379  1.000000  0.969127  0.037403  \n",
       "186  0.783789  0.822067  0.854775  0.910361  0.969127  1.000000  0.036807  \n",
       "187  0.038573  0.037666  0.037439  0.037801  0.037403  0.036807  1.000000  \n",
       "\n",
       "[188 rows x 188 columns]"
      ]
     },
     "execution_count": 100,
     "metadata": {},
     "output_type": "execute_result"
    }
   ],
   "source": [
    "df.corr()"
   ]
  },
  {
   "cell_type": "code",
   "execution_count": 101,
   "id": "38902655",
   "metadata": {
    "execution": {
     "iopub.execute_input": "2022-12-18T10:55:59.345892Z",
     "iopub.status.busy": "2022-12-18T10:55:59.345498Z",
     "iopub.status.idle": "2022-12-18T10:55:59.357042Z",
     "shell.execute_reply": "2022-12-18T10:55:59.355958Z"
    },
    "papermill": {
     "duration": 0.026061,
     "end_time": "2022-12-18T10:55:59.358993",
     "exception": false,
     "start_time": "2022-12-18T10:55:59.332932",
     "status": "completed"
    },
    "tags": []
   },
   "outputs": [
    {
     "data": {
      "text/plain": [
       "187\n",
       "0.0    90589\n",
       "4.0     8039\n",
       "2.0     7236\n",
       "1.0     2779\n",
       "3.0      803\n",
       "Name: count, dtype: int64"
      ]
     },
     "execution_count": 101,
     "metadata": {},
     "output_type": "execute_result"
    }
   ],
   "source": [
    "df[187].value_counts()"
   ]
  },
  {
   "cell_type": "code",
   "execution_count": 102,
   "id": "7f161476",
   "metadata": {
    "execution": {
     "iopub.execute_input": "2022-12-18T10:55:59.383594Z",
     "iopub.status.busy": "2022-12-18T10:55:59.383235Z",
     "iopub.status.idle": "2022-12-18T10:55:59.392590Z",
     "shell.execute_reply": "2022-12-18T10:55:59.391404Z"
    },
    "papermill": {
     "duration": 0.024227,
     "end_time": "2022-12-18T10:55:59.394807",
     "exception": false,
     "start_time": "2022-12-18T10:55:59.370580",
     "status": "completed"
    },
    "tags": []
   },
   "outputs": [
    {
     "name": "stdout",
     "output_type": "stream",
     "text": [
      "class distribution\n"
     ]
    },
    {
     "data": {
      "text/plain": [
       "{0.0: 90589, 4.0: 8039, 2.0: 7236, 1.0: 2779, 3.0: 803}"
      ]
     },
     "execution_count": 102,
     "metadata": {},
     "output_type": "execute_result"
    }
   ],
   "source": [
    "print('class distribution')\n",
    "data = dict(df[187].value_counts())\n",
    "data"
   ]
  },
  {
   "cell_type": "code",
   "execution_count": 103,
   "id": "59c12313",
   "metadata": {
    "execution": {
     "iopub.execute_input": "2022-12-18T10:55:59.419830Z",
     "iopub.status.busy": "2022-12-18T10:55:59.419446Z",
     "iopub.status.idle": "2022-12-18T10:55:59.569787Z",
     "shell.execute_reply": "2022-12-18T10:55:59.568939Z"
    },
    "papermill": {
     "duration": 0.165163,
     "end_time": "2022-12-18T10:55:59.572053",
     "exception": false,
     "start_time": "2022-12-18T10:55:59.406890",
     "status": "completed"
    },
    "tags": []
   },
   "outputs": [
    {
     "data": {
      "image/png": "[encoded data removed]",
      "text/plain": [
       "<Figure size 640x480 with 1 Axes>"
      ]
     },
     "metadata": {},
     "output_type": "display_data"
    }
   ],
   "source": [
    "import matplotlib.pyplot as plt\n",
    "names = list(data.keys())\n",
    "values = list(data.values())\n",
    "plt.title('Class Distribution')\n",
    "plt.xlabel('Class')\n",
    "plt.ylabel('Frequency')\n",
    "plt.bar(range(len(data)), values, tick_label=names)\n",
    "plt.show()"
   ]
  },
  {
   "cell_type": "code",
   "execution_count": 104,
   "id": "eec4d7b7",
   "metadata": {
    "execution": {
     "iopub.execute_input": "2022-12-18T10:55:59.598648Z",
     "iopub.status.busy": "2022-12-18T10:55:59.598050Z",
     "iopub.status.idle": "2022-12-18T10:55:59.626906Z",
     "shell.execute_reply": "2022-12-18T10:55:59.626194Z"
    },
    "papermill": {
     "duration": 0.044779,
     "end_time": "2022-12-18T10:55:59.629455",
     "exception": false,
     "start_time": "2022-12-18T10:55:59.584676",
     "status": "completed"
    },
    "tags": []
   },
   "outputs": [
    {
     "data": {
      "text/plain": [
       "0      0\n",
       "1      0\n",
       "2      0\n",
       "3      0\n",
       "4      0\n",
       "      ..\n",
       "183    0\n",
       "184    0\n",
       "185    0\n",
       "186    0\n",
       "187    0\n",
       "Length: 188, dtype: int64"
      ]
     },
     "execution_count": 104,
     "metadata": {},
     "output_type": "execute_result"
    }
   ],
   "source": [
    "df.isnull().sum()"
   ]
  },
  {
   "cell_type": "code",
   "execution_count": 105,
   "id": "3fffe440",
   "metadata": {
    "execution": {
     "iopub.execute_input": "2022-12-18T10:55:59.656819Z",
     "iopub.status.busy": "2022-12-18T10:55:59.656244Z",
     "iopub.status.idle": "2022-12-18T10:55:59.686315Z",
     "shell.execute_reply": "2022-12-18T10:55:59.685562Z"
    },
    "papermill": {
     "duration": 0.046231,
     "end_time": "2022-12-18T10:55:59.688014",
     "exception": false,
     "start_time": "2022-12-18T10:55:59.641783",
     "status": "completed"
    },
    "tags": []
   },
   "outputs": [
    {
     "data": {
      "text/plain": [
       "0"
      ]
     },
     "execution_count": 105,
     "metadata": {},
     "output_type": "execute_result"
    }
   ],
   "source": [
    "df.isnull().sum().sum()"
   ]
  },
  {
   "cell_type": "markdown",
   "id": "24811a01",
   "metadata": {
    "papermill": {
     "duration": 0.011485,
     "end_time": "2022-12-18T10:55:59.711646",
     "exception": false,
     "start_time": "2022-12-18T10:55:59.700161",
     "status": "completed"
    },
    "tags": []
   },
   "source": [
    "There are 5 classes\n",
    "Normal beat ('N'): 0\n",
    "Supraventricular ectopic beats ('S'): 1\n",
    "Ventricular ectopic beats ('V'): 2\n",
    "Fusion Beats ('F'): 3\n",
    "Unknown Beats ('Q'): 4"
   ]
  },
  {
   "cell_type": "code",
   "execution_count": 106,
   "id": "76963fb2",
   "metadata": {
    "execution": {
     "iopub.execute_input": "2022-12-18T10:55:59.737548Z",
     "iopub.status.busy": "2022-12-18T10:55:59.736965Z",
     "iopub.status.idle": "2022-12-18T10:55:59.741291Z",
     "shell.execute_reply": "2022-12-18T10:55:59.740203Z"
    },
    "papermill": {
     "duration": 0.01992,
     "end_time": "2022-12-18T10:55:59.743438",
     "exception": false,
     "start_time": "2022-12-18T10:55:59.723518",
     "status": "completed"
    },
    "tags": []
   },
   "outputs": [],
   "source": [
    "label = [\"Normal Beat (N:0)\",\n",
    "         \"Supraventricular (S:1)\",\n",
    "         \"Ventricular (V:2)\",\n",
    "         \"Fusion (F:3)\",\n",
    "         \"Unknown (Q:4)\"]"
   ]
  },
  {
   "cell_type": "code",
   "execution_count": 107,
   "id": "4f2a75e4",
   "metadata": {
    "execution": {
     "iopub.execute_input": "2022-12-18T10:55:59.769319Z",
     "iopub.status.busy": "2022-12-18T10:55:59.768924Z",
     "iopub.status.idle": "2022-12-18T10:56:00.611045Z",
     "shell.execute_reply": "2022-12-18T10:56:00.610045Z"
    },
    "papermill": {
     "duration": 0.857727,
     "end_time": "2022-12-18T10:56:00.613246",
     "exception": false,
     "start_time": "2022-12-18T10:55:59.755519",
     "status": "completed"
    },
    "tags": []
   },
   "outputs": [
    {
     "data": {
      "image/png": "[encoded data removed]",
      "text/plain": [
       "<Figure size 1500x2000 with 5 Axes>"
      ]
     },
     "metadata": {},
     "output_type": "display_data"
    }
   ],
   "source": [
    "import matplotlib.pyplot as plt\n",
    "fig, ax = plt.subplots(5, 1, sharex=True, sharey=True,figsize=(15,20))\n",
    "for i, row in enumerate(ax):\n",
    "    row.plot((df[df[187] == i].iloc[0])[:-1], label=label[i])\n",
    "    row.legend()"
   ]
  },
  {
   "cell_type": "code",
   "execution_count": 108,
   "id": "5664c609",
   "metadata": {
    "execution": {
     "iopub.execute_input": "2022-12-18T10:56:00.642303Z",
     "iopub.status.busy": "2022-12-18T10:56:00.641526Z",
     "iopub.status.idle": "2022-12-18T10:56:01.530028Z",
     "shell.execute_reply": "2022-12-18T10:56:01.529201Z"
    },
    "papermill": {
     "duration": 0.905688,
     "end_time": "2022-12-18T10:56:01.532371",
     "exception": false,
     "start_time": "2022-12-18T10:56:00.626683",
     "status": "completed"
    },
    "tags": []
   },
   "outputs": [],
   "source": [
    "from sklearn.model_selection import train_test_split,cross_val_score\n",
    "from sklearn.metrics import classification_report,accuracy_score,confusion_matrix"
   ]
  },
  {
   "cell_type": "code",
   "execution_count": 109,
   "id": "b8ddf5c2",
   "metadata": {
    "execution": {
     "iopub.execute_input": "2022-12-18T10:56:01.560242Z",
     "iopub.status.busy": "2022-12-18T10:56:01.559821Z",
     "iopub.status.idle": "2022-12-18T10:56:01.564155Z",
     "shell.execute_reply": "2022-12-18T10:56:01.563473Z"
    },
    "papermill": {
     "duration": 0.020294,
     "end_time": "2022-12-18T10:56:01.565805",
     "exception": false,
     "start_time": "2022-12-18T10:56:01.545511",
     "status": "completed"
    },
    "tags": []
   },
   "outputs": [],
   "source": [
    "X=df.iloc[:,:-1]\n",
    "y=df.iloc[:,-1]"
   ]
  },
  {
   "cell_type": "code",
   "execution_count": 110,
   "id": "3eb42506",
   "metadata": {
    "execution": {
     "iopub.execute_input": "2022-12-18T10:56:01.594173Z",
     "iopub.status.busy": "2022-12-18T10:56:01.593276Z",
     "iopub.status.idle": "2022-12-18T10:56:01.896358Z",
     "shell.execute_reply": "2022-12-18T10:56:01.894562Z"
    },
    "papermill": {
     "duration": 0.320372,
     "end_time": "2022-12-18T10:56:01.898971",
     "exception": false,
     "start_time": "2022-12-18T10:56:01.578599",
     "status": "completed"
    },
    "tags": []
   },
   "outputs": [],
   "source": [
    "X_train, X_test, y_train, y_test = train_test_split(X, y, test_size=0.3, random_state=28)"
   ]
  },
  {
   "cell_type": "code",
   "execution_count": 111,
   "id": "101523ef",
   "metadata": {
    "execution": {
     "iopub.execute_input": "2022-12-18T10:56:01.927436Z",
     "iopub.status.busy": "2022-12-18T10:56:01.927042Z",
     "iopub.status.idle": "2022-12-18T10:56:01.937368Z",
     "shell.execute_reply": "2022-12-18T10:56:01.935924Z"
    },
    "papermill": {
     "duration": 0.026824,
     "end_time": "2022-12-18T10:56:01.939238",
     "exception": false,
     "start_time": "2022-12-18T10:56:01.912414",
     "status": "completed"
    },
    "tags": []
   },
   "outputs": [
    {
     "data": {
      "text/plain": [
       "187\n",
       "0.0    63493\n",
       "4.0     5546\n",
       "2.0     5075\n",
       "1.0     1927\n",
       "3.0      571\n",
       "Name: count, dtype: int64"
      ]
     },
     "execution_count": 111,
     "metadata": {},
     "output_type": "execute_result"
    }
   ],
   "source": [
    "y_train.value_counts()"
   ]
  },
  {
   "cell_type": "markdown",
   "id": "c5acbd71",
   "metadata": {
    "papermill": {
     "duration": 0.012224,
     "end_time": "2022-12-18T10:56:01.964637",
     "exception": false,
     "start_time": "2022-12-18T10:56:01.952413",
     "status": "completed"
    },
    "tags": []
   },
   "source": [
    "# **Unbalanced class distribution.**Hence we need to resample.</br>\n",
    "We use SMOTE </br>\n",
    "*SMOTE: Synthetic Minority Over-sampling Technique*\n"
   ]
  },
  {
   "cell_type": "code",
   "execution_count": 112,
   "id": "21648d5b",
   "metadata": {
    "execution": {
     "iopub.execute_input": "2022-12-18T10:56:01.991766Z",
     "iopub.status.busy": "2022-12-18T10:56:01.991412Z",
     "iopub.status.idle": "2022-12-18T10:56:02.308252Z",
     "shell.execute_reply": "2022-12-18T10:56:02.306540Z"
    },
    "papermill": {
     "duration": 0.333664,
     "end_time": "2022-12-18T10:56:02.311020",
     "exception": false,
     "start_time": "2022-12-18T10:56:01.977356",
     "status": "completed"
    },
    "tags": []
   },
   "outputs": [],
   "source": [
    "import imblearn\n",
    "from imblearn.over_sampling import SMOTE"
   ]
  },
  {
   "cell_type": "code",
   "execution_count": 113,
   "id": "42ca6f11",
   "metadata": {
    "execution": {
     "iopub.execute_input": "2022-12-18T10:56:02.340120Z",
     "iopub.status.busy": "2022-12-18T10:56:02.338892Z",
     "iopub.status.idle": "2022-12-18T10:56:04.966239Z",
     "shell.execute_reply": "2022-12-18T10:56:04.965286Z"
    },
    "papermill": {
     "duration": 2.644315,
     "end_time": "2022-12-18T10:56:04.968808",
     "exception": false,
     "start_time": "2022-12-18T10:56:02.324493",
     "status": "completed"
    },
    "tags": []
   },
   "outputs": [],
   "source": [
    "smote=SMOTE()\n",
    "X_oversampled,y_oversampled=smote.fit_resample(X_train,y_train)"
   ]
  },
  {
   "cell_type": "code",
   "execution_count": 114,
   "id": "d1a98de6",
   "metadata": {
    "execution": {
     "iopub.execute_input": "2022-12-18T10:56:04.996897Z",
     "iopub.status.busy": "2022-12-18T10:56:04.996540Z",
     "iopub.status.idle": "2022-12-18T10:56:05.007609Z",
     "shell.execute_reply": "2022-12-18T10:56:05.006518Z"
    },
    "papermill": {
     "duration": 0.027647,
     "end_time": "2022-12-18T10:56:05.009957",
     "exception": false,
     "start_time": "2022-12-18T10:56:04.982310",
     "status": "completed"
    },
    "tags": []
   },
   "outputs": [
    {
     "data": {
      "text/plain": [
       "187\n",
       "0.0    63493\n",
       "4.0    63493\n",
       "1.0    63493\n",
       "2.0    63493\n",
       "3.0    63493\n",
       "Name: count, dtype: int64"
      ]
     },
     "execution_count": 114,
     "metadata": {},
     "output_type": "execute_result"
    }
   ],
   "source": [
    "y_oversampled.value_counts()"
   ]
  },
  {
   "cell_type": "code",
   "execution_count": 115,
   "id": "b00417c3",
   "metadata": {
    "execution": {
     "iopub.execute_input": "2022-12-18T10:56:05.038686Z",
     "iopub.status.busy": "2022-12-18T10:56:05.038152Z",
     "iopub.status.idle": "2022-12-18T10:56:05.042887Z",
     "shell.execute_reply": "2022-12-18T10:56:05.042037Z"
    },
    "papermill": {
     "duration": 0.021901,
     "end_time": "2022-12-18T10:56:05.045448",
     "exception": false,
     "start_time": "2022-12-18T10:56:05.023547",
     "status": "completed"
    },
    "tags": []
   },
   "outputs": [
    {
     "name": "stdout",
     "output_type": "stream",
     "text": [
      "(76612, 187)\n",
      "(76612,)\n",
      "(32834, 187)\n",
      "(32834,)\n"
     ]
    }
   ],
   "source": [
    "print(X_train.shape)\n",
    "print(y_train.shape)\n",
    "print(X_test.shape)\n",
    "print(y_test.shape)"
   ]
  },
  {
   "cell_type": "code",
   "execution_count": 116,
   "id": "9421f748",
   "metadata": {
    "execution": {
     "iopub.execute_input": "2022-12-18T10:56:05.075944Z",
     "iopub.status.busy": "2022-12-18T10:56:05.075578Z",
     "iopub.status.idle": "2022-12-18T10:56:11.238165Z",
     "shell.execute_reply": "2022-12-18T10:56:11.236824Z"
    },
    "papermill": {
     "duration": 6.181381,
     "end_time": "2022-12-18T10:56:11.241443",
     "exception": false,
     "start_time": "2022-12-18T10:56:05.060062",
     "status": "completed"
    },
    "tags": []
   },
   "outputs": [
    {
     "name": "stderr",
     "output_type": "stream",
     "text": [
      "/opt/homebrew/lib/python3.11/site-packages/keras/src/layers/core/dense.py:92: UserWarning: Do not pass an `input_shape`/`input_dim` argument to a layer. When using Sequential models, prefer using an `Input(shape)` object as the first layer in the model instead.\n",
      "  super().__init__(activity_regularizer=activity_regularizer, **kwargs)\n"
     ]
    }
   ],
   "source": [
    "import tensorflow\n",
    "from tensorflow import keras\n",
    "from tensorflow.keras import Sequential\n",
    "from tensorflow.keras.layers import Dense\n",
    "model=Sequential()\n",
    "model.add(Dense(256,activation='relu',input_dim=187))\n",
    "model.add(Dense(128,activation='relu'))\n",
    "model.add(Dense(64,activation='relu'))\n",
    "model.add(Dense(5,activation='softmax'))\n",
    "model.compile(optimizer='Adam',loss='sparse_categorical_crossentropy',metrics=['accuracy'])"
   ]
  },
  {
   "cell_type": "code",
   "execution_count": 117,
   "id": "458f3503",
   "metadata": {
    "execution": {
     "iopub.execute_input": "2022-12-18T10:56:11.270864Z",
     "iopub.status.busy": "2022-12-18T10:56:11.270505Z",
     "iopub.status.idle": "2022-12-18T10:56:11.276278Z",
     "shell.execute_reply": "2022-12-18T10:56:11.275529Z"
    },
    "papermill": {
     "duration": 0.023111,
     "end_time": "2022-12-18T10:56:11.278319",
     "exception": false,
     "start_time": "2022-12-18T10:56:11.255208",
     "status": "completed"
    },
    "tags": []
   },
   "outputs": [
    {
     "data": {
      "text/html": [
       "<pre style=\"white-space:pre;overflow-x:auto;line-height:normal;font-family:Menlo,'DejaVu Sans Mono',consolas,'Courier New',monospace\"><span style=\"font-weight: bold\">Model: \"sequential_2\"</span>\n",
       "</pre>\n"
      ],
      "text/plain": [
       "\u001b[1mModel: \"sequential_2\"\u001b[0m\n"
      ]
     },
     "metadata": {},
     "output_type": "display_data"
    },
    {
     "data": {
      "text/html": [
       "<pre style=\"white-space:pre;overflow-x:auto;line-height:normal;font-family:Menlo,'DejaVu Sans Mono',consolas,'Courier New',monospace\">┏━━━━━━━━━━━━━━━━━━━━━━━━━━━━━━━━━┳━━━━━━━━━━━━━━━━━━━━━━━━┳━━━━━━━━━━━━━━━┓\n",
       "┃<span style=\"font-weight: bold\"> Layer (type)                    </span>┃<span style=\"font-weight: bold\"> Output Shape           </span>┃<span style=\"font-weight: bold\">       Param # </span>┃\n",
       "┡━━━━━━━━━━━━━━━━━━━━━━━━━━━━━━━━━╇━━━━━━━━━━━━━━━━━━━━━━━━╇━━━━━━━━━━━━━━━┩\n",
       "│ dense_8 (<span style=\"color: #0087ff; text-decoration-color: #0087ff\">Dense</span>)                 │ (<span style=\"color: #00d7ff; text-decoration-color: #00d7ff\">None</span>, <span style=\"color: #00af00; text-decoration-color: #00af00\">256</span>)            │        <span style=\"color: #00af00; text-decoration-color: #00af00\">48,128</span> │\n",
       "├─────────────────────────────────┼────────────────────────┼───────────────┤\n",
       "│ dense_9 (<span style=\"color: #0087ff; text-decoration-color: #0087ff\">Dense</span>)                 │ (<span style=\"color: #00d7ff; text-decoration-color: #00d7ff\">None</span>, <span style=\"color: #00af00; text-decoration-color: #00af00\">128</span>)            │        <span style=\"color: #00af00; text-decoration-color: #00af00\">32,896</span> │\n",
       "├─────────────────────────────────┼────────────────────────┼───────────────┤\n",
       "│ dense_10 (<span style=\"color: #0087ff; text-decoration-color: #0087ff\">Dense</span>)                │ (<span style=\"color: #00d7ff; text-decoration-color: #00d7ff\">None</span>, <span style=\"color: #00af00; text-decoration-color: #00af00\">64</span>)             │         <span style=\"color: #00af00; text-decoration-color: #00af00\">8,256</span> │\n",
       "├─────────────────────────────────┼────────────────────────┼───────────────┤\n",
       "│ dense_11 (<span style=\"color: #0087ff; text-decoration-color: #0087ff\">Dense</span>)                │ (<span style=\"color: #00d7ff; text-decoration-color: #00d7ff\">None</span>, <span style=\"color: #00af00; text-decoration-color: #00af00\">5</span>)              │           <span style=\"color: #00af00; text-decoration-color: #00af00\">325</span> │\n",
       "└─────────────────────────────────┴────────────────────────┴───────────────┘\n",
       "</pre>\n"
      ],
      "text/plain": [
       "┏━━━━━━━━━━━━━━━━━━━━━━━━━━━━━━━━━┳━━━━━━━━━━━━━━━━━━━━━━━━┳━━━━━━━━━━━━━━━┓\n",
       "┃\u001b[1m \u001b[0m\u001b[1mLayer (type)                   \u001b[0m\u001b[1m \u001b[0m┃\u001b[1m \u001b[0m\u001b[1mOutput Shape          \u001b[0m\u001b[1m \u001b[0m┃\u001b[1m \u001b[0m\u001b[1m      Param #\u001b[0m\u001b[1m \u001b[0m┃\n",
       "┡━━━━━━━━━━━━━━━━━━━━━━━━━━━━━━━━━╇━━━━━━━━━━━━━━━━━━━━━━━━╇━━━━━━━━━━━━━━━┩\n",
       "│ dense_8 (\u001b[38;5;33mDense\u001b[0m)                 │ (\u001b[38;5;45mNone\u001b[0m, \u001b[38;5;34m256\u001b[0m)            │        \u001b[38;5;34m48,128\u001b[0m │\n",
       "├─────────────────────────────────┼────────────────────────┼───────────────┤\n",
       "│ dense_9 (\u001b[38;5;33mDense\u001b[0m)                 │ (\u001b[38;5;45mNone\u001b[0m, \u001b[38;5;34m128\u001b[0m)            │        \u001b[38;5;34m32,896\u001b[0m │\n",
       "├─────────────────────────────────┼────────────────────────┼───────────────┤\n",
       "│ dense_10 (\u001b[38;5;33mDense\u001b[0m)                │ (\u001b[38;5;45mNone\u001b[0m, \u001b[38;5;34m64\u001b[0m)             │         \u001b[38;5;34m8,256\u001b[0m │\n",
       "├─────────────────────────────────┼────────────────────────┼───────────────┤\n",
       "│ dense_11 (\u001b[38;5;33mDense\u001b[0m)                │ (\u001b[38;5;45mNone\u001b[0m, \u001b[38;5;34m5\u001b[0m)              │           \u001b[38;5;34m325\u001b[0m │\n",
       "└─────────────────────────────────┴────────────────────────┴───────────────┘\n"
      ]
     },
     "metadata": {},
     "output_type": "display_data"
    },
    {
     "data": {
      "text/html": [
       "<pre style=\"white-space:pre;overflow-x:auto;line-height:normal;font-family:Menlo,'DejaVu Sans Mono',consolas,'Courier New',monospace\"><span style=\"font-weight: bold\"> Total params: </span><span style=\"color: #00af00; text-decoration-color: #00af00\">89,605</span> (350.02 KB)\n",
       "</pre>\n"
      ],
      "text/plain": [
       "\u001b[1m Total params: \u001b[0m\u001b[38;5;34m89,605\u001b[0m (350.02 KB)\n"
      ]
     },
     "metadata": {},
     "output_type": "display_data"
    },
    {
     "data": {
      "text/html": [
       "<pre style=\"white-space:pre;overflow-x:auto;line-height:normal;font-family:Menlo,'DejaVu Sans Mono',consolas,'Courier New',monospace\"><span style=\"font-weight: bold\"> Trainable params: </span><span style=\"color: #00af00; text-decoration-color: #00af00\">89,605</span> (350.02 KB)\n",
       "</pre>\n"
      ],
      "text/plain": [
       "\u001b[1m Trainable params: \u001b[0m\u001b[38;5;34m89,605\u001b[0m (350.02 KB)\n"
      ]
     },
     "metadata": {},
     "output_type": "display_data"
    },
    {
     "data": {
      "text/html": [
       "<pre style=\"white-space:pre;overflow-x:auto;line-height:normal;font-family:Menlo,'DejaVu Sans Mono',consolas,'Courier New',monospace\"><span style=\"font-weight: bold\"> Non-trainable params: </span><span style=\"color: #00af00; text-decoration-color: #00af00\">0</span> (0.00 B)\n",
       "</pre>\n"
      ],
      "text/plain": [
       "\u001b[1m Non-trainable params: \u001b[0m\u001b[38;5;34m0\u001b[0m (0.00 B)\n"
      ]
     },
     "metadata": {},
     "output_type": "display_data"
    }
   ],
   "source": [
    "model.summary()"
   ]
  },
  {
   "cell_type": "code",
   "execution_count": 118,
   "id": "57a99bf8",
   "metadata": {
    "execution": {
     "iopub.execute_input": "2022-12-18T10:56:11.306603Z",
     "iopub.status.busy": "2022-12-18T10:56:11.306211Z",
     "iopub.status.idle": "2022-12-18T10:56:11.310916Z",
     "shell.execute_reply": "2022-12-18T10:56:11.309570Z"
    },
    "papermill": {
     "duration": 0.021865,
     "end_time": "2022-12-18T10:56:11.313607",
     "exception": false,
     "start_time": "2022-12-18T10:56:11.291742",
     "status": "completed"
    },
    "tags": []
   },
   "outputs": [],
   "source": [
    "##from ann_visualizer.visualize import ann_viz;\n",
    "##ann_viz(model, title=\"ANN Visualized\")"
   ]
  },
  {
   "cell_type": "code",
   "execution_count": 119,
   "id": "7741ad39",
   "metadata": {
    "execution": {
     "iopub.execute_input": "2022-12-18T10:56:11.342139Z",
     "iopub.status.busy": "2022-12-18T10:56:11.341728Z",
     "iopub.status.idle": "2022-12-18T10:59:24.696339Z",
     "shell.execute_reply": "2022-12-18T10:59:24.694902Z"
    },
    "papermill": {
     "duration": 193.372083,
     "end_time": "2022-12-18T10:59:24.699388",
     "exception": false,
     "start_time": "2022-12-18T10:56:11.327305",
     "status": "completed"
    },
    "tags": []
   },
   "outputs": [
    {
     "name": "stdout",
     "output_type": "stream",
     "text": [
      "Epoch 1/50\n",
      "\u001b[1m958/958\u001b[0m \u001b[32m━━━━━━━━━━━━━━━━━━━━\u001b[0m\u001b[37m\u001b[0m \u001b[1m16s\u001b[0m 12ms/step - accuracy: 0.9292 - loss: 0.2523 - val_accuracy: 0.9533 - val_loss: 0.1553\n",
      "Epoch 2/50\n",
      "\u001b[1m958/958\u001b[0m \u001b[32m━━━━━━━━━━━━━━━━━━━━\u001b[0m\u001b[37m\u001b[0m \u001b[1m16s\u001b[0m 12ms/step - accuracy: 0.9292 - loss: 0.2523 - val_accuracy: 0.9533 - val_loss: 0.1553\n",
      "Epoch 2/50\n",
      "\u001b[1m958/958\u001b[0m \u001b[32m━━━━━━━━━━━━━━━━━━━━\u001b[0m\u001b[37m\u001b[0m \u001b[1m11s\u001b[0m 12ms/step - accuracy: 0.9596 - loss: 0.1438 - val_accuracy: 0.9652 - val_loss: 0.1222\n",
      "Epoch 3/50\n",
      "\u001b[1m958/958\u001b[0m \u001b[32m━━━━━━━━━━━━━━━━━━━━\u001b[0m\u001b[37m\u001b[0m \u001b[1m11s\u001b[0m 12ms/step - accuracy: 0.9596 - loss: 0.1438 - val_accuracy: 0.9652 - val_loss: 0.1222\n",
      "Epoch 3/50\n",
      "\u001b[1m958/958\u001b[0m \u001b[32m━━━━━━━━━━━━━━━━━━━━\u001b[0m\u001b[37m\u001b[0m \u001b[1m13s\u001b[0m 13ms/step - accuracy: 0.9668 - loss: 0.1186 - val_accuracy: 0.9661 - val_loss: 0.1161\n",
      "Epoch 4/50\n",
      "\u001b[1m958/958\u001b[0m \u001b[32m━━━━━━━━━━━━━━━━━━━━\u001b[0m\u001b[37m\u001b[0m \u001b[1m13s\u001b[0m 13ms/step - accuracy: 0.9668 - loss: 0.1186 - val_accuracy: 0.9661 - val_loss: 0.1161\n",
      "Epoch 4/50\n",
      "\u001b[1m958/958\u001b[0m \u001b[32m━━━━━━━━━━━━━━━━━━━━\u001b[0m\u001b[37m\u001b[0m \u001b[1m11s\u001b[0m 11ms/step - accuracy: 0.9699 - loss: 0.1050 - val_accuracy: 0.9712 - val_loss: 0.1057\n",
      "\u001b[1m958/958\u001b[0m \u001b[32m━━━━━━━━━━━━━━━━━━━━\u001b[0m\u001b[37m\u001b[0m \u001b[1m11s\u001b[0m 11ms/step - accuracy: 0.9699 - loss: 0.1050 - val_accuracy: 0.9712 - val_loss: 0.1057\n",
      "Epoch 5/50\n",
      "Epoch 5/50\n",
      "\u001b[1m958/958\u001b[0m \u001b[32m━━━━━━━━━━━━━━━━━━━━\u001b[0m\u001b[37m\u001b[0m \u001b[1m12s\u001b[0m 13ms/step - accuracy: 0.9723 - loss: 0.0950 - val_accuracy: 0.9698 - val_loss: 0.1093\n",
      "Epoch 6/50\n",
      "\u001b[1m958/958\u001b[0m \u001b[32m━━━━━━━━━━━━━━━━━━━━\u001b[0m\u001b[37m\u001b[0m \u001b[1m12s\u001b[0m 13ms/step - accuracy: 0.9723 - loss: 0.0950 - val_accuracy: 0.9698 - val_loss: 0.1093\n",
      "Epoch 6/50\n",
      "\u001b[1m958/958\u001b[0m \u001b[32m━━━━━━━━━━━━━━━━━━━━\u001b[0m\u001b[37m\u001b[0m \u001b[1m11s\u001b[0m 11ms/step - accuracy: 0.9741 - loss: 0.0882 - val_accuracy: 0.9721 - val_loss: 0.0975\n",
      "\u001b[1m958/958\u001b[0m \u001b[32m━━━━━━━━━━━━━━━━━━━━\u001b[0m\u001b[37m\u001b[0m \u001b[1m11s\u001b[0m 11ms/step - accuracy: 0.9741 - loss: 0.0882 - val_accuracy: 0.9721 - val_loss: 0.0975\n",
      "Epoch 7/50\n",
      "Epoch 7/50\n",
      "\u001b[1m958/958\u001b[0m \u001b[32m━━━━━━━━━━━━━━━━━━━━\u001b[0m\u001b[37m\u001b[0m \u001b[1m14s\u001b[0m 15ms/step - accuracy: 0.9759 - loss: 0.0801 - val_accuracy: 0.9724 - val_loss: 0.1016\n",
      "Epoch 8/50\n",
      "\u001b[1m958/958\u001b[0m \u001b[32m━━━━━━━━━━━━━━━━━━━━\u001b[0m\u001b[37m\u001b[0m \u001b[1m14s\u001b[0m 15ms/step - accuracy: 0.9759 - loss: 0.0801 - val_accuracy: 0.9724 - val_loss: 0.1016\n",
      "Epoch 8/50\n",
      "\u001b[1m958/958\u001b[0m \u001b[32m━━━━━━━━━━━━━━━━━━━━\u001b[0m\u001b[37m\u001b[0m \u001b[1m13s\u001b[0m 14ms/step - accuracy: 0.9769 - loss: 0.0762 - val_accuracy: 0.9748 - val_loss: 0.0888\n",
      "Epoch 9/50\n",
      "\u001b[1m958/958\u001b[0m \u001b[32m━━━━━━━━━━━━━━━━━━━━\u001b[0m\u001b[37m\u001b[0m \u001b[1m13s\u001b[0m 14ms/step - accuracy: 0.9769 - loss: 0.0762 - val_accuracy: 0.9748 - val_loss: 0.0888\n",
      "Epoch 9/50\n",
      "\u001b[1m958/958\u001b[0m \u001b[32m━━━━━━━━━━━━━━━━━━━━\u001b[0m\u001b[37m\u001b[0m \u001b[1m13s\u001b[0m 13ms/step - accuracy: 0.9786 - loss: 0.0701 - val_accuracy: 0.9762 - val_loss: 0.0848\n",
      "Epoch 10/50\n",
      "\u001b[1m958/958\u001b[0m \u001b[32m━━━━━━━━━━━━━━━━━━━━\u001b[0m\u001b[37m\u001b[0m \u001b[1m13s\u001b[0m 13ms/step - accuracy: 0.9786 - loss: 0.0701 - val_accuracy: 0.9762 - val_loss: 0.0848\n",
      "Epoch 10/50\n",
      "\u001b[1m958/958\u001b[0m \u001b[32m━━━━━━━━━━━━━━━━━━━━\u001b[0m\u001b[37m\u001b[0m \u001b[1m8s\u001b[0m 9ms/step - accuracy: 0.9802 - loss: 0.0659 - val_accuracy: 0.9776 - val_loss: 0.0781\n",
      "Epoch 11/50\n",
      "\u001b[1m958/958\u001b[0m \u001b[32m━━━━━━━━━━━━━━━━━━━━\u001b[0m\u001b[37m\u001b[0m \u001b[1m8s\u001b[0m 9ms/step - accuracy: 0.9802 - loss: 0.0659 - val_accuracy: 0.9776 - val_loss: 0.0781\n",
      "Epoch 11/50\n",
      "\u001b[1m958/958\u001b[0m \u001b[32m━━━━━━━━━━━━━━━━━━━━\u001b[0m\u001b[37m\u001b[0m \u001b[1m7s\u001b[0m 8ms/step - accuracy: 0.9807 - loss: 0.0615 - val_accuracy: 0.9722 - val_loss: 0.1090\n",
      "Epoch 12/50\n",
      "\u001b[1m958/958\u001b[0m \u001b[32m━━━━━━━━━━━━━━━━━━━━\u001b[0m\u001b[37m\u001b[0m \u001b[1m7s\u001b[0m 8ms/step - accuracy: 0.9807 - loss: 0.0615 - val_accuracy: 0.9722 - val_loss: 0.1090\n",
      "Epoch 12/50\n",
      "\u001b[1m958/958\u001b[0m \u001b[32m━━━━━━━━━━━━━━━━━━━━\u001b[0m\u001b[37m\u001b[0m \u001b[1m8s\u001b[0m 8ms/step - accuracy: 0.9810 - loss: 0.0594 - val_accuracy: 0.9769 - val_loss: 0.0853\n",
      "Epoch 13/50\n",
      "\u001b[1m958/958\u001b[0m \u001b[32m━━━━━━━━━━━━━━━━━━━━\u001b[0m\u001b[37m\u001b[0m \u001b[1m8s\u001b[0m 8ms/step - accuracy: 0.9810 - loss: 0.0594 - val_accuracy: 0.9769 - val_loss: 0.0853\n",
      "Epoch 13/50\n",
      "\u001b[1m958/958\u001b[0m \u001b[32m━━━━━━━━━━━━━━━━━━━━\u001b[0m\u001b[37m\u001b[0m \u001b[1m8s\u001b[0m 8ms/step - accuracy: 0.9816 - loss: 0.0565 - val_accuracy: 0.9769 - val_loss: 0.0842\n",
      "Epoch 14/50\n",
      "\u001b[1m958/958\u001b[0m \u001b[32m━━━━━━━━━━━━━━━━━━━━\u001b[0m\u001b[37m\u001b[0m \u001b[1m8s\u001b[0m 8ms/step - accuracy: 0.9816 - loss: 0.0565 - val_accuracy: 0.9769 - val_loss: 0.0842\n",
      "Epoch 14/50\n",
      "\u001b[1m958/958\u001b[0m \u001b[32m━━━━━━━━━━━━━━━━━━━━\u001b[0m\u001b[37m\u001b[0m \u001b[1m7s\u001b[0m 8ms/step - accuracy: 0.9833 - loss: 0.0515 - val_accuracy: 0.9804 - val_loss: 0.0768\n",
      "Epoch 15/50\n",
      "\u001b[1m958/958\u001b[0m \u001b[32m━━━━━━━━━━━━━━━━━━━━\u001b[0m\u001b[37m\u001b[0m \u001b[1m7s\u001b[0m 8ms/step - accuracy: 0.9833 - loss: 0.0515 - val_accuracy: 0.9804 - val_loss: 0.0768\n",
      "Epoch 15/50\n",
      "\u001b[1m958/958\u001b[0m \u001b[32m━━━━━━━━━━━━━━━━━━━━\u001b[0m\u001b[37m\u001b[0m \u001b[1m7s\u001b[0m 8ms/step - accuracy: 0.9843 - loss: 0.0492 - val_accuracy: 0.9791 - val_loss: 0.0808\n",
      "Epoch 16/50\n",
      "\u001b[1m958/958\u001b[0m \u001b[32m━━━━━━━━━━━━━━━━━━━━\u001b[0m\u001b[37m\u001b[0m \u001b[1m7s\u001b[0m 8ms/step - accuracy: 0.9843 - loss: 0.0492 - val_accuracy: 0.9791 - val_loss: 0.0808\n",
      "Epoch 16/50\n",
      "\u001b[1m958/958\u001b[0m \u001b[32m━━━━━━━━━━━━━━━━━━━━\u001b[0m\u001b[37m\u001b[0m \u001b[1m8s\u001b[0m 8ms/step - accuracy: 0.9843 - loss: 0.0484 - val_accuracy: 0.9774 - val_loss: 0.0845\n",
      "Epoch 17/50\n",
      "\u001b[1m958/958\u001b[0m \u001b[32m━━━━━━━━━━━━━━━━━━━━\u001b[0m\u001b[37m\u001b[0m \u001b[1m8s\u001b[0m 8ms/step - accuracy: 0.9843 - loss: 0.0484 - val_accuracy: 0.9774 - val_loss: 0.0845\n",
      "Epoch 17/50\n",
      "\u001b[1m958/958\u001b[0m \u001b[32m━━━━━━━━━━━━━━━━━━━━\u001b[0m\u001b[37m\u001b[0m \u001b[1m8s\u001b[0m 8ms/step - accuracy: 0.9849 - loss: 0.0467 - val_accuracy: 0.9739 - val_loss: 0.0980\n",
      "Epoch 18/50\n",
      "\u001b[1m958/958\u001b[0m \u001b[32m━━━━━━━━━━━━━━━━━━━━\u001b[0m\u001b[37m\u001b[0m \u001b[1m8s\u001b[0m 8ms/step - accuracy: 0.9849 - loss: 0.0467 - val_accuracy: 0.9739 - val_loss: 0.0980\n",
      "Epoch 18/50\n",
      "\u001b[1m958/958\u001b[0m \u001b[32m━━━━━━━━━━━━━━━━━━━━\u001b[0m\u001b[37m\u001b[0m \u001b[1m8s\u001b[0m 8ms/step - accuracy: 0.9861 - loss: 0.0424 - val_accuracy: 0.9787 - val_loss: 0.0834\n",
      "Epoch 19/50\n",
      "\u001b[1m958/958\u001b[0m \u001b[32m━━━━━━━━━━━━━━━━━━━━\u001b[0m\u001b[37m\u001b[0m \u001b[1m8s\u001b[0m 8ms/step - accuracy: 0.9861 - loss: 0.0424 - val_accuracy: 0.9787 - val_loss: 0.0834\n",
      "Epoch 19/50\n",
      "\u001b[1m958/958\u001b[0m \u001b[32m━━━━━━━━━━━━━━━━━━━━\u001b[0m\u001b[37m\u001b[0m \u001b[1m8s\u001b[0m 8ms/step - accuracy: 0.9873 - loss: 0.0400 - val_accuracy: 0.9795 - val_loss: 0.0867\n",
      "\u001b[1m958/958\u001b[0m \u001b[32m━━━━━━━━━━━━━━━━━━━━\u001b[0m\u001b[37m\u001b[0m \u001b[1m8s\u001b[0m 8ms/step - accuracy: 0.9873 - loss: 0.0400 - val_accuracy: 0.9795 - val_loss: 0.0867\n",
      "Epoch 20/50\n",
      "Epoch 20/50\n",
      "\u001b[1m958/958\u001b[0m \u001b[32m━━━━━━━━━━━━━━━━━━━━\u001b[0m\u001b[37m\u001b[0m \u001b[1m7s\u001b[0m 8ms/step - accuracy: 0.9864 - loss: 0.0398 - val_accuracy: 0.9757 - val_loss: 0.0989\n",
      "\u001b[1m958/958\u001b[0m \u001b[32m━━━━━━━━━━━━━━━━━━━━\u001b[0m\u001b[37m\u001b[0m \u001b[1m7s\u001b[0m 8ms/step - accuracy: 0.9864 - loss: 0.0398 - val_accuracy: 0.9757 - val_loss: 0.0989\n",
      "Epoch 21/50\n",
      "Epoch 21/50\n",
      "\u001b[1m958/958\u001b[0m \u001b[32m━━━━━━━━━━━━━━━━━━━━\u001b[0m\u001b[37m\u001b[0m \u001b[1m8s\u001b[0m 8ms/step - accuracy: 0.9876 - loss: 0.0378 - val_accuracy: 0.9799 - val_loss: 0.0823\n",
      "Epoch 22/50\n",
      "\u001b[1m958/958\u001b[0m \u001b[32m━━━━━━━━━━━━━━━━━━━━\u001b[0m\u001b[37m\u001b[0m \u001b[1m8s\u001b[0m 8ms/step - accuracy: 0.9876 - loss: 0.0378 - val_accuracy: 0.9799 - val_loss: 0.0823\n",
      "Epoch 22/50\n",
      "\u001b[1m958/958\u001b[0m \u001b[32m━━━━━━━━━━━━━━━━━━━━\u001b[0m\u001b[37m\u001b[0m \u001b[1m10s\u001b[0m 10ms/step - accuracy: 0.9885 - loss: 0.0351 - val_accuracy: 0.9804 - val_loss: 0.0869\n",
      "\u001b[1m958/958\u001b[0m \u001b[32m━━━━━━━━━━━━━━━━━━━━\u001b[0m\u001b[37m\u001b[0m \u001b[1m10s\u001b[0m 10ms/step - accuracy: 0.9885 - loss: 0.0351 - val_accuracy: 0.9804 - val_loss: 0.0869\n",
      "Epoch 23/50\n",
      "Epoch 23/50\n",
      "\u001b[1m958/958\u001b[0m \u001b[32m━━━━━━━━━━━━━━━━━━━━\u001b[0m\u001b[37m\u001b[0m \u001b[1m18s\u001b[0m 18ms/step - accuracy: 0.9893 - loss: 0.0325 - val_accuracy: 0.9776 - val_loss: 0.1016\n",
      "Epoch 24/50\n",
      "\u001b[1m958/958\u001b[0m \u001b[32m━━━━━━━━━━━━━━━━━━━━\u001b[0m\u001b[37m\u001b[0m \u001b[1m18s\u001b[0m 18ms/step - accuracy: 0.9893 - loss: 0.0325 - val_accuracy: 0.9776 - val_loss: 0.1016\n",
      "Epoch 24/50\n",
      "\u001b[1m958/958\u001b[0m \u001b[32m━━━━━━━━━━━━━━━━━━━━\u001b[0m\u001b[37m\u001b[0m \u001b[1m11s\u001b[0m 11ms/step - accuracy: 0.9886 - loss: 0.0339 - val_accuracy: 0.9769 - val_loss: 0.1034\n",
      "Epoch 25/50\n",
      "\u001b[1m958/958\u001b[0m \u001b[32m━━━━━━━━━━━━━━━━━━━━\u001b[0m\u001b[37m\u001b[0m \u001b[1m11s\u001b[0m 11ms/step - accuracy: 0.9886 - loss: 0.0339 - val_accuracy: 0.9769 - val_loss: 0.1034\n",
      "Epoch 25/50\n",
      "\u001b[1m958/958\u001b[0m \u001b[32m━━━━━━━━━━━━━━━━━━━━\u001b[0m\u001b[37m\u001b[0m \u001b[1m8s\u001b[0m 9ms/step - accuracy: 0.9893 - loss: 0.0328 - val_accuracy: 0.9784 - val_loss: 0.0921\n",
      "Epoch 26/50\n",
      "\u001b[1m958/958\u001b[0m \u001b[32m━━━━━━━━━━━━━━━━━━━━\u001b[0m\u001b[37m\u001b[0m \u001b[1m8s\u001b[0m 9ms/step - accuracy: 0.9893 - loss: 0.0328 - val_accuracy: 0.9784 - val_loss: 0.0921\n",
      "Epoch 26/50\n",
      "\u001b[1m958/958\u001b[0m \u001b[32m━━━━━━━━━━━━━━━━━━━━\u001b[0m\u001b[37m\u001b[0m \u001b[1m10s\u001b[0m 10ms/step - accuracy: 0.9895 - loss: 0.0315 - val_accuracy: 0.9802 - val_loss: 0.0907\n",
      "Epoch 27/50\n",
      "\u001b[1m958/958\u001b[0m \u001b[32m━━━━━━━━━━━━━━━━━━━━\u001b[0m\u001b[37m\u001b[0m \u001b[1m10s\u001b[0m 10ms/step - accuracy: 0.9895 - loss: 0.0315 - val_accuracy: 0.9802 - val_loss: 0.0907\n",
      "Epoch 27/50\n",
      "\u001b[1m958/958\u001b[0m \u001b[32m━━━━━━━━━━━━━━━━━━━━\u001b[0m\u001b[37m\u001b[0m \u001b[1m10s\u001b[0m 10ms/step - accuracy: 0.9903 - loss: 0.0292 - val_accuracy: 0.9789 - val_loss: 0.0942\n",
      "Epoch 28/50\n",
      "\u001b[1m958/958\u001b[0m \u001b[32m━━━━━━━━━━━━━━━━━━━━\u001b[0m\u001b[37m\u001b[0m \u001b[1m10s\u001b[0m 10ms/step - accuracy: 0.9903 - loss: 0.0292 - val_accuracy: 0.9789 - val_loss: 0.0942\n",
      "Epoch 28/50\n",
      "\u001b[1m958/958\u001b[0m \u001b[32m━━━━━━━━━━━━━━━━━━━━\u001b[0m\u001b[37m\u001b[0m \u001b[1m10s\u001b[0m 11ms/step - accuracy: 0.9895 - loss: 0.0301 - val_accuracy: 0.9783 - val_loss: 0.1040\n",
      "Epoch 29/50\n",
      "\u001b[1m958/958\u001b[0m \u001b[32m━━━━━━━━━━━━━━━━━━━━\u001b[0m\u001b[37m\u001b[0m \u001b[1m10s\u001b[0m 11ms/step - accuracy: 0.9895 - loss: 0.0301 - val_accuracy: 0.9783 - val_loss: 0.1040\n",
      "Epoch 29/50\n",
      "\u001b[1m958/958\u001b[0m \u001b[32m━━━━━━━━━━━━━━━━━━━━\u001b[0m\u001b[37m\u001b[0m \u001b[1m9s\u001b[0m 9ms/step - accuracy: 0.9913 - loss: 0.0256 - val_accuracy: 0.9811 - val_loss: 0.0878\n",
      "Epoch 30/50\n",
      "\u001b[1m958/958\u001b[0m \u001b[32m━━━━━━━━━━━━━━━━━━━━\u001b[0m\u001b[37m\u001b[0m \u001b[1m9s\u001b[0m 9ms/step - accuracy: 0.9913 - loss: 0.0256 - val_accuracy: 0.9811 - val_loss: 0.0878\n",
      "Epoch 30/50\n",
      "\u001b[1m958/958\u001b[0m \u001b[32m━━━━━━━━━━━━━━━━━━━━\u001b[0m\u001b[37m\u001b[0m \u001b[1m10s\u001b[0m 10ms/step - accuracy: 0.9901 - loss: 0.0286 - val_accuracy: 0.9796 - val_loss: 0.0984\n",
      "Epoch 31/50\n",
      "\u001b[1m958/958\u001b[0m \u001b[32m━━━━━━━━━━━━━━━━━━━━\u001b[0m\u001b[37m\u001b[0m \u001b[1m10s\u001b[0m 10ms/step - accuracy: 0.9901 - loss: 0.0286 - val_accuracy: 0.9796 - val_loss: 0.0984\n",
      "Epoch 31/50\n",
      "\u001b[1m958/958\u001b[0m \u001b[32m━━━━━━━━━━━━━━━━━━━━\u001b[0m\u001b[37m\u001b[0m \u001b[1m10s\u001b[0m 10ms/step - accuracy: 0.9910 - loss: 0.0266 - val_accuracy: 0.9807 - val_loss: 0.1001\n",
      "Epoch 32/50\n",
      "\u001b[1m958/958\u001b[0m \u001b[32m━━━━━━━━━━━━━━━━━━━━\u001b[0m\u001b[37m\u001b[0m \u001b[1m10s\u001b[0m 10ms/step - accuracy: 0.9910 - loss: 0.0266 - val_accuracy: 0.9807 - val_loss: 0.1001\n",
      "Epoch 32/50\n",
      "\u001b[1m958/958\u001b[0m \u001b[32m━━━━━━━━━━━━━━━━━━━━\u001b[0m\u001b[37m\u001b[0m \u001b[1m9s\u001b[0m 9ms/step - accuracy: 0.9915 - loss: 0.0244 - val_accuracy: 0.9785 - val_loss: 0.1054\n",
      "\u001b[1m958/958\u001b[0m \u001b[32m━━━━━━━━━━━━━━━━━━━━\u001b[0m\u001b[37m\u001b[0m \u001b[1m9s\u001b[0m 9ms/step - accuracy: 0.9915 - loss: 0.0244 - val_accuracy: 0.9785 - val_loss: 0.1054\n",
      "Epoch 33/50\n",
      "Epoch 33/50\n",
      "\u001b[1m958/958\u001b[0m \u001b[32m━━━━━━━━━━━━━━━━━━━━\u001b[0m\u001b[37m\u001b[0m \u001b[1m9s\u001b[0m 10ms/step - accuracy: 0.9912 - loss: 0.0261 - val_accuracy: 0.9791 - val_loss: 0.1124\n",
      "Epoch 34/50\n",
      "\u001b[1m958/958\u001b[0m \u001b[32m━━━━━━━━━━━━━━━━━━━━\u001b[0m\u001b[37m\u001b[0m \u001b[1m9s\u001b[0m 10ms/step - accuracy: 0.9912 - loss: 0.0261 - val_accuracy: 0.9791 - val_loss: 0.1124\n",
      "Epoch 34/50\n",
      "\u001b[1m958/958\u001b[0m \u001b[32m━━━━━━━━━━━━━━━━━━━━\u001b[0m\u001b[37m\u001b[0m \u001b[1m9s\u001b[0m 9ms/step - accuracy: 0.9919 - loss: 0.0229 - val_accuracy: 0.9798 - val_loss: 0.1077\n",
      "Epoch 35/50\n",
      "\u001b[1m958/958\u001b[0m \u001b[32m━━━━━━━━━━━━━━━━━━━━\u001b[0m\u001b[37m\u001b[0m \u001b[1m9s\u001b[0m 9ms/step - accuracy: 0.9919 - loss: 0.0229 - val_accuracy: 0.9798 - val_loss: 0.1077\n",
      "Epoch 35/50\n",
      "\u001b[1m958/958\u001b[0m \u001b[32m━━━━━━━━━━━━━━━━━━━━\u001b[0m\u001b[37m\u001b[0m \u001b[1m9s\u001b[0m 9ms/step - accuracy: 0.9918 - loss: 0.0239 - val_accuracy: 0.9815 - val_loss: 0.1003\n",
      "Epoch 36/50\n",
      "\u001b[1m958/958\u001b[0m \u001b[32m━━━━━━━━━━━━━━━━━━━━\u001b[0m\u001b[37m\u001b[0m \u001b[1m9s\u001b[0m 9ms/step - accuracy: 0.9918 - loss: 0.0239 - val_accuracy: 0.9815 - val_loss: 0.1003\n",
      "Epoch 36/50\n",
      "\u001b[1m958/958\u001b[0m \u001b[32m━━━━━━━━━━━━━━━━━━━━\u001b[0m\u001b[37m\u001b[0m \u001b[1m9s\u001b[0m 9ms/step - accuracy: 0.9929 - loss: 0.0213 - val_accuracy: 0.9803 - val_loss: 0.0998\n",
      "Epoch 37/50\n",
      "\u001b[1m958/958\u001b[0m \u001b[32m━━━━━━━━━━━━━━━━━━━━\u001b[0m\u001b[37m\u001b[0m \u001b[1m9s\u001b[0m 9ms/step - accuracy: 0.9929 - loss: 0.0213 - val_accuracy: 0.9803 - val_loss: 0.0998\n",
      "Epoch 37/50\n",
      "\u001b[1m958/958\u001b[0m \u001b[32m━━━━━━━━━━━━━━━━━━━━\u001b[0m\u001b[37m\u001b[0m \u001b[1m9s\u001b[0m 10ms/step - accuracy: 0.9929 - loss: 0.0208 - val_accuracy: 0.9778 - val_loss: 0.1164\n",
      "Epoch 38/50\n",
      "\u001b[1m958/958\u001b[0m \u001b[32m━━━━━━━━━━━━━━━━━━━━\u001b[0m\u001b[37m\u001b[0m \u001b[1m9s\u001b[0m 10ms/step - accuracy: 0.9929 - loss: 0.0208 - val_accuracy: 0.9778 - val_loss: 0.1164\n",
      "Epoch 38/50\n",
      "\u001b[1m958/958\u001b[0m \u001b[32m━━━━━━━━━━━━━━━━━━━━\u001b[0m\u001b[37m\u001b[0m \u001b[1m9s\u001b[0m 9ms/step - accuracy: 0.9922 - loss: 0.0244 - val_accuracy: 0.9803 - val_loss: 0.1103\n",
      "Epoch 39/50\n",
      "\u001b[1m958/958\u001b[0m \u001b[32m━━━━━━━━━━━━━━━━━━━━\u001b[0m\u001b[37m\u001b[0m \u001b[1m9s\u001b[0m 9ms/step - accuracy: 0.9922 - loss: 0.0244 - val_accuracy: 0.9803 - val_loss: 0.1103\n",
      "Epoch 39/50\n",
      "\u001b[1m958/958\u001b[0m \u001b[32m━━━━━━━━━━━━━━━━━━━━\u001b[0m\u001b[37m\u001b[0m \u001b[1m8s\u001b[0m 9ms/step - accuracy: 0.9916 - loss: 0.0243 - val_accuracy: 0.9809 - val_loss: 0.1117\n",
      "\u001b[1m958/958\u001b[0m \u001b[32m━━━━━━━━━━━━━━━━━━━━\u001b[0m\u001b[37m\u001b[0m \u001b[1m8s\u001b[0m 9ms/step - accuracy: 0.9916 - loss: 0.0243 - val_accuracy: 0.9809 - val_loss: 0.1117\n",
      "Epoch 40/50\n",
      "Epoch 40/50\n",
      "\u001b[1m958/958\u001b[0m \u001b[32m━━━━━━━━━━━━━━━━━━━━\u001b[0m\u001b[37m\u001b[0m \u001b[1m8s\u001b[0m 9ms/step - accuracy: 0.9931 - loss: 0.0194 - val_accuracy: 0.9800 - val_loss: 0.1130\n",
      "Epoch 41/50\n",
      "\u001b[1m958/958\u001b[0m \u001b[32m━━━━━━━━━━━━━━━━━━━━\u001b[0m\u001b[37m\u001b[0m \u001b[1m8s\u001b[0m 9ms/step - accuracy: 0.9931 - loss: 0.0194 - val_accuracy: 0.9800 - val_loss: 0.1130\n",
      "Epoch 41/50\n",
      "\u001b[1m958/958\u001b[0m \u001b[32m━━━━━━━━━━━━━━━━━━━━\u001b[0m\u001b[37m\u001b[0m \u001b[1m11s\u001b[0m 12ms/step - accuracy: 0.9932 - loss: 0.0195 - val_accuracy: 0.9805 - val_loss: 0.1159\n",
      "Epoch 42/50\n",
      "\u001b[1m958/958\u001b[0m \u001b[32m━━━━━━━━━━━━━━━━━━━━\u001b[0m\u001b[37m\u001b[0m \u001b[1m11s\u001b[0m 12ms/step - accuracy: 0.9932 - loss: 0.0195 - val_accuracy: 0.9805 - val_loss: 0.1159\n",
      "Epoch 42/50\n",
      "\u001b[1m958/958\u001b[0m \u001b[32m━━━━━━━━━━━━━━━━━━━━\u001b[0m\u001b[37m\u001b[0m \u001b[1m14s\u001b[0m 14ms/step - accuracy: 0.9936 - loss: 0.0199 - val_accuracy: 0.9800 - val_loss: 0.1105\n",
      "\u001b[1m958/958\u001b[0m \u001b[32m━━━━━━━━━━━━━━━━━━━━\u001b[0m\u001b[37m\u001b[0m \u001b[1m14s\u001b[0m 14ms/step - accuracy: 0.9936 - loss: 0.0199 - val_accuracy: 0.9800 - val_loss: 0.1105\n",
      "Epoch 43/50\n",
      "Epoch 43/50\n",
      "\u001b[1m958/958\u001b[0m \u001b[32m━━━━━━━━━━━━━━━━━━━━\u001b[0m\u001b[37m\u001b[0m \u001b[1m24s\u001b[0m 25ms/step - accuracy: 0.9930 - loss: 0.0198 - val_accuracy: 0.9803 - val_loss: 0.1174\n",
      "Epoch 44/50\n",
      "\u001b[1m958/958\u001b[0m \u001b[32m━━━━━━━━━━━━━━━━━━━━\u001b[0m\u001b[37m\u001b[0m \u001b[1m24s\u001b[0m 25ms/step - accuracy: 0.9930 - loss: 0.0198 - val_accuracy: 0.9803 - val_loss: 0.1174\n",
      "Epoch 44/50\n",
      "\u001b[1m958/958\u001b[0m \u001b[32m━━━━━━━━━━━━━━━━━━━━\u001b[0m\u001b[37m\u001b[0m \u001b[1m15s\u001b[0m 15ms/step - accuracy: 0.9934 - loss: 0.0194 - val_accuracy: 0.9782 - val_loss: 0.1380\n",
      "Epoch 45/50\n",
      "\u001b[1m958/958\u001b[0m \u001b[32m━━━━━━━━━━━━━━━━━━━━\u001b[0m\u001b[37m\u001b[0m \u001b[1m15s\u001b[0m 15ms/step - accuracy: 0.9934 - loss: 0.0194 - val_accuracy: 0.9782 - val_loss: 0.1380\n",
      "Epoch 45/50\n",
      "\u001b[1m958/958\u001b[0m \u001b[32m━━━━━━━━━━━━━━━━━━━━\u001b[0m\u001b[37m\u001b[0m \u001b[1m13s\u001b[0m 13ms/step - accuracy: 0.9935 - loss: 0.0183 - val_accuracy: 0.9820 - val_loss: 0.1137\n",
      "Epoch 46/50\n",
      "\u001b[1m958/958\u001b[0m \u001b[32m━━━━━━━━━━━━━━━━━━━━\u001b[0m\u001b[37m\u001b[0m \u001b[1m13s\u001b[0m 13ms/step - accuracy: 0.9935 - loss: 0.0183 - val_accuracy: 0.9820 - val_loss: 0.1137\n",
      "Epoch 46/50\n",
      "\u001b[1m958/958\u001b[0m \u001b[32m━━━━━━━━━━━━━━━━━━━━\u001b[0m\u001b[37m\u001b[0m \u001b[1m8s\u001b[0m 9ms/step - accuracy: 0.9937 - loss: 0.0180 - val_accuracy: 0.9791 - val_loss: 0.1196\n",
      "Epoch 47/50\n",
      "\u001b[1m958/958\u001b[0m \u001b[32m━━━━━━━━━━━━━━━━━━━━\u001b[0m\u001b[37m\u001b[0m \u001b[1m8s\u001b[0m 9ms/step - accuracy: 0.9937 - loss: 0.0180 - val_accuracy: 0.9791 - val_loss: 0.1196\n",
      "Epoch 47/50\n",
      "\u001b[1m958/958\u001b[0m \u001b[32m━━━━━━━━━━━━━━━━━━━━\u001b[0m\u001b[37m\u001b[0m \u001b[1m9s\u001b[0m 10ms/step - accuracy: 0.9936 - loss: 0.0179 - val_accuracy: 0.9804 - val_loss: 0.1248\n",
      "\u001b[1m958/958\u001b[0m \u001b[32m━━━━━━━━━━━━━━━━━━━━\u001b[0m\u001b[37m\u001b[0m \u001b[1m9s\u001b[0m 10ms/step - accuracy: 0.9936 - loss: 0.0179 - val_accuracy: 0.9804 - val_loss: 0.1248\n",
      "Epoch 48/50\n",
      "Epoch 48/50\n",
      "\u001b[1m958/958\u001b[0m \u001b[32m━━━━━━━━━━━━━━━━━━━━\u001b[0m\u001b[37m\u001b[0m \u001b[1m9s\u001b[0m 9ms/step - accuracy: 0.9935 - loss: 0.0185 - val_accuracy: 0.9807 - val_loss: 0.1168\n",
      "Epoch 49/50\n",
      "\u001b[1m958/958\u001b[0m \u001b[32m━━━━━━━━━━━━━━━━━━━━\u001b[0m\u001b[37m\u001b[0m \u001b[1m9s\u001b[0m 9ms/step - accuracy: 0.9935 - loss: 0.0185 - val_accuracy: 0.9807 - val_loss: 0.1168\n",
      "Epoch 49/50\n",
      "\u001b[1m958/958\u001b[0m \u001b[32m━━━━━━━━━━━━━━━━━━━━\u001b[0m\u001b[37m\u001b[0m \u001b[1m9s\u001b[0m 9ms/step - accuracy: 0.9944 - loss: 0.0159 - val_accuracy: 0.9799 - val_loss: 0.1183\n",
      "Epoch 50/50\n",
      "\u001b[1m958/958\u001b[0m \u001b[32m━━━━━━━━━━━━━━━━━━━━\u001b[0m\u001b[37m\u001b[0m \u001b[1m9s\u001b[0m 9ms/step - accuracy: 0.9944 - loss: 0.0159 - val_accuracy: 0.9799 - val_loss: 0.1183\n",
      "Epoch 50/50\n",
      "\u001b[1m958/958\u001b[0m \u001b[32m━━━━━━━━━━━━━━━━━━━━\u001b[0m\u001b[37m\u001b[0m \u001b[1m9s\u001b[0m 9ms/step - accuracy: 0.9944 - loss: 0.0170 - val_accuracy: 0.9809 - val_loss: 0.1164\n",
      "\u001b[1m958/958\u001b[0m \u001b[32m━━━━━━━━━━━━━━━━━━━━\u001b[0m\u001b[37m\u001b[0m \u001b[1m9s\u001b[0m 9ms/step - accuracy: 0.9944 - loss: 0.0170 - val_accuracy: 0.9809 - val_loss: 0.1164\n"
     ]
    }
   ],
   "source": [
    "history=model.fit(X_train,y_train,epochs=50,validation_split=0.2,batch_size=64)"
   ]
  },
  {
   "cell_type": "code",
   "execution_count": 120,
   "id": "cd7cc276",
   "metadata": {},
   "outputs": [
    {
     "name": "stderr",
     "output_type": "stream",
     "text": [
      "WARNING:absl:You are saving your model as an HDF5 file via `model.save()` or `keras.saving.save_model(model)`. This file format is considered legacy. We recommend using instead the native Keras format, e.g. `model.save('my_model.keras')` or `keras.saving.save_model(model, 'my_model.keras')`. \n"
     ]
    },
    {
     "name": "stdout",
     "output_type": "stream",
     "text": [
      "Saved new best ANN model with val_accuracy: 0.9820\n"
     ]
    }
   ],
   "source": [
    "# Save only the ANN model with the highest validation accuracy\n",
    "best_val_acc = max(history.history['val_accuracy'])\n",
    "if not 'ann_best_acc' in globals() or best_val_acc > ann_best_acc:\n",
    "    ann_best_acc = best_val_acc\n",
    "    model.save('ecg_ann_best.h5')\n",
    "    print(f\"Saved new best ANN model with val_accuracy: {ann_best_acc:.4f}\")"
   ]
  },
  {
   "cell_type": "code",
   "execution_count": 121,
   "id": "66c2035e",
   "metadata": {
    "execution": {
     "iopub.execute_input": "2022-12-18T10:59:25.089835Z",
     "iopub.status.busy": "2022-12-18T10:59:25.088790Z",
     "iopub.status.idle": "2022-12-18T10:59:26.823963Z",
     "shell.execute_reply": "2022-12-18T10:59:26.822891Z"
    },
    "papermill": {
     "duration": 1.931558,
     "end_time": "2022-12-18T10:59:26.826495",
     "exception": false,
     "start_time": "2022-12-18T10:59:24.894937",
     "status": "completed"
    },
    "tags": []
   },
   "outputs": [
    {
     "name": "stdout",
     "output_type": "stream",
     "text": [
      "\u001b[1m1027/1027\u001b[0m \u001b[32m━━━━━━━━━━━━━━━━━━━━\u001b[0m\u001b[37m\u001b[0m \u001b[1m5s\u001b[0m 5ms/step\n",
      "\u001b[1m1027/1027\u001b[0m \u001b[32m━━━━━━━━━━━━━━━━━━━━\u001b[0m\u001b[37m\u001b[0m \u001b[1m5s\u001b[0m 5ms/step\n"
     ]
    }
   ],
   "source": [
    "y_=model.predict(X_test)\n",
    "y_pred=np.argmax(y_,axis=1)"
   ]
  },
  {
   "cell_type": "code",
   "execution_count": 122,
   "id": "eb7bd150",
   "metadata": {
    "execution": {
     "iopub.execute_input": "2022-12-18T10:59:27.210664Z",
     "iopub.status.busy": "2022-12-18T10:59:27.210296Z",
     "iopub.status.idle": "2022-12-18T10:59:27.217374Z",
     "shell.execute_reply": "2022-12-18T10:59:27.215900Z"
    },
    "papermill": {
     "duration": 0.202313,
     "end_time": "2022-12-18T10:59:27.219187",
     "exception": false,
     "start_time": "2022-12-18T10:59:27.016874",
     "status": "completed"
    },
    "tags": []
   },
   "outputs": [
    {
     "data": {
      "text/plain": [
       "array([0, 4, 0, ..., 0, 0, 0])"
      ]
     },
     "execution_count": 122,
     "metadata": {},
     "output_type": "execute_result"
    }
   ],
   "source": [
    "y_pred"
   ]
  },
  {
   "cell_type": "code",
   "execution_count": 123,
   "id": "6b516ce2",
   "metadata": {
    "execution": {
     "iopub.execute_input": "2022-12-18T10:59:27.603945Z",
     "iopub.status.busy": "2022-12-18T10:59:27.603333Z",
     "iopub.status.idle": "2022-12-18T10:59:27.649183Z",
     "shell.execute_reply": "2022-12-18T10:59:27.647528Z"
    },
    "papermill": {
     "duration": 0.241265,
     "end_time": "2022-12-18T10:59:27.651490",
     "exception": false,
     "start_time": "2022-12-18T10:59:27.410225",
     "status": "completed"
    },
    "tags": []
   },
   "outputs": [
    {
     "name": "stdout",
     "output_type": "stream",
     "text": [
      "Accuracy with ANN is: 0.9812998720838155\n",
      "              precision    recall  f1-score   support\n",
      "\n",
      "         0.0       0.99      0.99      0.99     27096\n",
      "         1.0       0.84      0.76      0.80       852\n",
      "         2.0       0.95      0.95      0.95      2161\n",
      "         3.0       0.85      0.76      0.80       232\n",
      "         4.0       0.99      0.98      0.99      2493\n",
      "\n",
      "    accuracy                           0.98     32834\n",
      "   macro avg       0.92      0.89      0.91     32834\n",
      "weighted avg       0.98      0.98      0.98     32834\n",
      "\n"
     ]
    }
   ],
   "source": [
    "print(\"Accuracy with ANN is:\", accuracy_score(y_test,y_pred))\n",
    "print(classification_report(y_test,y_pred))"
   ]
  },
  {
   "cell_type": "code",
   "execution_count": 124,
   "id": "cd20e919",
   "metadata": {
    "execution": {
     "iopub.execute_input": "2022-12-18T10:59:28.038833Z",
     "iopub.status.busy": "2022-12-18T10:59:28.038407Z",
     "iopub.status.idle": "2022-12-18T10:59:28.352108Z",
     "shell.execute_reply": "2022-12-18T10:59:28.351417Z"
    },
    "papermill": {
     "duration": 0.509806,
     "end_time": "2022-12-18T10:59:28.354242",
     "exception": false,
     "start_time": "2022-12-18T10:59:27.844436",
     "status": "completed"
    },
    "tags": []
   },
   "outputs": [
    {
     "data": {
      "image/png": "[encoded data removed]",
      "text/plain": [
       "<Figure size 3000x1000 with 2 Axes>"
      ]
     },
     "metadata": {},
     "output_type": "display_data"
    }
   ],
   "source": [
    "acc = history.history['accuracy']\n",
    "val_acc = history.history['val_accuracy']\n",
    "\n",
    "loss = history.history['loss']\n",
    "val_loss = history.history['val_loss']\n",
    "\n",
    "epochs_range = range(50)\n",
    "\n",
    "plt.figure(figsize=(30, 10))\n",
    "plt.subplot(1, 2, 1)\n",
    "plt.plot(epochs_range, acc, label='Training Accuracy')\n",
    "plt.plot(epochs_range, val_acc, label='Validation Accuracy')\n",
    "plt.legend(loc='lower right')\n",
    "plt.title('Training and Validation Accuracy')\n",
    "\n",
    "plt.subplot(1, 2, 2)\n",
    "plt.plot(epochs_range, loss, label='Training Loss')\n",
    "plt.plot(epochs_range, val_loss, label='Validation Loss')\n",
    "plt.legend(loc='upper right')\n",
    "plt.title('Training and Validation Loss')\n",
    "plt.show()"
   ]
  },
  {
   "cell_type": "code",
   "execution_count": 125,
   "id": "76ab0f9f",
   "metadata": {
    "execution": {
     "iopub.execute_input": "2022-12-18T10:59:28.798661Z",
     "iopub.status.busy": "2022-12-18T10:59:28.798061Z",
     "iopub.status.idle": "2022-12-18T10:59:28.825500Z",
     "shell.execute_reply": "2022-12-18T10:59:28.824654Z"
    },
    "papermill": {
     "duration": 0.224713,
     "end_time": "2022-12-18T10:59:28.827710",
     "exception": false,
     "start_time": "2022-12-18T10:59:28.602997",
     "status": "completed"
    },
    "tags": []
   },
   "outputs": [
    {
     "name": "stdout",
     "output_type": "stream",
     "text": [
      "[[26890   108    62    15    21]\n",
      " [  191   646    11     1     3]\n",
      " [   79     6  2058    15     3]\n",
      " [   37     0    19   176     0]\n",
      " [   27     6    10     0  2450]]\n"
     ]
    }
   ],
   "source": [
    "cf_matrix = confusion_matrix(y_test, y_pred)\n",
    "print(cf_matrix)"
   ]
  },
  {
   "cell_type": "code",
   "execution_count": 126,
   "id": "7cf234c1",
   "metadata": {
    "execution": {
     "iopub.execute_input": "2022-12-18T10:59:29.219677Z",
     "iopub.status.busy": "2022-12-18T10:59:29.219048Z",
     "iopub.status.idle": "2022-12-18T10:59:29.231377Z",
     "shell.execute_reply": "2022-12-18T10:59:29.230334Z"
    },
    "papermill": {
     "duration": 0.210249,
     "end_time": "2022-12-18T10:59:29.233872",
     "exception": false,
     "start_time": "2022-12-18T10:59:29.023623",
     "status": "completed"
    },
    "tags": []
   },
   "outputs": [],
   "source": [
    "import numpy as np\n",
    "\n",
    "\n",
    "def plot_confusion_matrix(cm,\n",
    "                          target_names,\n",
    "                          title='Confusion matrix',\n",
    "                          cmap=None,\n",
    "                          normalize=True):\n",
    "    \"\"\"\n",
    "    given a sklearn confusion matrix (cm), make a nice plot\n",
    "\n",
    "    Arguments\n",
    "    ---------\n",
    "    cm:           confusion matrix from sklearn.metrics.confusion_matrix\n",
    "\n",
    "    target_names: given classification classes such as [0, 1, 2]\n",
    "                  the class names, for example: ['high', 'medium', 'low']\n",
    "\n",
    "    title:        the text to display at the top of the matrix\n",
    "\n",
    "    cmap:         the gradient of the values displayed from matplotlib.pyplot.cm\n",
    "                  see http://matplotlib.org/examples/color/colormaps_reference.html\n",
    "                  plt.get_cmap('jet') or plt.cm.Blues\n",
    "\n",
    "    normalize:    If False, plot the raw numbers\n",
    "                  If True, plot the proportions\n",
    "\n",
    "    Usage\n",
    "    -----\n",
    "    plot_confusion_matrix(cm           = cm,                  # confusion matrix created by\n",
    "                                                              # sklearn.metrics.confusion_matrix\n",
    "                          normalize    = True,                # show proportions\n",
    "                          target_names = y_labels_vals,       # list of names of the classes\n",
    "                          title        = best_estimator_name) # title of graph\n",
    "\n",
    "    Citiation\n",
    "    ---------\n",
    "    http://scikit-learn.org/stable/auto_examples/model_selection/plot_confusion_matrix.html\n",
    "\n",
    "    \"\"\"\n",
    "    import matplotlib.pyplot as plt\n",
    "    import numpy as np\n",
    "    import itertools\n",
    "\n",
    "    accuracy = np.trace(cm) / float(np.sum(cm))\n",
    "    misclass = 1 - accuracy\n",
    "\n",
    "    if cmap is None:\n",
    "        cmap = plt.get_cmap('Blues')\n",
    "\n",
    "    plt.figure(figsize=(12, 8))\n",
    "    plt.imshow(cm, interpolation='nearest', cmap=cmap)\n",
    "    plt.title(title)\n",
    "    plt.colorbar()\n",
    "\n",
    "    if target_names is not None:\n",
    "        tick_marks = np.arange(len(target_names))\n",
    "        plt.xticks(tick_marks, target_names, rotation=45)\n",
    "        plt.yticks(tick_marks, target_names)\n",
    "\n",
    "    if normalize:\n",
    "        cm = cm.astype('float') / cm.sum(axis=1)[:, np.newaxis]\n",
    "\n",
    "\n",
    "    thresh = cm.max() / 1.5 if normalize else cm.max() / 2\n",
    "    for i, j in itertools.product(range(cm.shape[0]), range(cm.shape[1])):\n",
    "        if normalize:\n",
    "            plt.text(j, i, \"{:0.4f}\".format(cm[i, j]),\n",
    "                     horizontalalignment=\"center\",\n",
    "                     color=\"white\" if cm[i, j] > thresh else \"black\")\n",
    "        else:\n",
    "            plt.text(j, i, \"{:,}\".format(cm[i, j]),\n",
    "                     horizontalalignment=\"center\",\n",
    "                     color=\"white\" if cm[i, j] > thresh else \"black\")\n",
    "\n",
    "\n",
    "    plt.tight_layout()\n",
    "    plt.ylabel('True label')\n",
    "    plt.xlabel('Predicted label\\naccuracy={:0.4f}; misclass={:0.4f}'.format(accuracy, misclass))\n",
    "    plt.show()"
   ]
  },
  {
   "cell_type": "code",
   "execution_count": 127,
   "id": "bde5a29c",
   "metadata": {
    "execution": {
     "iopub.execute_input": "2022-12-18T10:59:29.621496Z",
     "iopub.status.busy": "2022-12-18T10:59:29.620766Z",
     "iopub.status.idle": "2022-12-18T10:59:29.889317Z",
     "shell.execute_reply": "2022-12-18T10:59:29.887731Z"
    },
    "papermill": {
     "duration": 0.466005,
     "end_time": "2022-12-18T10:59:29.892309",
     "exception": false,
     "start_time": "2022-12-18T10:59:29.426304",
     "status": "completed"
    },
    "tags": []
   },
   "outputs": [
    {
     "data": {
      "image/png": "[encoded data removed]",
      "text/plain": [
       "<Figure size 1200x800 with 2 Axes>"
      ]
     },
     "metadata": {},
     "output_type": "display_data"
    }
   ],
   "source": [
    "plot_confusion_matrix(cf_matrix,\n",
    "                      normalize    = False,\n",
    "                      target_names = [\"Normal Beat (N:0)\",\n",
    "                                         \"Supraventricular (S:1)\",\n",
    "                                         \"Ventricular (V:2)\",\n",
    "                                         \"Fusion (F:3)\",\n",
    "                                         \"Unknown (Q:4)\"],\n",
    "                      title        = \"Confusion Matrix\")"
   ]
  },
  {
   "cell_type": "markdown",
   "id": "9c9b5ba6",
   "metadata": {
    "papermill": {
     "duration": 0.198132,
     "end_time": "2022-12-18T10:59:30.285920",
     "exception": false,
     "start_time": "2022-12-18T10:59:30.087788",
     "status": "completed"
    },
    "tags": []
   },
   "source": [
    "# KNN "
   ]
  },
  {
   "cell_type": "code",
   "execution_count": 128,
   "id": "b4d59046",
   "metadata": {
    "execution": {
     "iopub.execute_input": "2022-12-18T10:59:30.733957Z",
     "iopub.status.busy": "2022-12-18T10:59:30.733560Z",
     "iopub.status.idle": "2022-12-18T10:59:30.737430Z",
     "shell.execute_reply": "2022-12-18T10:59:30.736529Z"
    },
    "papermill": {
     "duration": 0.257691,
     "end_time": "2022-12-18T10:59:30.739994",
     "exception": false,
     "start_time": "2022-12-18T10:59:30.482303",
     "status": "completed"
    },
    "tags": []
   },
   "outputs": [],
   "source": [
    "from sklearn.neighbors import KNeighborsClassifier as KNN"
   ]
  },
  {
   "cell_type": "code",
   "execution_count": 129,
   "id": "276a487b",
   "metadata": {
    "execution": {
     "iopub.execute_input": "2022-12-18T10:59:31.126032Z",
     "iopub.status.busy": "2022-12-18T10:59:31.125723Z",
     "iopub.status.idle": "2022-12-18T10:59:31.149930Z",
     "shell.execute_reply": "2022-12-18T10:59:31.149129Z"
    },
    "papermill": {
     "duration": 0.220614,
     "end_time": "2022-12-18T10:59:31.152333",
     "exception": false,
     "start_time": "2022-12-18T10:59:30.931719",
     "status": "completed"
    },
    "tags": []
   },
   "outputs": [
    {
     "data": {
      "text/html": [
       "<style>#sk-container-id-3 {\n",
       "  /* Definition of color scheme common for light and dark mode */\n",
       "  --sklearn-color-text: #000;\n",
       "  --sklearn-color-text-muted: #666;\n",
       "  --sklearn-color-line: gray;\n",
       "  /* Definition of color scheme for unfitted estimators */\n",
       "  --sklearn-color-unfitted-level-0: #fff5e6;\n",
       "  --sklearn-color-unfitted-level-1: #f6e4d2;\n",
       "  --sklearn-color-unfitted-level-2: #ffe0b3;\n",
       "  --sklearn-color-unfitted-level-3: chocolate;\n",
       "  /* Definition of color scheme for fitted estimators */\n",
       "  --sklearn-color-fitted-level-0: #f0f8ff;\n",
       "  --sklearn-color-fitted-level-1: #d4ebff;\n",
       "  --sklearn-color-fitted-level-2: #b3dbfd;\n",
       "  --sklearn-color-fitted-level-3: cornflowerblue;\n",
       "\n",
       "  /* Specific color for light theme */\n",
       "  --sklearn-color-text-on-default-background: var(--sg-text-color, var(--theme-code-foreground, var(--jp-content-font-color1, black)));\n",
       "  --sklearn-color-background: var(--sg-background-color, var(--theme-background, var(--jp-layout-color0, white)));\n",
       "  --sklearn-color-border-box: var(--sg-text-color, var(--theme-code-foreground, var(--jp-content-font-color1, black)));\n",
       "  --sklearn-color-icon: #696969;\n",
       "\n",
       "  @media (prefers-color-scheme: dark) {\n",
       "    /* Redefinition of color scheme for dark theme */\n",
       "    --sklearn-color-text-on-default-background: var(--sg-text-color, var(--theme-code-foreground, var(--jp-content-font-color1, white)));\n",
       "    --sklearn-color-background: var(--sg-background-color, var(--theme-background, var(--jp-layout-color0, #111)));\n",
       "    --sklearn-color-border-box: var(--sg-text-color, var(--theme-code-foreground, var(--jp-content-font-color1, white)));\n",
       "    --sklearn-color-icon: #878787;\n",
       "  }\n",
       "}\n",
       "\n",
       "#sk-container-id-3 {\n",
       "  color: var(--sklearn-color-text);\n",
       "}\n",
       "\n",
       "#sk-container-id-3 pre {\n",
       "  padding: 0;\n",
       "}\n",
       "\n",
       "#sk-container-id-3 input.sk-hidden--visually {\n",
       "  border: 0;\n",
       "  clip: rect(1px 1px 1px 1px);\n",
       "  clip: rect(1px, 1px, 1px, 1px);\n",
       "  height: 1px;\n",
       "  margin: -1px;\n",
       "  overflow: hidden;\n",
       "  padding: 0;\n",
       "  position: absolute;\n",
       "  width: 1px;\n",
       "}\n",
       "\n",
       "#sk-container-id-3 div.sk-dashed-wrapped {\n",
       "  border: 1px dashed var(--sklearn-color-line);\n",
       "  margin: 0 0.4em 0.5em 0.4em;\n",
       "  box-sizing: border-box;\n",
       "  padding-bottom: 0.4em;\n",
       "  background-color: var(--sklearn-color-background);\n",
       "}\n",
       "\n",
       "#sk-container-id-3 div.sk-container {\n",
       "  /* jupyter's `normalize.less` sets `[hidden] { display: none; }`\n",
       "     but bootstrap.min.css set `[hidden] { display: none !important; }`\n",
       "     so we also need the `!important` here to be able to override the\n",
       "     default hidden behavior on the sphinx rendered scikit-learn.org.\n",
       "     See: https://github.com/scikit-learn/scikit-learn/issues/21755 */\n",
       "  display: inline-block !important;\n",
       "  position: relative;\n",
       "}\n",
       "\n",
       "#sk-container-id-3 div.sk-text-repr-fallback {\n",
       "  display: none;\n",
       "}\n",
       "\n",
       "div.sk-parallel-item,\n",
       "div.sk-serial,\n",
       "div.sk-item {\n",
       "  /* draw centered vertical line to link estimators */\n",
       "  background-image: linear-gradient(var(--sklearn-color-text-on-default-background), var(--sklearn-color-text-on-default-background));\n",
       "  background-size: 2px 100%;\n",
       "  background-repeat: no-repeat;\n",
       "  background-position: center center;\n",
       "}\n",
       "\n",
       "/* Parallel-specific style estimator block */\n",
       "\n",
       "#sk-container-id-3 div.sk-parallel-item::after {\n",
       "  content: \"\";\n",
       "  width: 100%;\n",
       "  border-bottom: 2px solid var(--sklearn-color-text-on-default-background);\n",
       "  flex-grow: 1;\n",
       "}\n",
       "\n",
       "#sk-container-id-3 div.sk-parallel {\n",
       "  display: flex;\n",
       "  align-items: stretch;\n",
       "  justify-content: center;\n",
       "  background-color: var(--sklearn-color-background);\n",
       "  position: relative;\n",
       "}\n",
       "\n",
       "#sk-container-id-3 div.sk-parallel-item {\n",
       "  display: flex;\n",
       "  flex-direction: column;\n",
       "}\n",
       "\n",
       "#sk-container-id-3 div.sk-parallel-item:first-child::after {\n",
       "  align-self: flex-end;\n",
       "  width: 50%;\n",
       "}\n",
       "\n",
       "#sk-container-id-3 div.sk-parallel-item:last-child::after {\n",
       "  align-self: flex-start;\n",
       "  width: 50%;\n",
       "}\n",
       "\n",
       "#sk-container-id-3 div.sk-parallel-item:only-child::after {\n",
       "  width: 0;\n",
       "}\n",
       "\n",
       "/* Serial-specific style estimator block */\n",
       "\n",
       "#sk-container-id-3 div.sk-serial {\n",
       "  display: flex;\n",
       "  flex-direction: column;\n",
       "  align-items: center;\n",
       "  background-color: var(--sklearn-color-background);\n",
       "  padding-right: 1em;\n",
       "  padding-left: 1em;\n",
       "}\n",
       "\n",
       "\n",
       "/* Toggleable style: style used for estimator/Pipeline/ColumnTransformer box that is\n",
       "clickable and can be expanded/collapsed.\n",
       "- Pipeline and ColumnTransformer use this feature and define the default style\n",
       "- Estimators will overwrite some part of the style using the `sk-estimator` class\n",
       "*/\n",
       "\n",
       "/* Pipeline and ColumnTransformer style (default) */\n",
       "\n",
       "#sk-container-id-3 div.sk-toggleable {\n",
       "  /* Default theme specific background. It is overwritten whether we have a\n",
       "  specific estimator or a Pipeline/ColumnTransformer */\n",
       "  background-color: var(--sklearn-color-background);\n",
       "}\n",
       "\n",
       "/* Toggleable label */\n",
       "#sk-container-id-3 label.sk-toggleable__label {\n",
       "  cursor: pointer;\n",
       "  display: flex;\n",
       "  width: 100%;\n",
       "  margin-bottom: 0;\n",
       "  padding: 0.5em;\n",
       "  box-sizing: border-box;\n",
       "  text-align: center;\n",
       "  align-items: start;\n",
       "  justify-content: space-between;\n",
       "  gap: 0.5em;\n",
       "}\n",
       "\n",
       "#sk-container-id-3 label.sk-toggleable__label .caption {\n",
       "  font-size: 0.6rem;\n",
       "  font-weight: lighter;\n",
       "  color: var(--sklearn-color-text-muted);\n",
       "}\n",
       "\n",
       "#sk-container-id-3 label.sk-toggleable__label-arrow:before {\n",
       "  /* Arrow on the left of the label */\n",
       "  content: \"▸\";\n",
       "  float: left;\n",
       "  margin-right: 0.25em;\n",
       "  color: var(--sklearn-color-icon);\n",
       "}\n",
       "\n",
       "#sk-container-id-3 label.sk-toggleable__label-arrow:hover:before {\n",
       "  color: var(--sklearn-color-text);\n",
       "}\n",
       "\n",
       "/* Toggleable content - dropdown */\n",
       "\n",
       "#sk-container-id-3 div.sk-toggleable__content {\n",
       "  max-height: 0;\n",
       "  max-width: 0;\n",
       "  overflow: hidden;\n",
       "  text-align: left;\n",
       "  /* unfitted */\n",
       "  background-color: var(--sklearn-color-unfitted-level-0);\n",
       "}\n",
       "\n",
       "#sk-container-id-3 div.sk-toggleable__content.fitted {\n",
       "  /* fitted */\n",
       "  background-color: var(--sklearn-color-fitted-level-0);\n",
       "}\n",
       "\n",
       "#sk-container-id-3 div.sk-toggleable__content pre {\n",
       "  margin: 0.2em;\n",
       "  border-radius: 0.25em;\n",
       "  color: var(--sklearn-color-text);\n",
       "  /* unfitted */\n",
       "  background-color: var(--sklearn-color-unfitted-level-0);\n",
       "}\n",
       "\n",
       "#sk-container-id-3 div.sk-toggleable__content.fitted pre {\n",
       "  /* unfitted */\n",
       "  background-color: var(--sklearn-color-fitted-level-0);\n",
       "}\n",
       "\n",
       "#sk-container-id-3 input.sk-toggleable__control:checked~div.sk-toggleable__content {\n",
       "  /* Expand drop-down */\n",
       "  max-height: 200px;\n",
       "  max-width: 100%;\n",
       "  overflow: auto;\n",
       "}\n",
       "\n",
       "#sk-container-id-3 input.sk-toggleable__control:checked~label.sk-toggleable__label-arrow:before {\n",
       "  content: \"▾\";\n",
       "}\n",
       "\n",
       "/* Pipeline/ColumnTransformer-specific style */\n",
       "\n",
       "#sk-container-id-3 div.sk-label input.sk-toggleable__control:checked~label.sk-toggleable__label {\n",
       "  color: var(--sklearn-color-text);\n",
       "  background-color: var(--sklearn-color-unfitted-level-2);\n",
       "}\n",
       "\n",
       "#sk-container-id-3 div.sk-label.fitted input.sk-toggleable__control:checked~label.sk-toggleable__label {\n",
       "  background-color: var(--sklearn-color-fitted-level-2);\n",
       "}\n",
       "\n",
       "/* Estimator-specific style */\n",
       "\n",
       "/* Colorize estimator box */\n",
       "#sk-container-id-3 div.sk-estimator input.sk-toggleable__control:checked~label.sk-toggleable__label {\n",
       "  /* unfitted */\n",
       "  background-color: var(--sklearn-color-unfitted-level-2);\n",
       "}\n",
       "\n",
       "#sk-container-id-3 div.sk-estimator.fitted input.sk-toggleable__control:checked~label.sk-toggleable__label {\n",
       "  /* fitted */\n",
       "  background-color: var(--sklearn-color-fitted-level-2);\n",
       "}\n",
       "\n",
       "#sk-container-id-3 div.sk-label label.sk-toggleable__label,\n",
       "#sk-container-id-3 div.sk-label label {\n",
       "  /* The background is the default theme color */\n",
       "  color: var(--sklearn-color-text-on-default-background);\n",
       "}\n",
       "\n",
       "/* On hover, darken the color of the background */\n",
       "#sk-container-id-3 div.sk-label:hover label.sk-toggleable__label {\n",
       "  color: var(--sklearn-color-text);\n",
       "  background-color: var(--sklearn-color-unfitted-level-2);\n",
       "}\n",
       "\n",
       "/* Label box, darken color on hover, fitted */\n",
       "#sk-container-id-3 div.sk-label.fitted:hover label.sk-toggleable__label.fitted {\n",
       "  color: var(--sklearn-color-text);\n",
       "  background-color: var(--sklearn-color-fitted-level-2);\n",
       "}\n",
       "\n",
       "/* Estimator label */\n",
       "\n",
       "#sk-container-id-3 div.sk-label label {\n",
       "  font-family: monospace;\n",
       "  font-weight: bold;\n",
       "  display: inline-block;\n",
       "  line-height: 1.2em;\n",
       "}\n",
       "\n",
       "#sk-container-id-3 div.sk-label-container {\n",
       "  text-align: center;\n",
       "}\n",
       "\n",
       "/* Estimator-specific */\n",
       "#sk-container-id-3 div.sk-estimator {\n",
       "  font-family: monospace;\n",
       "  border: 1px dotted var(--sklearn-color-border-box);\n",
       "  border-radius: 0.25em;\n",
       "  box-sizing: border-box;\n",
       "  margin-bottom: 0.5em;\n",
       "  /* unfitted */\n",
       "  background-color: var(--sklearn-color-unfitted-level-0);\n",
       "}\n",
       "\n",
       "#sk-container-id-3 div.sk-estimator.fitted {\n",
       "  /* fitted */\n",
       "  background-color: var(--sklearn-color-fitted-level-0);\n",
       "}\n",
       "\n",
       "/* on hover */\n",
       "#sk-container-id-3 div.sk-estimator:hover {\n",
       "  /* unfitted */\n",
       "  background-color: var(--sklearn-color-unfitted-level-2);\n",
       "}\n",
       "\n",
       "#sk-container-id-3 div.sk-estimator.fitted:hover {\n",
       "  /* fitted */\n",
       "  background-color: var(--sklearn-color-fitted-level-2);\n",
       "}\n",
       "\n",
       "/* Specification for estimator info (e.g. \"i\" and \"?\") */\n",
       "\n",
       "/* Common style for \"i\" and \"?\" */\n",
       "\n",
       ".sk-estimator-doc-link,\n",
       "a:link.sk-estimator-doc-link,\n",
       "a:visited.sk-estimator-doc-link {\n",
       "  float: right;\n",
       "  font-size: smaller;\n",
       "  line-height: 1em;\n",
       "  font-family: monospace;\n",
       "  background-color: var(--sklearn-color-background);\n",
       "  border-radius: 1em;\n",
       "  height: 1em;\n",
       "  width: 1em;\n",
       "  text-decoration: none !important;\n",
       "  margin-left: 0.5em;\n",
       "  text-align: center;\n",
       "  /* unfitted */\n",
       "  border: var(--sklearn-color-unfitted-level-1) 1pt solid;\n",
       "  color: var(--sklearn-color-unfitted-level-1);\n",
       "}\n",
       "\n",
       ".sk-estimator-doc-link.fitted,\n",
       "a:link.sk-estimator-doc-link.fitted,\n",
       "a:visited.sk-estimator-doc-link.fitted {\n",
       "  /* fitted */\n",
       "  border: var(--sklearn-color-fitted-level-1) 1pt solid;\n",
       "  color: var(--sklearn-color-fitted-level-1);\n",
       "}\n",
       "\n",
       "/* On hover */\n",
       "div.sk-estimator:hover .sk-estimator-doc-link:hover,\n",
       ".sk-estimator-doc-link:hover,\n",
       "div.sk-label-container:hover .sk-estimator-doc-link:hover,\n",
       ".sk-estimator-doc-link:hover {\n",
       "  /* unfitted */\n",
       "  background-color: var(--sklearn-color-unfitted-level-3);\n",
       "  color: var(--sklearn-color-background);\n",
       "  text-decoration: none;\n",
       "}\n",
       "\n",
       "div.sk-estimator.fitted:hover .sk-estimator-doc-link.fitted:hover,\n",
       ".sk-estimator-doc-link.fitted:hover,\n",
       "div.sk-label-container:hover .sk-estimator-doc-link.fitted:hover,\n",
       ".sk-estimator-doc-link.fitted:hover {\n",
       "  /* fitted */\n",
       "  background-color: var(--sklearn-color-fitted-level-3);\n",
       "  color: var(--sklearn-color-background);\n",
       "  text-decoration: none;\n",
       "}\n",
       "\n",
       "/* Span, style for the box shown on hovering the info icon */\n",
       ".sk-estimator-doc-link span {\n",
       "  display: none;\n",
       "  z-index: 9999;\n",
       "  position: relative;\n",
       "  font-weight: normal;\n",
       "  right: .2ex;\n",
       "  padding: .5ex;\n",
       "  margin: .5ex;\n",
       "  width: min-content;\n",
       "  min-width: 20ex;\n",
       "  max-width: 50ex;\n",
       "  color: var(--sklearn-color-text);\n",
       "  box-shadow: 2pt 2pt 4pt #999;\n",
       "  /* unfitted */\n",
       "  background: var(--sklearn-color-unfitted-level-0);\n",
       "  border: .5pt solid var(--sklearn-color-unfitted-level-3);\n",
       "}\n",
       "\n",
       ".sk-estimator-doc-link.fitted span {\n",
       "  /* fitted */\n",
       "  background: var(--sklearn-color-fitted-level-0);\n",
       "  border: var(--sklearn-color-fitted-level-3);\n",
       "}\n",
       "\n",
       ".sk-estimator-doc-link:hover span {\n",
       "  display: block;\n",
       "}\n",
       "\n",
       "/* \"?\"-specific style due to the `<a>` HTML tag */\n",
       "\n",
       "#sk-container-id-3 a.estimator_doc_link {\n",
       "  float: right;\n",
       "  font-size: 1rem;\n",
       "  line-height: 1em;\n",
       "  font-family: monospace;\n",
       "  background-color: var(--sklearn-color-background);\n",
       "  border-radius: 1rem;\n",
       "  height: 1rem;\n",
       "  width: 1rem;\n",
       "  text-decoration: none;\n",
       "  /* unfitted */\n",
       "  color: var(--sklearn-color-unfitted-level-1);\n",
       "  border: var(--sklearn-color-unfitted-level-1) 1pt solid;\n",
       "}\n",
       "\n",
       "#sk-container-id-3 a.estimator_doc_link.fitted {\n",
       "  /* fitted */\n",
       "  border: var(--sklearn-color-fitted-level-1) 1pt solid;\n",
       "  color: var(--sklearn-color-fitted-level-1);\n",
       "}\n",
       "\n",
       "/* On hover */\n",
       "#sk-container-id-3 a.estimator_doc_link:hover {\n",
       "  /* unfitted */\n",
       "  background-color: var(--sklearn-color-unfitted-level-3);\n",
       "  color: var(--sklearn-color-background);\n",
       "  text-decoration: none;\n",
       "}\n",
       "\n",
       "#sk-container-id-3 a.estimator_doc_link.fitted:hover {\n",
       "  /* fitted */\n",
       "  background-color: var(--sklearn-color-fitted-level-3);\n",
       "}\n",
       "</style><div id=\"sk-container-id-3\" class=\"sk-top-container\"><div class=\"sk-text-repr-fallback\"><pre>KNeighborsClassifier()</pre><b>In a Jupyter environment, please rerun this cell to show the HTML representation or trust the notebook. <br />On GitHub, the HTML representation is unable to render, please try loading this page with nbviewer.org.</b></div><div class=\"sk-container\" hidden><div class=\"sk-item\"><div class=\"sk-estimator fitted sk-toggleable\"><input class=\"sk-toggleable__control sk-hidden--visually\" id=\"sk-estimator-id-3\" type=\"checkbox\" checked><label for=\"sk-estimator-id-3\" class=\"sk-toggleable__label fitted sk-toggleable__label-arrow\"><div><div>KNeighborsClassifier</div></div><div><a class=\"sk-estimator-doc-link fitted\" rel=\"noreferrer\" target=\"_blank\" href=\"https://scikit-learn.org/1.6/modules/generated/sklearn.neighbors.KNeighborsClassifier.html\">?<span>Documentation for KNeighborsClassifier</span></a><span class=\"sk-estimator-doc-link fitted\">i<span>Fitted</span></span></div></label><div class=\"sk-toggleable__content fitted\"><pre>KNeighborsClassifier()</pre></div> </div></div></div></div>"
      ],
      "text/plain": [
       "KNeighborsClassifier()"
      ]
     },
     "execution_count": 129,
     "metadata": {},
     "output_type": "execute_result"
    }
   ],
   "source": [
    "knn_model = KNN(n_neighbors=5)\n",
    "knn_model.fit(X_train, y_train)"
   ]
  },
  {
   "cell_type": "code",
   "execution_count": 130,
   "id": "604c5e0c",
   "metadata": {},
   "outputs": [
    {
     "name": "stdout",
     "output_type": "stream",
     "text": [
      "Saved new best KNN model with test accuracy: 0.9751\n"
     ]
    }
   ],
   "source": [
    "# Save only the KNN model with the highest test accuracy\n",
    "import joblib\n",
    "test_acc = accuracy_score(y_test, pred)\n",
    "if not 'knn_best_acc' in globals() or test_acc > knn_best_acc:\n",
    "    knn_best_acc = test_acc\n",
    "    joblib.dump(knn_model, 'ecg_knn_best.joblib')\n",
    "    print(f\"Saved new best KNN model with test accuracy: {knn_best_acc:.4f}\")"
   ]
  },
  {
   "cell_type": "code",
   "execution_count": 131,
   "id": "e206ab36",
   "metadata": {
    "execution": {
     "iopub.execute_input": "2022-12-18T10:59:31.542451Z",
     "iopub.status.busy": "2022-12-18T10:59:31.541973Z",
     "iopub.status.idle": "2022-12-18T11:00:16.371040Z",
     "shell.execute_reply": "2022-12-18T11:00:16.369567Z"
    },
    "papermill": {
     "duration": 45.027054,
     "end_time": "2022-12-18T11:00:16.373865",
     "exception": false,
     "start_time": "2022-12-18T10:59:31.346811",
     "status": "completed"
    },
    "tags": []
   },
   "outputs": [],
   "source": [
    "pred = knn_model.predict(X_test)"
   ]
  },
  {
   "cell_type": "code",
   "execution_count": 132,
   "id": "694e51ae",
   "metadata": {
    "execution": {
     "iopub.execute_input": "2022-12-18T11:00:16.767799Z",
     "iopub.status.busy": "2022-12-18T11:00:16.767418Z",
     "iopub.status.idle": "2022-12-18T11:00:16.773765Z",
     "shell.execute_reply": "2022-12-18T11:00:16.772692Z"
    },
    "papermill": {
     "duration": 0.206076,
     "end_time": "2022-12-18T11:00:16.775516",
     "exception": false,
     "start_time": "2022-12-18T11:00:16.569440",
     "status": "completed"
    },
    "tags": []
   },
   "outputs": [
    {
     "data": {
      "text/plain": [
       "array([0., 4., 0., ..., 0., 0., 0.])"
      ]
     },
     "execution_count": 132,
     "metadata": {},
     "output_type": "execute_result"
    }
   ],
   "source": [
    "pred"
   ]
  },
  {
   "cell_type": "code",
   "execution_count": null,
   "id": "003cf94e",
   "metadata": {},
   "outputs": [],
   "source": []
  },
  {
   "cell_type": "code",
   "execution_count": 133,
   "id": "e890d713",
   "metadata": {
    "execution": {
     "iopub.execute_input": "2022-12-18T11:00:17.165929Z",
     "iopub.status.busy": "2022-12-18T11:00:17.165289Z",
     "iopub.status.idle": "2022-12-18T11:00:17.173009Z",
     "shell.execute_reply": "2022-12-18T11:00:17.171354Z"
    },
    "papermill": {
     "duration": 0.206626,
     "end_time": "2022-12-18T11:00:17.175323",
     "exception": false,
     "start_time": "2022-12-18T11:00:16.968697",
     "status": "completed"
    },
    "tags": []
   },
   "outputs": [
    {
     "name": "stdout",
     "output_type": "stream",
     "text": [
      "Accuracy KNN: 0.975056\n"
     ]
    }
   ],
   "source": [
    "print('Accuracy KNN: %f' % (accuracy_score(y_test, pred)))"
   ]
  },
  {
   "cell_type": "code",
   "execution_count": 134,
   "id": "bcffb90b",
   "metadata": {
    "execution": {
     "iopub.execute_input": "2022-12-18T11:00:17.629002Z",
     "iopub.status.busy": "2022-12-18T11:00:17.628637Z",
     "iopub.status.idle": "2022-12-18T11:00:17.659549Z",
     "shell.execute_reply": "2022-12-18T11:00:17.657221Z"
    },
    "papermill": {
     "duration": 0.282934,
     "end_time": "2022-12-18T11:00:17.662215",
     "exception": false,
     "start_time": "2022-12-18T11:00:17.379281",
     "status": "completed"
    },
    "tags": []
   },
   "outputs": [
    {
     "name": "stdout",
     "output_type": "stream",
     "text": [
      "[[26934    43    90    11    18]\n",
      " [  274   569     9     0     0]\n",
      " [  173     5  1965    13     5]\n",
      " [   55     0    24   153     0]\n",
      " [   82     2    15     0  2394]]\n"
     ]
    }
   ],
   "source": [
    "knn_cf=confusion_matrix(y_test, pred)\n",
    "print(knn_cf)"
   ]
  },
  {
   "cell_type": "code",
   "execution_count": 135,
   "id": "11c6e9d5",
   "metadata": {
    "execution": {
     "iopub.execute_input": "2022-12-18T11:00:18.052200Z",
     "iopub.status.busy": "2022-12-18T11:00:18.051563Z",
     "iopub.status.idle": "2022-12-18T11:00:18.523136Z",
     "shell.execute_reply": "2022-12-18T11:00:18.521785Z"
    },
    "papermill": {
     "duration": 0.669045,
     "end_time": "2022-12-18T11:00:18.525341",
     "exception": false,
     "start_time": "2022-12-18T11:00:17.856296",
     "status": "completed"
    },
    "tags": []
   },
   "outputs": [
    {
     "data": {
      "image/png": "[encoded data removed]",
      "text/plain": [
       "<Figure size 1200x800 with 2 Axes>"
      ]
     },
     "metadata": {},
     "output_type": "display_data"
    }
   ],
   "source": [
    "plot_confusion_matrix(knn_cf,\n",
    "                      normalize    = False,\n",
    "                      target_names = [\"Normal Beat (N:0)\",\n",
    "                                         \"Supraventricular (S:1)\",\n",
    "                                         \"Ventricular (V:2)\",\n",
    "                                         \"Fusion (F:3)\",\n",
    "                                         \"Unknown (Q:4)\"],\n",
    "                      title        = \"Confusion Matrix for KNN classifier\")"
   ]
  }
 ],
 "metadata": {
  "kernelspec": {
   "display_name": "Python 3",
   "language": "python",
   "name": "python3"
  },
  "language_info": {
   "codemirror_mode": {
    "name": "ipython",
    "version": 3
   },
   "file_extension": ".py",
   "mimetype": "text/x-python",
   "name": "python",
   "nbconvert_exporter": "python",
   "pygments_lexer": "ipython3",
   "version": "3.11.4"
  },
  "papermill": {
   "default_parameters": {},
   "duration": 289.163617,
   "end_time": "2022-12-18T11:00:21.775677",
   "environment_variables": {},
   "exception": null,
   "input_path": "__notebook__.ipynb",
   "output_path": "__notebook__.ipynb",
   "parameters": {},
   "start_time": "2022-12-18T10:55:32.612060",
   "version": "2.3.4"
  }
 },
 "nbformat": 4,
 "nbformat_minor": 5
}
